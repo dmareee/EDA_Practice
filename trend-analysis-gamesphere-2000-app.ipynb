{
 "cells": [
  {
   "cell_type": "code",
   "execution_count": 1,
   "id": "deb16086",
   "metadata": {
    "_cell_guid": "b1076dfc-b9ad-4769-8c92-a6c4dae69d19",
    "_uuid": "8f2839f25d086af736a60e9eeb907d3b93b6e0e5",
    "execution": {
     "iopub.execute_input": "2024-03-01T06:55:12.307882Z",
     "iopub.status.busy": "2024-03-01T06:55:12.307178Z",
     "iopub.status.idle": "2024-03-01T06:55:14.536537Z",
     "shell.execute_reply": "2024-03-01T06:55:14.535228Z"
    },
    "papermill": {
     "duration": 2.237566,
     "end_time": "2024-03-01T06:55:14.539338",
     "exception": false,
     "start_time": "2024-03-01T06:55:12.301772",
     "status": "completed"
    },
    "tags": []
   },
   "outputs": [
    {
     "name": "stdout",
     "output_type": "stream",
     "text": [
      "/kaggle/input/gamesphere-2000-app-store-insights-and-ratings/2000_games_appstore.csv\n"
     ]
    }
   ],
   "source": [
    "# This Python 3 environment comes with many helpful analytics libraries installed\n",
    "# It is defined by the kaggle/python Docker image: https://github.com/kaggle/docker-python\n",
    "# For example, here's several helpful packages to load\n",
    "\n",
    "import numpy as np # linear algebra\n",
    "import pandas as pd # data processing, CSV file I/O (e.g. pd.read_csv)\n",
    "import seaborn as sns\n",
    "import matplotlib.pyplot as plt\n",
    "\n",
    "# Input data files are available in the read-only \"../input/\" directory\n",
    "# For example, running this (by clicking run or pressing Shift+Enter) will list all files under the input directory\n",
    "\n",
    "import os\n",
    "for dirname, _, filenames in os.walk('/kaggle/input'):\n",
    "    for filename in filenames:\n",
    "        print(os.path.join(dirname, filename))\n",
    "\n",
    "# You can write up to 20GB to the current directory (/kaggle/working/) that gets preserved as output when you create a version using \"Save & Run All\" \n",
    "# You can also write temporary files to /kaggle/temp/, but they won't be saved outside of the current session"
   ]
  },
  {
   "cell_type": "markdown",
   "id": "0eba42d5",
   "metadata": {
    "papermill": {
     "duration": 0.003583,
     "end_time": "2024-03-01T06:55:14.547463",
     "exception": false,
     "start_time": "2024-03-01T06:55:14.543880",
     "status": "completed"
    },
    "tags": []
   },
   "source": [
    "## Mount Data"
   ]
  },
  {
   "cell_type": "code",
   "execution_count": 2,
   "id": "88c58121",
   "metadata": {
    "execution": {
     "iopub.execute_input": "2024-03-01T06:55:14.555919Z",
     "iopub.status.busy": "2024-03-01T06:55:14.555473Z",
     "iopub.status.idle": "2024-03-01T06:55:14.697427Z",
     "shell.execute_reply": "2024-03-01T06:55:14.696106Z"
    },
    "papermill": {
     "duration": 0.148803,
     "end_time": "2024-03-01T06:55:14.699626",
     "exception": false,
     "start_time": "2024-03-01T06:55:14.550823",
     "status": "completed"
    },
    "tags": []
   },
   "outputs": [
    {
     "data": {
      "text/html": [
       "<div>\n",
       "<style scoped>\n",
       "    .dataframe tbody tr th:only-of-type {\n",
       "        vertical-align: middle;\n",
       "    }\n",
       "\n",
       "    .dataframe tbody tr th {\n",
       "        vertical-align: top;\n",
       "    }\n",
       "\n",
       "    .dataframe thead th {\n",
       "        text-align: right;\n",
       "    }\n",
       "</style>\n",
       "<table border=\"1\" class=\"dataframe\">\n",
       "  <thead>\n",
       "    <tr style=\"text-align: right;\">\n",
       "      <th></th>\n",
       "      <th>artistName</th>\n",
       "      <th>averageUserRating</th>\n",
       "      <th>averageUserRatingForCurrentVersion</th>\n",
       "      <th>contentAdvisoryRating</th>\n",
       "      <th>description</th>\n",
       "      <th>fileSizeBytes</th>\n",
       "      <th>isGameCenterEnabled</th>\n",
       "      <th>minimumOsVersion</th>\n",
       "      <th>price</th>\n",
       "      <th>primaryGenreId</th>\n",
       "      <th>releaseDate</th>\n",
       "      <th>trackName</th>\n",
       "      <th>userRatingCount</th>\n",
       "      <th>releaseNotes</th>\n",
       "    </tr>\n",
       "  </thead>\n",
       "  <tbody>\n",
       "    <tr>\n",
       "      <th>0</th>\n",
       "      <td>Ynfo SAS di Graziano Gennaro &amp; Co.</td>\n",
       "      <td>4.67589</td>\n",
       "      <td>4.67589</td>\n",
       "      <td>4+</td>\n",
       "      <td>Sticker GO! is the first app that helps you co...</td>\n",
       "      <td>36927488</td>\n",
       "      <td>False</td>\n",
       "      <td>12.0</td>\n",
       "      <td>0.0</td>\n",
       "      <td>6014</td>\n",
       "      <td>2024-02-08T08:00:00Z</td>\n",
       "      <td>Sticker GO!</td>\n",
       "      <td>253</td>\n",
       "      <td>Performance improvement</td>\n",
       "    </tr>\n",
       "    <tr>\n",
       "      <th>1</th>\n",
       "      <td>Hungry Studio</td>\n",
       "      <td>4.86087</td>\n",
       "      <td>4.86087</td>\n",
       "      <td>12+</td>\n",
       "      <td>Block Blast: A perfect mix of block and jigsaw...</td>\n",
       "      <td>154926080</td>\n",
       "      <td>True</td>\n",
       "      <td>12.0</td>\n",
       "      <td>0.0</td>\n",
       "      <td>6014</td>\n",
       "      <td>2022-04-03T07:00:00Z</td>\n",
       "      <td>Block Blast！</td>\n",
       "      <td>253100</td>\n",
       "      <td>- Bug fixes and performance improvements.\\n- S...</td>\n",
       "    </tr>\n",
       "    <tr>\n",
       "      <th>2</th>\n",
       "      <td>Scopely, Inc.</td>\n",
       "      <td>4.81924</td>\n",
       "      <td>4.81924</td>\n",
       "      <td>9+</td>\n",
       "      <td>Hit GO! Roll the dice! Earn MONOPOLY money, in...</td>\n",
       "      <td>249300992</td>\n",
       "      <td>True</td>\n",
       "      <td>13.0</td>\n",
       "      <td>0.0</td>\n",
       "      <td>6014</td>\n",
       "      <td>2023-04-11T07:00:00Z</td>\n",
       "      <td>MONOPOLY GO!</td>\n",
       "      <td>2076657</td>\n",
       "      <td>We've got a WILD update for you, Tycoons.\\n\\nG...</td>\n",
       "    </tr>\n",
       "    <tr>\n",
       "      <th>3</th>\n",
       "      <td>ABIGAMES PTE. LTD</td>\n",
       "      <td>4.52683</td>\n",
       "      <td>4.52683</td>\n",
       "      <td>9+</td>\n",
       "      <td>Introducing Wood Nuts &amp; Bolts Puzzle, a captiv...</td>\n",
       "      <td>243209216</td>\n",
       "      <td>False</td>\n",
       "      <td>12.0</td>\n",
       "      <td>0.0</td>\n",
       "      <td>6014</td>\n",
       "      <td>2023-11-22T08:00:00Z</td>\n",
       "      <td>Wood Nuts &amp; Bolts Puzzle</td>\n",
       "      <td>54892</td>\n",
       "      <td>- Update levels.</td>\n",
       "    </tr>\n",
       "    <tr>\n",
       "      <th>4</th>\n",
       "      <td>Lion Studios Plus</td>\n",
       "      <td>4.74130</td>\n",
       "      <td>4.74130</td>\n",
       "      <td>12+</td>\n",
       "      <td>Hexa Sort offers a delightful blend of puzzle ...</td>\n",
       "      <td>323801088</td>\n",
       "      <td>False</td>\n",
       "      <td>12.5</td>\n",
       "      <td>0.0</td>\n",
       "      <td>6014</td>\n",
       "      <td>2023-11-01T07:00:00Z</td>\n",
       "      <td>Hexa Sort</td>\n",
       "      <td>6150</td>\n",
       "      <td>Get ready! The most awaited features are here....</td>\n",
       "    </tr>\n",
       "  </tbody>\n",
       "</table>\n",
       "</div>"
      ],
      "text/plain": [
       "                           artistName  averageUserRating  \\\n",
       "0  Ynfo SAS di Graziano Gennaro & Co.            4.67589   \n",
       "1                       Hungry Studio            4.86087   \n",
       "2                       Scopely, Inc.            4.81924   \n",
       "3                   ABIGAMES PTE. LTD            4.52683   \n",
       "4                   Lion Studios Plus            4.74130   \n",
       "\n",
       "   averageUserRatingForCurrentVersion contentAdvisoryRating  \\\n",
       "0                             4.67589                    4+   \n",
       "1                             4.86087                   12+   \n",
       "2                             4.81924                    9+   \n",
       "3                             4.52683                    9+   \n",
       "4                             4.74130                   12+   \n",
       "\n",
       "                                         description  fileSizeBytes  \\\n",
       "0  Sticker GO! is the first app that helps you co...       36927488   \n",
       "1  Block Blast: A perfect mix of block and jigsaw...      154926080   \n",
       "2  Hit GO! Roll the dice! Earn MONOPOLY money, in...      249300992   \n",
       "3  Introducing Wood Nuts & Bolts Puzzle, a captiv...      243209216   \n",
       "4  Hexa Sort offers a delightful blend of puzzle ...      323801088   \n",
       "\n",
       "   isGameCenterEnabled minimumOsVersion  price  primaryGenreId  \\\n",
       "0                False             12.0    0.0            6014   \n",
       "1                 True             12.0    0.0            6014   \n",
       "2                 True             13.0    0.0            6014   \n",
       "3                False             12.0    0.0            6014   \n",
       "4                False             12.5    0.0            6014   \n",
       "\n",
       "            releaseDate                 trackName  userRatingCount  \\\n",
       "0  2024-02-08T08:00:00Z               Sticker GO!              253   \n",
       "1  2022-04-03T07:00:00Z              Block Blast！           253100   \n",
       "2  2023-04-11T07:00:00Z              MONOPOLY GO!          2076657   \n",
       "3  2023-11-22T08:00:00Z  Wood Nuts & Bolts Puzzle            54892   \n",
       "4  2023-11-01T07:00:00Z                 Hexa Sort             6150   \n",
       "\n",
       "                                        releaseNotes  \n",
       "0                            Performance improvement  \n",
       "1  - Bug fixes and performance improvements.\\n- S...  \n",
       "2  We've got a WILD update for you, Tycoons.\\n\\nG...  \n",
       "3                                   - Update levels.  \n",
       "4  Get ready! The most awaited features are here....  "
      ]
     },
     "execution_count": 2,
     "metadata": {},
     "output_type": "execute_result"
    }
   ],
   "source": [
    "game_set = pd.read_csv(\"/kaggle/input/gamesphere-2000-app-store-insights-and-ratings/2000_games_appstore.csv\")\n",
    "game_set.head(5)"
   ]
  },
  {
   "cell_type": "code",
   "execution_count": 3,
   "id": "50f7e5e3",
   "metadata": {
    "execution": {
     "iopub.execute_input": "2024-03-01T06:55:14.709467Z",
     "iopub.status.busy": "2024-03-01T06:55:14.708434Z",
     "iopub.status.idle": "2024-03-01T06:55:14.720592Z",
     "shell.execute_reply": "2024-03-01T06:55:14.719648Z"
    },
    "papermill": {
     "duration": 0.018865,
     "end_time": "2024-03-01T06:55:14.722564",
     "exception": false,
     "start_time": "2024-03-01T06:55:14.703699",
     "status": "completed"
    },
    "tags": []
   },
   "outputs": [
    {
     "data": {
      "text/plain": [
       "artistName                             0\n",
       "averageUserRating                      0\n",
       "averageUserRatingForCurrentVersion     0\n",
       "contentAdvisoryRating                  0\n",
       "description                            0\n",
       "fileSizeBytes                          0\n",
       "isGameCenterEnabled                    0\n",
       "minimumOsVersion                       0\n",
       "price                                 58\n",
       "primaryGenreId                         0\n",
       "releaseDate                            0\n",
       "trackName                              0\n",
       "userRatingCount                        0\n",
       "releaseNotes                          31\n",
       "dtype: int64"
      ]
     },
     "execution_count": 3,
     "metadata": {},
     "output_type": "execute_result"
    }
   ],
   "source": [
    "game_set.isnull().sum()"
   ]
  },
  {
   "cell_type": "code",
   "execution_count": 4,
   "id": "a2b7a5e0",
   "metadata": {
    "execution": {
     "iopub.execute_input": "2024-03-01T06:55:14.731672Z",
     "iopub.status.busy": "2024-03-01T06:55:14.731328Z",
     "iopub.status.idle": "2024-03-01T06:55:14.759930Z",
     "shell.execute_reply": "2024-03-01T06:55:14.758504Z"
    },
    "papermill": {
     "duration": 0.035331,
     "end_time": "2024-03-01T06:55:14.761852",
     "exception": false,
     "start_time": "2024-03-01T06:55:14.726521",
     "status": "completed"
    },
    "tags": []
   },
   "outputs": [
    {
     "name": "stdout",
     "output_type": "stream",
     "text": [
      "<class 'pandas.core.frame.DataFrame'>\n",
      "RangeIndex: 2000 entries, 0 to 1999\n",
      "Data columns (total 14 columns):\n",
      " #   Column                              Non-Null Count  Dtype  \n",
      "---  ------                              --------------  -----  \n",
      " 0   artistName                          2000 non-null   object \n",
      " 1   averageUserRating                   2000 non-null   float64\n",
      " 2   averageUserRatingForCurrentVersion  2000 non-null   float64\n",
      " 3   contentAdvisoryRating               2000 non-null   object \n",
      " 4   description                         2000 non-null   object \n",
      " 5   fileSizeBytes                       2000 non-null   int64  \n",
      " 6   isGameCenterEnabled                 2000 non-null   bool   \n",
      " 7   minimumOsVersion                    2000 non-null   object \n",
      " 8   price                               1942 non-null   float64\n",
      " 9   primaryGenreId                      2000 non-null   int64  \n",
      " 10  releaseDate                         2000 non-null   object \n",
      " 11  trackName                           2000 non-null   object \n",
      " 12  userRatingCount                     2000 non-null   int64  \n",
      " 13  releaseNotes                        1969 non-null   object \n",
      "dtypes: bool(1), float64(3), int64(3), object(7)\n",
      "memory usage: 205.2+ KB\n"
     ]
    }
   ],
   "source": [
    "game_set.info()"
   ]
  },
  {
   "cell_type": "code",
   "execution_count": 5,
   "id": "26eb0d5a",
   "metadata": {
    "execution": {
     "iopub.execute_input": "2024-03-01T06:55:14.771588Z",
     "iopub.status.busy": "2024-03-01T06:55:14.771226Z",
     "iopub.status.idle": "2024-03-01T06:55:14.779314Z",
     "shell.execute_reply": "2024-03-01T06:55:14.778137Z"
    },
    "papermill": {
     "duration": 0.015271,
     "end_time": "2024-03-01T06:55:14.781217",
     "exception": false,
     "start_time": "2024-03-01T06:55:14.765946",
     "status": "completed"
    },
    "tags": []
   },
   "outputs": [
    {
     "data": {
      "text/plain": [
       "artistName                             object\n",
       "averageUserRating                     float64\n",
       "averageUserRatingForCurrentVersion    float64\n",
       "contentAdvisoryRating                  object\n",
       "description                            object\n",
       "fileSizeBytes                           int64\n",
       "isGameCenterEnabled                      bool\n",
       "minimumOsVersion                       object\n",
       "price                                 float64\n",
       "primaryGenreId                          int64\n",
       "releaseDate                            object\n",
       "trackName                              object\n",
       "userRatingCount                         int64\n",
       "releaseNotes                           object\n",
       "dtype: object"
      ]
     },
     "execution_count": 5,
     "metadata": {},
     "output_type": "execute_result"
    }
   ],
   "source": [
    "game_set.dtypes"
   ]
  },
  {
   "cell_type": "markdown",
   "id": "0fe4ea8d",
   "metadata": {
    "papermill": {
     "duration": 0.003746,
     "end_time": "2024-03-01T06:55:14.789159",
     "exception": false,
     "start_time": "2024-03-01T06:55:14.785413",
     "status": "completed"
    },
    "tags": []
   },
   "source": [
    "## Trend Analysis: Utilize 'releaseDate' and 'averageUserRating' to identify trends in game popularity and user satisfaction over time."
   ]
  },
  {
   "cell_type": "code",
   "execution_count": 6,
   "id": "b5e72727",
   "metadata": {
    "execution": {
     "iopub.execute_input": "2024-03-01T06:55:14.799110Z",
     "iopub.status.busy": "2024-03-01T06:55:14.798754Z",
     "iopub.status.idle": "2024-03-01T06:55:14.821027Z",
     "shell.execute_reply": "2024-03-01T06:55:14.819997Z"
    },
    "papermill": {
     "duration": 0.030125,
     "end_time": "2024-03-01T06:55:14.823398",
     "exception": false,
     "start_time": "2024-03-01T06:55:14.793273",
     "status": "completed"
    },
    "tags": []
   },
   "outputs": [
    {
     "data": {
      "text/html": [
       "<div>\n",
       "<style scoped>\n",
       "    .dataframe tbody tr th:only-of-type {\n",
       "        vertical-align: middle;\n",
       "    }\n",
       "\n",
       "    .dataframe tbody tr th {\n",
       "        vertical-align: top;\n",
       "    }\n",
       "\n",
       "    .dataframe thead th {\n",
       "        text-align: right;\n",
       "    }\n",
       "</style>\n",
       "<table border=\"1\" class=\"dataframe\">\n",
       "  <thead>\n",
       "    <tr style=\"text-align: right;\">\n",
       "      <th></th>\n",
       "      <th>artistName</th>\n",
       "      <th>averageUserRating</th>\n",
       "      <th>averageUserRatingForCurrentVersion</th>\n",
       "      <th>contentAdvisoryRating</th>\n",
       "      <th>description</th>\n",
       "      <th>fileSizeBytes</th>\n",
       "      <th>isGameCenterEnabled</th>\n",
       "      <th>minimumOsVersion</th>\n",
       "      <th>price</th>\n",
       "      <th>primaryGenreId</th>\n",
       "      <th>releaseDate</th>\n",
       "      <th>trackName</th>\n",
       "      <th>userRatingCount</th>\n",
       "      <th>releaseNotes</th>\n",
       "    </tr>\n",
       "  </thead>\n",
       "  <tbody>\n",
       "    <tr>\n",
       "      <th>0</th>\n",
       "      <td>Ynfo SAS di Graziano Gennaro &amp; Co.</td>\n",
       "      <td>4.67589</td>\n",
       "      <td>4.67589</td>\n",
       "      <td>4+</td>\n",
       "      <td>Sticker GO! is the first app that helps you co...</td>\n",
       "      <td>36927488</td>\n",
       "      <td>False</td>\n",
       "      <td>12.0</td>\n",
       "      <td>0.0</td>\n",
       "      <td>6014</td>\n",
       "      <td>2024-02-08 08:00:00+00:00</td>\n",
       "      <td>Sticker GO!</td>\n",
       "      <td>253</td>\n",
       "      <td>Performance improvement</td>\n",
       "    </tr>\n",
       "    <tr>\n",
       "      <th>1</th>\n",
       "      <td>Hungry Studio</td>\n",
       "      <td>4.86087</td>\n",
       "      <td>4.86087</td>\n",
       "      <td>12+</td>\n",
       "      <td>Block Blast: A perfect mix of block and jigsaw...</td>\n",
       "      <td>154926080</td>\n",
       "      <td>True</td>\n",
       "      <td>12.0</td>\n",
       "      <td>0.0</td>\n",
       "      <td>6014</td>\n",
       "      <td>2022-04-03 07:00:00+00:00</td>\n",
       "      <td>Block Blast！</td>\n",
       "      <td>253100</td>\n",
       "      <td>- Bug fixes and performance improvements.\\n- S...</td>\n",
       "    </tr>\n",
       "    <tr>\n",
       "      <th>2</th>\n",
       "      <td>Scopely, Inc.</td>\n",
       "      <td>4.81924</td>\n",
       "      <td>4.81924</td>\n",
       "      <td>9+</td>\n",
       "      <td>Hit GO! Roll the dice! Earn MONOPOLY money, in...</td>\n",
       "      <td>249300992</td>\n",
       "      <td>True</td>\n",
       "      <td>13.0</td>\n",
       "      <td>0.0</td>\n",
       "      <td>6014</td>\n",
       "      <td>2023-04-11 07:00:00+00:00</td>\n",
       "      <td>MONOPOLY GO!</td>\n",
       "      <td>2076657</td>\n",
       "      <td>We've got a WILD update for you, Tycoons.\\n\\nG...</td>\n",
       "    </tr>\n",
       "    <tr>\n",
       "      <th>3</th>\n",
       "      <td>ABIGAMES PTE. LTD</td>\n",
       "      <td>4.52683</td>\n",
       "      <td>4.52683</td>\n",
       "      <td>9+</td>\n",
       "      <td>Introducing Wood Nuts &amp; Bolts Puzzle, a captiv...</td>\n",
       "      <td>243209216</td>\n",
       "      <td>False</td>\n",
       "      <td>12.0</td>\n",
       "      <td>0.0</td>\n",
       "      <td>6014</td>\n",
       "      <td>2023-11-22 08:00:00+00:00</td>\n",
       "      <td>Wood Nuts &amp; Bolts Puzzle</td>\n",
       "      <td>54892</td>\n",
       "      <td>- Update levels.</td>\n",
       "    </tr>\n",
       "    <tr>\n",
       "      <th>4</th>\n",
       "      <td>Lion Studios Plus</td>\n",
       "      <td>4.74130</td>\n",
       "      <td>4.74130</td>\n",
       "      <td>12+</td>\n",
       "      <td>Hexa Sort offers a delightful blend of puzzle ...</td>\n",
       "      <td>323801088</td>\n",
       "      <td>False</td>\n",
       "      <td>12.5</td>\n",
       "      <td>0.0</td>\n",
       "      <td>6014</td>\n",
       "      <td>2023-11-01 07:00:00+00:00</td>\n",
       "      <td>Hexa Sort</td>\n",
       "      <td>6150</td>\n",
       "      <td>Get ready! The most awaited features are here....</td>\n",
       "    </tr>\n",
       "  </tbody>\n",
       "</table>\n",
       "</div>"
      ],
      "text/plain": [
       "                           artistName  averageUserRating  \\\n",
       "0  Ynfo SAS di Graziano Gennaro & Co.            4.67589   \n",
       "1                       Hungry Studio            4.86087   \n",
       "2                       Scopely, Inc.            4.81924   \n",
       "3                   ABIGAMES PTE. LTD            4.52683   \n",
       "4                   Lion Studios Plus            4.74130   \n",
       "\n",
       "   averageUserRatingForCurrentVersion contentAdvisoryRating  \\\n",
       "0                             4.67589                    4+   \n",
       "1                             4.86087                   12+   \n",
       "2                             4.81924                    9+   \n",
       "3                             4.52683                    9+   \n",
       "4                             4.74130                   12+   \n",
       "\n",
       "                                         description  fileSizeBytes  \\\n",
       "0  Sticker GO! is the first app that helps you co...       36927488   \n",
       "1  Block Blast: A perfect mix of block and jigsaw...      154926080   \n",
       "2  Hit GO! Roll the dice! Earn MONOPOLY money, in...      249300992   \n",
       "3  Introducing Wood Nuts & Bolts Puzzle, a captiv...      243209216   \n",
       "4  Hexa Sort offers a delightful blend of puzzle ...      323801088   \n",
       "\n",
       "   isGameCenterEnabled minimumOsVersion  price  primaryGenreId  \\\n",
       "0                False             12.0    0.0            6014   \n",
       "1                 True             12.0    0.0            6014   \n",
       "2                 True             13.0    0.0            6014   \n",
       "3                False             12.0    0.0            6014   \n",
       "4                False             12.5    0.0            6014   \n",
       "\n",
       "                releaseDate                 trackName  userRatingCount  \\\n",
       "0 2024-02-08 08:00:00+00:00               Sticker GO!              253   \n",
       "1 2022-04-03 07:00:00+00:00              Block Blast！           253100   \n",
       "2 2023-04-11 07:00:00+00:00              MONOPOLY GO!          2076657   \n",
       "3 2023-11-22 08:00:00+00:00  Wood Nuts & Bolts Puzzle            54892   \n",
       "4 2023-11-01 07:00:00+00:00                 Hexa Sort             6150   \n",
       "\n",
       "                                        releaseNotes  \n",
       "0                            Performance improvement  \n",
       "1  - Bug fixes and performance improvements.\\n- S...  \n",
       "2  We've got a WILD update for you, Tycoons.\\n\\nG...  \n",
       "3                                   - Update levels.  \n",
       "4  Get ready! The most awaited features are here....  "
      ]
     },
     "execution_count": 6,
     "metadata": {},
     "output_type": "execute_result"
    }
   ],
   "source": [
    "gameset_cleaned = game_set.copy()\n",
    "gameset_cleaned['releaseDate'] = pd.to_datetime(gameset_cleaned['releaseDate'])\n",
    "gameset_cleaned.head()"
   ]
  },
  {
   "cell_type": "code",
   "execution_count": 7,
   "id": "b0099fe4",
   "metadata": {
    "execution": {
     "iopub.execute_input": "2024-03-01T06:55:14.834075Z",
     "iopub.status.busy": "2024-03-01T06:55:14.833293Z",
     "iopub.status.idle": "2024-03-01T06:55:14.846608Z",
     "shell.execute_reply": "2024-03-01T06:55:14.845329Z"
    },
    "papermill": {
     "duration": 0.020765,
     "end_time": "2024-03-01T06:55:14.848678",
     "exception": false,
     "start_time": "2024-03-01T06:55:14.827913",
     "status": "completed"
    },
    "tags": []
   },
   "outputs": [
    {
     "data": {
      "text/plain": [
       "averageUserRating\n",
       "4.45240    4\n",
       "4.46985    4\n",
       "4.60690    3\n",
       "4.69271    3\n",
       "4.77588    3\n",
       "          ..\n",
       "4.78972    1\n",
       "4.12120    1\n",
       "4.66944    1\n",
       "4.67717    1\n",
       "4.68007    1\n",
       "Name: count, Length: 1621, dtype: int64"
      ]
     },
     "execution_count": 7,
     "metadata": {},
     "output_type": "execute_result"
    }
   ],
   "source": [
    "avrRating_cleaned = gameset_cleaned[gameset_cleaned['averageUserRating'] != 0]\n",
    "avrRating_cleaned['averageUserRating'].value_counts()"
   ]
  },
  {
   "cell_type": "code",
   "execution_count": 8,
   "id": "be79029e",
   "metadata": {
    "execution": {
     "iopub.execute_input": "2024-03-01T06:55:14.859318Z",
     "iopub.status.busy": "2024-03-01T06:55:14.858961Z",
     "iopub.status.idle": "2024-03-01T06:55:14.874563Z",
     "shell.execute_reply": "2024-03-01T06:55:14.873340Z"
    },
    "papermill": {
     "duration": 0.023241,
     "end_time": "2024-03-01T06:55:14.876549",
     "exception": false,
     "start_time": "2024-03-01T06:55:14.853308",
     "status": "completed"
    },
    "tags": []
   },
   "outputs": [
    {
     "data": {
      "text/html": [
       "<div>\n",
       "<style scoped>\n",
       "    .dataframe tbody tr th:only-of-type {\n",
       "        vertical-align: middle;\n",
       "    }\n",
       "\n",
       "    .dataframe tbody tr th {\n",
       "        vertical-align: top;\n",
       "    }\n",
       "\n",
       "    .dataframe thead th {\n",
       "        text-align: right;\n",
       "    }\n",
       "</style>\n",
       "<table border=\"1\" class=\"dataframe\">\n",
       "  <thead>\n",
       "    <tr style=\"text-align: right;\">\n",
       "      <th></th>\n",
       "      <th>artistName</th>\n",
       "      <th>averageUserRating</th>\n",
       "      <th>averageUserRatingForCurrentVersion</th>\n",
       "      <th>contentAdvisoryRating</th>\n",
       "      <th>description</th>\n",
       "      <th>fileSizeBytes</th>\n",
       "      <th>isGameCenterEnabled</th>\n",
       "      <th>minimumOsVersion</th>\n",
       "      <th>price</th>\n",
       "      <th>primaryGenreId</th>\n",
       "      <th>releaseDate</th>\n",
       "      <th>trackName</th>\n",
       "      <th>userRatingCount</th>\n",
       "      <th>releaseNotes</th>\n",
       "    </tr>\n",
       "  </thead>\n",
       "  <tbody>\n",
       "    <tr>\n",
       "      <th>0</th>\n",
       "      <td>Ynfo SAS di Graziano Gennaro &amp; Co.</td>\n",
       "      <td>4.67589</td>\n",
       "      <td>4.67589</td>\n",
       "      <td>4+</td>\n",
       "      <td>Sticker GO! is the first app that helps you co...</td>\n",
       "      <td>36927488</td>\n",
       "      <td>False</td>\n",
       "      <td>12.0</td>\n",
       "      <td>0.0</td>\n",
       "      <td>6014</td>\n",
       "      <td>2024-02-08 08:00:00+00:00</td>\n",
       "      <td>Sticker GO!</td>\n",
       "      <td>253</td>\n",
       "      <td>Performance improvement</td>\n",
       "    </tr>\n",
       "    <tr>\n",
       "      <th>1</th>\n",
       "      <td>Hungry Studio</td>\n",
       "      <td>4.86087</td>\n",
       "      <td>4.86087</td>\n",
       "      <td>12+</td>\n",
       "      <td>Block Blast: A perfect mix of block and jigsaw...</td>\n",
       "      <td>154926080</td>\n",
       "      <td>True</td>\n",
       "      <td>12.0</td>\n",
       "      <td>0.0</td>\n",
       "      <td>6014</td>\n",
       "      <td>2022-04-03 07:00:00+00:00</td>\n",
       "      <td>Block Blast！</td>\n",
       "      <td>253100</td>\n",
       "      <td>- Bug fixes and performance improvements.\\n- S...</td>\n",
       "    </tr>\n",
       "    <tr>\n",
       "      <th>2</th>\n",
       "      <td>Scopely, Inc.</td>\n",
       "      <td>4.81924</td>\n",
       "      <td>4.81924</td>\n",
       "      <td>9+</td>\n",
       "      <td>Hit GO! Roll the dice! Earn MONOPOLY money, in...</td>\n",
       "      <td>249300992</td>\n",
       "      <td>True</td>\n",
       "      <td>13.0</td>\n",
       "      <td>0.0</td>\n",
       "      <td>6014</td>\n",
       "      <td>2023-04-11 07:00:00+00:00</td>\n",
       "      <td>MONOPOLY GO!</td>\n",
       "      <td>2076657</td>\n",
       "      <td>We've got a WILD update for you, Tycoons.\\n\\nG...</td>\n",
       "    </tr>\n",
       "    <tr>\n",
       "      <th>3</th>\n",
       "      <td>ABIGAMES PTE. LTD</td>\n",
       "      <td>4.52683</td>\n",
       "      <td>4.52683</td>\n",
       "      <td>9+</td>\n",
       "      <td>Introducing Wood Nuts &amp; Bolts Puzzle, a captiv...</td>\n",
       "      <td>243209216</td>\n",
       "      <td>False</td>\n",
       "      <td>12.0</td>\n",
       "      <td>0.0</td>\n",
       "      <td>6014</td>\n",
       "      <td>2023-11-22 08:00:00+00:00</td>\n",
       "      <td>Wood Nuts &amp; Bolts Puzzle</td>\n",
       "      <td>54892</td>\n",
       "      <td>- Update levels.</td>\n",
       "    </tr>\n",
       "    <tr>\n",
       "      <th>4</th>\n",
       "      <td>Lion Studios Plus</td>\n",
       "      <td>4.74130</td>\n",
       "      <td>4.74130</td>\n",
       "      <td>12+</td>\n",
       "      <td>Hexa Sort offers a delightful blend of puzzle ...</td>\n",
       "      <td>323801088</td>\n",
       "      <td>False</td>\n",
       "      <td>12.5</td>\n",
       "      <td>0.0</td>\n",
       "      <td>6014</td>\n",
       "      <td>2023-11-01 07:00:00+00:00</td>\n",
       "      <td>Hexa Sort</td>\n",
       "      <td>6150</td>\n",
       "      <td>Get ready! The most awaited features are here....</td>\n",
       "    </tr>\n",
       "  </tbody>\n",
       "</table>\n",
       "</div>"
      ],
      "text/plain": [
       "                           artistName  averageUserRating  \\\n",
       "0  Ynfo SAS di Graziano Gennaro & Co.            4.67589   \n",
       "1                       Hungry Studio            4.86087   \n",
       "2                       Scopely, Inc.            4.81924   \n",
       "3                   ABIGAMES PTE. LTD            4.52683   \n",
       "4                   Lion Studios Plus            4.74130   \n",
       "\n",
       "   averageUserRatingForCurrentVersion contentAdvisoryRating  \\\n",
       "0                             4.67589                    4+   \n",
       "1                             4.86087                   12+   \n",
       "2                             4.81924                    9+   \n",
       "3                             4.52683                    9+   \n",
       "4                             4.74130                   12+   \n",
       "\n",
       "                                         description  fileSizeBytes  \\\n",
       "0  Sticker GO! is the first app that helps you co...       36927488   \n",
       "1  Block Blast: A perfect mix of block and jigsaw...      154926080   \n",
       "2  Hit GO! Roll the dice! Earn MONOPOLY money, in...      249300992   \n",
       "3  Introducing Wood Nuts & Bolts Puzzle, a captiv...      243209216   \n",
       "4  Hexa Sort offers a delightful blend of puzzle ...      323801088   \n",
       "\n",
       "   isGameCenterEnabled minimumOsVersion  price  primaryGenreId  \\\n",
       "0                False             12.0    0.0            6014   \n",
       "1                 True             12.0    0.0            6014   \n",
       "2                 True             13.0    0.0            6014   \n",
       "3                False             12.0    0.0            6014   \n",
       "4                False             12.5    0.0            6014   \n",
       "\n",
       "                releaseDate                 trackName  userRatingCount  \\\n",
       "0 2024-02-08 08:00:00+00:00               Sticker GO!              253   \n",
       "1 2022-04-03 07:00:00+00:00              Block Blast！           253100   \n",
       "2 2023-04-11 07:00:00+00:00              MONOPOLY GO!          2076657   \n",
       "3 2023-11-22 08:00:00+00:00  Wood Nuts & Bolts Puzzle            54892   \n",
       "4 2023-11-01 07:00:00+00:00                 Hexa Sort             6150   \n",
       "\n",
       "                                        releaseNotes  \n",
       "0                            Performance improvement  \n",
       "1  - Bug fixes and performance improvements.\\n- S...  \n",
       "2  We've got a WILD update for you, Tycoons.\\n\\nG...  \n",
       "3                                   - Update levels.  \n",
       "4  Get ready! The most awaited features are here....  "
      ]
     },
     "execution_count": 8,
     "metadata": {},
     "output_type": "execute_result"
    }
   ],
   "source": [
    "avrRating_cleaned.head(5)"
   ]
  },
  {
   "cell_type": "code",
   "execution_count": 9,
   "id": "d7e4c7ad",
   "metadata": {
    "execution": {
     "iopub.execute_input": "2024-03-01T06:55:14.887754Z",
     "iopub.status.busy": "2024-03-01T06:55:14.887414Z",
     "iopub.status.idle": "2024-03-01T06:55:14.904991Z",
     "shell.execute_reply": "2024-03-01T06:55:14.903857Z"
    },
    "papermill": {
     "duration": 0.026159,
     "end_time": "2024-03-01T06:55:14.907616",
     "exception": false,
     "start_time": "2024-03-01T06:55:14.881457",
     "status": "completed"
    },
    "tags": []
   },
   "outputs": [
    {
     "data": {
      "text/html": [
       "<div>\n",
       "<style scoped>\n",
       "    .dataframe tbody tr th:only-of-type {\n",
       "        vertical-align: middle;\n",
       "    }\n",
       "\n",
       "    .dataframe tbody tr th {\n",
       "        vertical-align: top;\n",
       "    }\n",
       "\n",
       "    .dataframe thead th {\n",
       "        text-align: right;\n",
       "    }\n",
       "</style>\n",
       "<table border=\"1\" class=\"dataframe\">\n",
       "  <thead>\n",
       "    <tr style=\"text-align: right;\">\n",
       "      <th></th>\n",
       "      <th>releaseDate</th>\n",
       "      <th>averageUserRating</th>\n",
       "    </tr>\n",
       "  </thead>\n",
       "  <tbody>\n",
       "    <tr>\n",
       "      <th>900</th>\n",
       "      <td>2022-05-16 07:00:00+00:00</td>\n",
       "      <td>1.00000</td>\n",
       "    </tr>\n",
       "    <tr>\n",
       "      <th>1026</th>\n",
       "      <td>2023-01-08 08:00:00+00:00</td>\n",
       "      <td>1.45447</td>\n",
       "    </tr>\n",
       "    <tr>\n",
       "      <th>902</th>\n",
       "      <td>2022-05-18 07:00:00+00:00</td>\n",
       "      <td>1.66667</td>\n",
       "    </tr>\n",
       "    <tr>\n",
       "      <th>998</th>\n",
       "      <td>2022-11-16 08:00:00+00:00</td>\n",
       "      <td>1.81065</td>\n",
       "    </tr>\n",
       "    <tr>\n",
       "      <th>1245</th>\n",
       "      <td>2024-01-18 08:00:00+00:00</td>\n",
       "      <td>1.88889</td>\n",
       "    </tr>\n",
       "    <tr>\n",
       "      <th>1252</th>\n",
       "      <td>2024-01-31 08:00:00+00:00</td>\n",
       "      <td>2.33333</td>\n",
       "    </tr>\n",
       "    <tr>\n",
       "      <th>1261</th>\n",
       "      <td>2024-02-15 08:00:00+00:00</td>\n",
       "      <td>2.61111</td>\n",
       "    </tr>\n",
       "    <tr>\n",
       "      <th>1128</th>\n",
       "      <td>2023-06-29 07:00:00+00:00</td>\n",
       "      <td>2.66667</td>\n",
       "    </tr>\n",
       "    <tr>\n",
       "      <th>888</th>\n",
       "      <td>2022-04-21 07:00:00+00:00</td>\n",
       "      <td>2.66667</td>\n",
       "    </tr>\n",
       "    <tr>\n",
       "      <th>1218</th>\n",
       "      <td>2023-11-27 08:00:00+00:00</td>\n",
       "      <td>2.68790</td>\n",
       "    </tr>\n",
       "  </tbody>\n",
       "</table>\n",
       "</div>"
      ],
      "text/plain": [
       "                   releaseDate  averageUserRating\n",
       "900  2022-05-16 07:00:00+00:00            1.00000\n",
       "1026 2023-01-08 08:00:00+00:00            1.45447\n",
       "902  2022-05-18 07:00:00+00:00            1.66667\n",
       "998  2022-11-16 08:00:00+00:00            1.81065\n",
       "1245 2024-01-18 08:00:00+00:00            1.88889\n",
       "1252 2024-01-31 08:00:00+00:00            2.33333\n",
       "1261 2024-02-15 08:00:00+00:00            2.61111\n",
       "1128 2023-06-29 07:00:00+00:00            2.66667\n",
       "888  2022-04-21 07:00:00+00:00            2.66667\n",
       "1218 2023-11-27 08:00:00+00:00            2.68790"
      ]
     },
     "execution_count": 9,
     "metadata": {},
     "output_type": "execute_result"
    }
   ],
   "source": [
    "year_trend = avrRating_cleaned.groupby(['releaseDate'], as_index=False)['averageUserRating'].min()\n",
    "year_trend = year_trend.sort_values('averageUserRating', ascending=True).head(10)\n",
    "year_trend"
   ]
  },
  {
   "cell_type": "code",
   "execution_count": 10,
   "id": "e8bf20c1",
   "metadata": {
    "execution": {
     "iopub.execute_input": "2024-03-01T06:55:14.919846Z",
     "iopub.status.busy": "2024-03-01T06:55:14.919097Z",
     "iopub.status.idle": "2024-03-01T06:55:14.933766Z",
     "shell.execute_reply": "2024-03-01T06:55:14.932482Z"
    },
    "papermill": {
     "duration": 0.023083,
     "end_time": "2024-03-01T06:55:14.935817",
     "exception": false,
     "start_time": "2024-03-01T06:55:14.912734",
     "status": "completed"
    },
    "tags": []
   },
   "outputs": [
    {
     "data": {
      "text/html": [
       "<div>\n",
       "<style scoped>\n",
       "    .dataframe tbody tr th:only-of-type {\n",
       "        vertical-align: middle;\n",
       "    }\n",
       "\n",
       "    .dataframe tbody tr th {\n",
       "        vertical-align: top;\n",
       "    }\n",
       "\n",
       "    .dataframe thead th {\n",
       "        text-align: right;\n",
       "    }\n",
       "</style>\n",
       "<table border=\"1\" class=\"dataframe\">\n",
       "  <thead>\n",
       "    <tr style=\"text-align: right;\">\n",
       "      <th></th>\n",
       "      <th>averageUserRating</th>\n",
       "      <th>releaseDate</th>\n",
       "    </tr>\n",
       "  </thead>\n",
       "  <tbody>\n",
       "    <tr>\n",
       "      <th>432</th>\n",
       "      <td>4.49824</td>\n",
       "      <td>2021-01-14 08:00:00+00:00</td>\n",
       "    </tr>\n",
       "    <tr>\n",
       "      <th>25</th>\n",
       "      <td>3.34884</td>\n",
       "      <td>2023-05-04 07:00:00+00:00</td>\n",
       "    </tr>\n",
       "    <tr>\n",
       "      <th>592</th>\n",
       "      <td>4.56067</td>\n",
       "      <td>2017-01-13 10:31:35+00:00</td>\n",
       "    </tr>\n",
       "    <tr>\n",
       "      <th>64</th>\n",
       "      <td>3.86977</td>\n",
       "      <td>2023-07-19 07:00:00+00:00</td>\n",
       "    </tr>\n",
       "    <tr>\n",
       "      <th>661</th>\n",
       "      <td>4.58247</td>\n",
       "      <td>2018-08-02 05:23:28+00:00</td>\n",
       "    </tr>\n",
       "    <tr>\n",
       "      <th>...</th>\n",
       "      <td>...</td>\n",
       "      <td>...</td>\n",
       "    </tr>\n",
       "    <tr>\n",
       "      <th>861</th>\n",
       "      <td>4.64109</td>\n",
       "      <td>2023-05-01 07:00:00+00:00</td>\n",
       "    </tr>\n",
       "    <tr>\n",
       "      <th>1086</th>\n",
       "      <td>4.69684</td>\n",
       "      <td>2018-10-03 03:58:25+00:00</td>\n",
       "    </tr>\n",
       "    <tr>\n",
       "      <th>969</th>\n",
       "      <td>4.66819</td>\n",
       "      <td>2022-04-15 07:00:00+00:00</td>\n",
       "    </tr>\n",
       "    <tr>\n",
       "      <th>1368</th>\n",
       "      <td>4.77737</td>\n",
       "      <td>2022-07-07 07:00:00+00:00</td>\n",
       "    </tr>\n",
       "    <tr>\n",
       "      <th>1040</th>\n",
       "      <td>4.68252</td>\n",
       "      <td>2023-06-27 07:00:00+00:00</td>\n",
       "    </tr>\n",
       "  </tbody>\n",
       "</table>\n",
       "<p>100 rows × 2 columns</p>\n",
       "</div>"
      ],
      "text/plain": [
       "      averageUserRating               releaseDate\n",
       "432             4.49824 2021-01-14 08:00:00+00:00\n",
       "25              3.34884 2023-05-04 07:00:00+00:00\n",
       "592             4.56067 2017-01-13 10:31:35+00:00\n",
       "64              3.86977 2023-07-19 07:00:00+00:00\n",
       "661             4.58247 2018-08-02 05:23:28+00:00\n",
       "...                 ...                       ...\n",
       "861             4.64109 2023-05-01 07:00:00+00:00\n",
       "1086            4.69684 2018-10-03 03:58:25+00:00\n",
       "969             4.66819 2022-04-15 07:00:00+00:00\n",
       "1368            4.77737 2022-07-07 07:00:00+00:00\n",
       "1040            4.68252 2023-06-27 07:00:00+00:00\n",
       "\n",
       "[100 rows x 2 columns]"
      ]
     },
     "execution_count": 10,
     "metadata": {},
     "output_type": "execute_result"
    }
   ],
   "source": [
    "year_trend = avrRating_cleaned.groupby(['averageUserRating'], as_index=False)['releaseDate'].max()\n",
    "year_trend = year_trend.sort_values('releaseDate').sample(100)\n",
    "year_trend"
   ]
  },
  {
   "cell_type": "code",
   "execution_count": 11,
   "id": "98801a5b",
   "metadata": {
    "execution": {
     "iopub.execute_input": "2024-03-01T06:55:14.947835Z",
     "iopub.status.busy": "2024-03-01T06:55:14.947329Z",
     "iopub.status.idle": "2024-03-01T06:55:14.951201Z",
     "shell.execute_reply": "2024-03-01T06:55:14.950180Z"
    },
    "papermill": {
     "duration": 0.012222,
     "end_time": "2024-03-01T06:55:14.953164",
     "exception": false,
     "start_time": "2024-03-01T06:55:14.940942",
     "status": "completed"
    },
    "tags": []
   },
   "outputs": [],
   "source": [
    "#plt.rcParams['figure.figsize'] = (20,5)\n",
    "\n",
    "#plt.plot(\"releaseDate\", \"averageUserRating\", data=year_trend, color ='maroon')\n",
    "#plt.xlabel(\"Year\")\n",
    "#plt.ylabel(\"Rating\")\n",
    "#plt.title(\"Average User Rating Trend Over The Year\")\n",
    "\n",
    "#sns.relplot(x='releaseDate', y='averageUserRating', data=year_trend, kind='line', height=6, aspect=4)"
   ]
  },
  {
   "cell_type": "code",
   "execution_count": 12,
   "id": "eb278b2c",
   "metadata": {
    "execution": {
     "iopub.execute_input": "2024-03-01T06:55:14.965713Z",
     "iopub.status.busy": "2024-03-01T06:55:14.965127Z",
     "iopub.status.idle": "2024-03-01T06:55:15.478383Z",
     "shell.execute_reply": "2024-03-01T06:55:15.477418Z"
    },
    "papermill": {
     "duration": 0.521835,
     "end_time": "2024-03-01T06:55:15.480228",
     "exception": false,
     "start_time": "2024-03-01T06:55:14.958393",
     "status": "completed"
    },
    "tags": []
   },
   "outputs": [
    {
     "name": "stderr",
     "output_type": "stream",
     "text": [
      "/opt/conda/lib/python3.10/site-packages/seaborn/_oldcore.py:1119: FutureWarning: use_inf_as_na option is deprecated and will be removed in a future version. Convert inf values to NaN before operating instead.\n",
      "  with pd.option_context('mode.use_inf_as_na', True):\n",
      "/opt/conda/lib/python3.10/site-packages/seaborn/_oldcore.py:1119: FutureWarning: use_inf_as_na option is deprecated and will be removed in a future version. Convert inf values to NaN before operating instead.\n",
      "  with pd.option_context('mode.use_inf_as_na', True):\n"
     ]
    },
    {
     "data": {
      "text/plain": [
       "[Text(0.5, 1.0, 'Average Games Rating Per Year'),\n",
       " Text(0.5, 0, 'Date'),\n",
       " Text(0, 0.5, 'Rate')]"
      ]
     },
     "execution_count": 12,
     "metadata": {},
     "output_type": "execute_result"
    },
    {
     "data": {
      "image/png": "[encoded data removed]",
      "text/plain": [
       "<Figure size 2000x500 with 1 Axes>"
      ]
     },
     "metadata": {},
     "output_type": "display_data"
    }
   ],
   "source": [
    "fig = plt.subplots(figsize=(20, 5))\n",
    "sns.lineplot(x='releaseDate', y='averageUserRating', data=year_trend, marker='.', markerfacecolor='limegreen', markersize=5).set(title='Average Games Rating Per Year', xlabel='Date', ylabel='Rate')"
   ]
  }
 ],
 "metadata": {
  "kaggle": {
   "accelerator": "none",
   "dataSources": [
    {
     "datasetId": 4453623,
     "sourceId": 7641469,
     "sourceType": "datasetVersion"
    }
   ],
   "dockerImageVersionId": 30646,
   "isGpuEnabled": false,
   "isInternetEnabled": true,
   "language": "python",
   "sourceType": "notebook"
  },
  "kernelspec": {
   "display_name": "Python 3",
   "language": "python",
   "name": "python3"
  },
  "language_info": {
   "codemirror_mode": {
    "name": "ipython",
    "version": 3
   },
   "file_extension": ".py",
   "mimetype": "text/x-python",
   "name": "python",
   "nbconvert_exporter": "python",
   "pygments_lexer": "ipython3",
   "version": "3.10.13"
  },
  "papermill": {
   "default_parameters": {},
   "duration": 6.161275,
   "end_time": "2024-03-01T06:55:16.007892",
   "environment_variables": {},
   "exception": null,
   "input_path": "__notebook__.ipynb",
   "output_path": "__notebook__.ipynb",
   "parameters": {},
   "start_time": "2024-03-01T06:55:09.846617",
   "version": "2.5.0"
  }
 },
 "nbformat": 4,
 "nbformat_minor": 5
}
