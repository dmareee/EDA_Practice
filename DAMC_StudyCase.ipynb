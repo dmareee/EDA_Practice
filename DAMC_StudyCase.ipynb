{
  "cells": [
    {
      "cell_type": "markdown",
      "metadata": {
        "id": "3D0rFLjGqXoV"
      },
      "source": [
        "# Reading (Mount) Data melalui Google Sheet"
      ]
    },
    {
      "cell_type": "code",
      "execution_count": 57,
      "metadata": {
        "id": "1r6f3XOPnGFL"
      },
      "outputs": [],
      "source": [
        "import numpy as np\n",
        "import pandas as pd\n",
        "import seaborn as sns\n",
        "import matplotlib.pyplot as plt"
      ]
    },
    {
      "cell_type": "code",
      "execution_count": 58,
      "metadata": {
        "colab": {
          "base_uri": "https://localhost:8080/",
          "height": 423
        },
        "id": "jx05KVJcnJd8",
        "outputId": "863bdd24-4e6d-40ef-90ef-17f794540a58"
      },
      "outputs": [
        {
          "data": {
            "text/html": [
              "<div>\n",
              "<style scoped>\n",
              "    .dataframe tbody tr th:only-of-type {\n",
              "        vertical-align: middle;\n",
              "    }\n",
              "\n",
              "    .dataframe tbody tr th {\n",
              "        vertical-align: top;\n",
              "    }\n",
              "\n",
              "    .dataframe thead th {\n",
              "        text-align: right;\n",
              "    }\n",
              "</style>\n",
              "<table border=\"1\" class=\"dataframe\">\n",
              "  <thead>\n",
              "    <tr style=\"text-align: right;\">\n",
              "      <th></th>\n",
              "      <th>Name</th>\n",
              "      <th>Sales</th>\n",
              "      <th>Series</th>\n",
              "      <th>Release</th>\n",
              "      <th>Genre</th>\n",
              "      <th>Developer</th>\n",
              "      <th>Publisher</th>\n",
              "    </tr>\n",
              "  </thead>\n",
              "  <tbody>\n",
              "    <tr>\n",
              "      <th>0</th>\n",
              "      <td>PlayerUnknown's Battlegrounds</td>\n",
              "      <td>42.0</td>\n",
              "      <td>NaN</td>\n",
              "      <td>12/1/2017</td>\n",
              "      <td>Battle royale</td>\n",
              "      <td>PUBG Studios</td>\n",
              "      <td>Krafton</td>\n",
              "    </tr>\n",
              "    <tr>\n",
              "      <th>1</th>\n",
              "      <td>Minecraft</td>\n",
              "      <td>33.0</td>\n",
              "      <td>Minecraft</td>\n",
              "      <td>11/1/2011</td>\n",
              "      <td>Sandbox, survival</td>\n",
              "      <td>Mojang Studios</td>\n",
              "      <td>Mojang Studios</td>\n",
              "    </tr>\n",
              "    <tr>\n",
              "      <th>2</th>\n",
              "      <td>Diablo III</td>\n",
              "      <td>20.0</td>\n",
              "      <td>Diablo</td>\n",
              "      <td>5/1/2012</td>\n",
              "      <td>Action role-playing</td>\n",
              "      <td>Blizzard Entertainment</td>\n",
              "      <td>Blizzard Entertainment</td>\n",
              "    </tr>\n",
              "    <tr>\n",
              "      <th>3</th>\n",
              "      <td>Garry's Mod</td>\n",
              "      <td>20.0</td>\n",
              "      <td>NaN</td>\n",
              "      <td>11/1/2006</td>\n",
              "      <td>Sandbox</td>\n",
              "      <td>Facepunch Studios</td>\n",
              "      <td>Valve</td>\n",
              "    </tr>\n",
              "    <tr>\n",
              "      <th>4</th>\n",
              "      <td>Terraria</td>\n",
              "      <td>17.2</td>\n",
              "      <td>NaN</td>\n",
              "      <td>5/1/2011</td>\n",
              "      <td>Action-adventure</td>\n",
              "      <td>Re-Logic</td>\n",
              "      <td>Re-Logic</td>\n",
              "    </tr>\n",
              "    <tr>\n",
              "      <th>...</th>\n",
              "      <td>...</td>\n",
              "      <td>...</td>\n",
              "      <td>...</td>\n",
              "      <td>...</td>\n",
              "      <td>...</td>\n",
              "      <td>...</td>\n",
              "      <td>...</td>\n",
              "    </tr>\n",
              "    <tr>\n",
              "      <th>172</th>\n",
              "      <td>Who Wants to Be a Millionaire?</td>\n",
              "      <td>1.0</td>\n",
              "      <td>NaN</td>\n",
              "      <td>11/1/1999</td>\n",
              "      <td>Trivia game</td>\n",
              "      <td>Jellyvision</td>\n",
              "      <td>Disney Interactive Studios</td>\n",
              "    </tr>\n",
              "    <tr>\n",
              "      <th>173</th>\n",
              "      <td>Wing Commander 3: Heart of the Tiger</td>\n",
              "      <td>1.0</td>\n",
              "      <td>Wing Commander</td>\n",
              "      <td>12/1/1994</td>\n",
              "      <td>Space combat simulation</td>\n",
              "      <td>Origin Systems</td>\n",
              "      <td>Electronic Arts</td>\n",
              "    </tr>\n",
              "    <tr>\n",
              "      <th>174</th>\n",
              "      <td>Zoo Tycoon</td>\n",
              "      <td>1.0</td>\n",
              "      <td>Zoo Tycoon</td>\n",
              "      <td>10/1/2001</td>\n",
              "      <td>Business simulation</td>\n",
              "      <td>Microsoft</td>\n",
              "      <td>Blue Fang Games</td>\n",
              "    </tr>\n",
              "    <tr>\n",
              "      <th>175</th>\n",
              "      <td>StarCraft II: Heart of the Swarm</td>\n",
              "      <td>1.0</td>\n",
              "      <td>StarCraft</td>\n",
              "      <td>3/1/2013</td>\n",
              "      <td>Real-time strategy</td>\n",
              "      <td>Blizzard Entertainment</td>\n",
              "      <td>Blizzard Entertainment</td>\n",
              "    </tr>\n",
              "    <tr>\n",
              "      <th>176</th>\n",
              "      <td>StarCraft II: Legacy of the Void</td>\n",
              "      <td>1.0</td>\n",
              "      <td>StarCraft</td>\n",
              "      <td>11/1/2015</td>\n",
              "      <td>Real-time strategy</td>\n",
              "      <td>Blizzard Entertainment</td>\n",
              "      <td>Blizzard Entertainment</td>\n",
              "    </tr>\n",
              "  </tbody>\n",
              "</table>\n",
              "<p>177 rows × 7 columns</p>\n",
              "</div>"
            ],
            "text/plain": [
              "                                     Name  Sales          Series    Release  \\\n",
              "0           PlayerUnknown's Battlegrounds   42.0             NaN  12/1/2017   \n",
              "1                               Minecraft   33.0       Minecraft  11/1/2011   \n",
              "2                              Diablo III   20.0          Diablo   5/1/2012   \n",
              "3                             Garry's Mod   20.0             NaN  11/1/2006   \n",
              "4                                Terraria   17.2             NaN   5/1/2011   \n",
              "..                                    ...    ...             ...        ...   \n",
              "172        Who Wants to Be a Millionaire?    1.0             NaN  11/1/1999   \n",
              "173  Wing Commander 3: Heart of the Tiger    1.0  Wing Commander  12/1/1994   \n",
              "174                            Zoo Tycoon    1.0      Zoo Tycoon  10/1/2001   \n",
              "175      StarCraft II: Heart of the Swarm    1.0       StarCraft   3/1/2013   \n",
              "176      StarCraft II: Legacy of the Void    1.0       StarCraft  11/1/2015   \n",
              "\n",
              "                       Genre               Developer  \\\n",
              "0              Battle royale            PUBG Studios   \n",
              "1          Sandbox, survival          Mojang Studios   \n",
              "2        Action role-playing  Blizzard Entertainment   \n",
              "3                    Sandbox       Facepunch Studios   \n",
              "4           Action-adventure                Re-Logic   \n",
              "..                       ...                     ...   \n",
              "172              Trivia game             Jellyvision   \n",
              "173  Space combat simulation          Origin Systems   \n",
              "174      Business simulation               Microsoft   \n",
              "175       Real-time strategy  Blizzard Entertainment   \n",
              "176       Real-time strategy  Blizzard Entertainment   \n",
              "\n",
              "                      Publisher  \n",
              "0                       Krafton  \n",
              "1                Mojang Studios  \n",
              "2        Blizzard Entertainment  \n",
              "3                         Valve  \n",
              "4                      Re-Logic  \n",
              "..                          ...  \n",
              "172  Disney Interactive Studios  \n",
              "173             Electronic Arts  \n",
              "174             Blue Fang Games  \n",
              "175      Blizzard Entertainment  \n",
              "176      Blizzard Entertainment  \n",
              "\n",
              "[177 rows x 7 columns]"
            ]
          },
          "execution_count": 58,
          "metadata": {},
          "output_type": "execute_result"
        }
      ],
      "source": [
        "sheet_id = '1yvupyDFzJLjKU2aB46iTT3Sh4hGxqqPzFbWl1kCxq-s'\n",
        "sheet_name = 'games_sales'\n",
        "url = f'https://docs.google.com/spreadsheets/d/{sheet_id}/gviz/tq?tqx=out:csv&sheet={sheet_name}'\n",
        "game_sales = pd.read_csv(url)\n",
        "game_sales"
      ]
    },
    {
      "cell_type": "code",
      "execution_count": 59,
      "metadata": {
        "colab": {
          "base_uri": "https://localhost:8080/"
        },
        "id": "MkF9f8bDn19L",
        "outputId": "c70885a2-d657-4579-c939-968f7766ac27"
      },
      "outputs": [
        {
          "name": "stdout",
          "output_type": "stream",
          "text": [
            "<class 'pandas.core.frame.DataFrame'>\n",
            "RangeIndex: 177 entries, 0 to 176\n",
            "Data columns (total 7 columns):\n",
            " #   Column     Non-Null Count  Dtype  \n",
            "---  ------     --------------  -----  \n",
            " 0   Name       177 non-null    object \n",
            " 1   Sales      177 non-null    float64\n",
            " 2   Series     141 non-null    object \n",
            " 3   Release    177 non-null    object \n",
            " 4   Genre      177 non-null    object \n",
            " 5   Developer  177 non-null    object \n",
            " 6   Publisher  177 non-null    object \n",
            "dtypes: float64(1), object(6)\n",
            "memory usage: 9.8+ KB\n"
          ]
        }
      ],
      "source": [
        "game_sales.info()"
      ]
    },
    {
      "cell_type": "code",
      "execution_count": 60,
      "metadata": {
        "id": "MogvUb4VoAO1"
      },
      "outputs": [],
      "source": [
        "games_changed = game_sales.copy()"
      ]
    },
    {
      "cell_type": "markdown",
      "metadata": {
        "id": "YviWQjnOqgX0"
      },
      "source": [
        "# Mengubah Tipe Data Column 'Released' menjadi Datetime"
      ]
    },
    {
      "cell_type": "code",
      "execution_count": 61,
      "metadata": {
        "colab": {
          "base_uri": "https://localhost:8080/"
        },
        "id": "XCDl3cW7oLlD",
        "outputId": "1bca4995-574a-4b9f-87e5-c050b0cad685"
      },
      "outputs": [
        {
          "name": "stdout",
          "output_type": "stream",
          "text": [
            "<class 'pandas.core.frame.DataFrame'>\n",
            "RangeIndex: 177 entries, 0 to 176\n",
            "Data columns (total 7 columns):\n",
            " #   Column     Non-Null Count  Dtype         \n",
            "---  ------     --------------  -----         \n",
            " 0   Name       177 non-null    object        \n",
            " 1   Sales      177 non-null    float64       \n",
            " 2   Series     141 non-null    object        \n",
            " 3   Release    177 non-null    datetime64[ns]\n",
            " 4   Genre      177 non-null    object        \n",
            " 5   Developer  177 non-null    object        \n",
            " 6   Publisher  177 non-null    object        \n",
            "dtypes: datetime64[ns](1), float64(1), object(5)\n",
            "memory usage: 9.8+ KB\n"
          ]
        }
      ],
      "source": [
        "games_changed['Release'] = pd.to_datetime(games_changed['Release'])\n",
        "games_changed.info()"
      ]
    },
    {
      "cell_type": "code",
      "execution_count": 62,
      "metadata": {},
      "outputs": [
        {
          "data": {
            "text/html": [
              "<div>\n",
              "<style scoped>\n",
              "    .dataframe tbody tr th:only-of-type {\n",
              "        vertical-align: middle;\n",
              "    }\n",
              "\n",
              "    .dataframe tbody tr th {\n",
              "        vertical-align: top;\n",
              "    }\n",
              "\n",
              "    .dataframe thead th {\n",
              "        text-align: right;\n",
              "    }\n",
              "</style>\n",
              "<table border=\"1\" class=\"dataframe\">\n",
              "  <thead>\n",
              "    <tr style=\"text-align: right;\">\n",
              "      <th></th>\n",
              "      <th>Name</th>\n",
              "      <th>Sales</th>\n",
              "      <th>Series</th>\n",
              "      <th>Release</th>\n",
              "      <th>Genre</th>\n",
              "      <th>Developer</th>\n",
              "      <th>Publisher</th>\n",
              "    </tr>\n",
              "  </thead>\n",
              "  <tbody>\n",
              "    <tr>\n",
              "      <th>0</th>\n",
              "      <td>PlayerUnknown's Battlegrounds</td>\n",
              "      <td>42.0</td>\n",
              "      <td>NaN</td>\n",
              "      <td>2017-12-01</td>\n",
              "      <td>Battle royale</td>\n",
              "      <td>PUBG Studios</td>\n",
              "      <td>Krafton</td>\n",
              "    </tr>\n",
              "    <tr>\n",
              "      <th>1</th>\n",
              "      <td>Minecraft</td>\n",
              "      <td>33.0</td>\n",
              "      <td>Minecraft</td>\n",
              "      <td>2011-11-01</td>\n",
              "      <td>Sandbox, survival</td>\n",
              "      <td>Mojang Studios</td>\n",
              "      <td>Mojang Studios</td>\n",
              "    </tr>\n",
              "    <tr>\n",
              "      <th>2</th>\n",
              "      <td>Diablo III</td>\n",
              "      <td>20.0</td>\n",
              "      <td>Diablo</td>\n",
              "      <td>2012-05-01</td>\n",
              "      <td>Action role-playing</td>\n",
              "      <td>Blizzard Entertainment</td>\n",
              "      <td>Blizzard Entertainment</td>\n",
              "    </tr>\n",
              "    <tr>\n",
              "      <th>3</th>\n",
              "      <td>Garry's Mod</td>\n",
              "      <td>20.0</td>\n",
              "      <td>NaN</td>\n",
              "      <td>2006-11-01</td>\n",
              "      <td>Sandbox</td>\n",
              "      <td>Facepunch Studios</td>\n",
              "      <td>Valve</td>\n",
              "    </tr>\n",
              "    <tr>\n",
              "      <th>4</th>\n",
              "      <td>Terraria</td>\n",
              "      <td>17.2</td>\n",
              "      <td>NaN</td>\n",
              "      <td>2011-05-01</td>\n",
              "      <td>Action-adventure</td>\n",
              "      <td>Re-Logic</td>\n",
              "      <td>Re-Logic</td>\n",
              "    </tr>\n",
              "    <tr>\n",
              "      <th>5</th>\n",
              "      <td>World of Warcraft</td>\n",
              "      <td>14.0</td>\n",
              "      <td>Warcraft</td>\n",
              "      <td>2004-11-01</td>\n",
              "      <td>MMORPG</td>\n",
              "      <td>Blizzard Entertainment</td>\n",
              "      <td>Blizzard Entertainment</td>\n",
              "    </tr>\n",
              "    <tr>\n",
              "      <th>6</th>\n",
              "      <td>Half-Life 2</td>\n",
              "      <td>12.0</td>\n",
              "      <td>Half-Life</td>\n",
              "      <td>2004-11-01</td>\n",
              "      <td>First-person shooter</td>\n",
              "      <td>Valve</td>\n",
              "      <td>Valve (digital)</td>\n",
              "    </tr>\n",
              "    <tr>\n",
              "      <th>7</th>\n",
              "      <td>The Witcher 3: Wild Hunt</td>\n",
              "      <td>12.0</td>\n",
              "      <td>The Witcher</td>\n",
              "      <td>2015-05-01</td>\n",
              "      <td>Action role-playing</td>\n",
              "      <td>CD Projekt Red</td>\n",
              "      <td>CD Projekt</td>\n",
              "    </tr>\n",
              "    <tr>\n",
              "      <th>8</th>\n",
              "      <td>StarCraft</td>\n",
              "      <td>11.0</td>\n",
              "      <td>StarCraft</td>\n",
              "      <td>1998-03-01</td>\n",
              "      <td>Real-time strategy</td>\n",
              "      <td>Blizzard Entertainment</td>\n",
              "      <td>Blizzard Entertainment</td>\n",
              "    </tr>\n",
              "    <tr>\n",
              "      <th>9</th>\n",
              "      <td>The Sims</td>\n",
              "      <td>11.0</td>\n",
              "      <td>The Sims</td>\n",
              "      <td>2000-02-01</td>\n",
              "      <td>Life simulation</td>\n",
              "      <td>Maxis</td>\n",
              "      <td>Electronic Arts</td>\n",
              "    </tr>\n",
              "  </tbody>\n",
              "</table>\n",
              "</div>"
            ],
            "text/plain": [
              "                            Name  Sales       Series    Release  \\\n",
              "0  PlayerUnknown's Battlegrounds   42.0          NaN 2017-12-01   \n",
              "1                      Minecraft   33.0    Minecraft 2011-11-01   \n",
              "2                     Diablo III   20.0       Diablo 2012-05-01   \n",
              "3                    Garry's Mod   20.0          NaN 2006-11-01   \n",
              "4                       Terraria   17.2          NaN 2011-05-01   \n",
              "5              World of Warcraft   14.0     Warcraft 2004-11-01   \n",
              "6                    Half-Life 2   12.0    Half-Life 2004-11-01   \n",
              "7       The Witcher 3: Wild Hunt   12.0  The Witcher 2015-05-01   \n",
              "8                      StarCraft   11.0    StarCraft 1998-03-01   \n",
              "9                       The Sims   11.0     The Sims 2000-02-01   \n",
              "\n",
              "                  Genre               Developer               Publisher  \n",
              "0         Battle royale            PUBG Studios                 Krafton  \n",
              "1     Sandbox, survival          Mojang Studios          Mojang Studios  \n",
              "2   Action role-playing  Blizzard Entertainment  Blizzard Entertainment  \n",
              "3               Sandbox       Facepunch Studios                   Valve  \n",
              "4      Action-adventure                Re-Logic                Re-Logic  \n",
              "5                MMORPG  Blizzard Entertainment  Blizzard Entertainment  \n",
              "6  First-person shooter                   Valve         Valve (digital)  \n",
              "7   Action role-playing          CD Projekt Red              CD Projekt  \n",
              "8    Real-time strategy  Blizzard Entertainment  Blizzard Entertainment  \n",
              "9       Life simulation                   Maxis         Electronic Arts  "
            ]
          },
          "execution_count": 62,
          "metadata": {},
          "output_type": "execute_result"
        }
      ],
      "source": [
        "games_cleaned = games_changed.drop_duplicates()\n",
        "games_cleaned.head(10)"
      ]
    },
    {
      "cell_type": "code",
      "execution_count": 63,
      "metadata": {
        "colab": {
          "base_uri": "https://localhost:8080/"
        },
        "id": "FJqEBJQr28Ok",
        "outputId": "2ad4eb93-8512-49b1-e650-3af4d7774989"
      },
      "outputs": [
        {
          "name": "stdout",
          "output_type": "stream",
          "text": [
            "Command & Conquer        5\n",
            "StarCraft                4\n",
            "Civilization             4\n",
            "Age of Empires           4\n",
            "Warcraft                 3\n",
            "                        ..\n",
            "Alice                    1\n",
            "Ark: Survival Evolved    1\n",
            "BioShock                 1\n",
            "Commandos                1\n",
            "Zoo Tycoon               1\n",
            "Name: Series, Length: 91, dtype: int64 \n",
            "\n",
            "Blizzard Entertainment             8\n",
            "Maxis                              6\n",
            "Paradox Development Studio         5\n",
            "id Software                        4\n",
            "Westwood Studios                   4\n",
            "                                  ..\n",
            "Kojima Productions                 1\n",
            "Edmund McMillen & Florian Himsl    1\n",
            "Landfall Games                     1\n",
            "Keen Software House                1\n",
            "Microsoft                          1\n",
            "Name: Developer, Length: 109, dtype: int64 \n",
            "\n",
            "Electronic Arts           19\n",
            "Blizzard Entertainment     8\n",
            "Paradox Interactive        7\n",
            "Activision                 6\n",
            "GT Interactive             5\n",
            "                          ..\n",
            "Landfall Games             1\n",
            "Headup Games               1\n",
            "Atari, Inc                 1\n",
            "Konami                     1\n",
            "Blue Fang Games            1\n",
            "Name: Publisher, Length: 96, dtype: int64 \n",
            "\n"
          ]
        }
      ],
      "source": [
        "for col_name in ['Series', 'Developer', 'Publisher']:\n",
        "    print(games_cleaned[col_name].value_counts(), '\\n')"
      ]
    },
    {
      "cell_type": "markdown",
      "metadata": {
        "id": "04EmViEVqrzt"
      },
      "source": [
        "### 1. Which Game is the oldest and newest in that Dataset?\n",
        "\n"
      ]
    },
    {
      "cell_type": "code",
      "execution_count": 64,
      "metadata": {
        "colab": {
          "base_uri": "https://localhost:8080/",
          "height": 423
        },
        "id": "SoLqSYlRENBh",
        "outputId": "8f1a27f3-6717-4e1a-b010-254d61e84e82"
      },
      "outputs": [
        {
          "data": {
            "text/html": [
              "<div>\n",
              "<style scoped>\n",
              "    .dataframe tbody tr th:only-of-type {\n",
              "        vertical-align: middle;\n",
              "    }\n",
              "\n",
              "    .dataframe tbody tr th {\n",
              "        vertical-align: top;\n",
              "    }\n",
              "\n",
              "    .dataframe thead th {\n",
              "        text-align: right;\n",
              "    }\n",
              "</style>\n",
              "<table border=\"1\" class=\"dataframe\">\n",
              "  <thead>\n",
              "    <tr style=\"text-align: right;\">\n",
              "      <th></th>\n",
              "      <th>Release</th>\n",
              "      <th>Name</th>\n",
              "    </tr>\n",
              "  </thead>\n",
              "  <tbody>\n",
              "    <tr>\n",
              "      <th>0</th>\n",
              "      <td>1984-12-01</td>\n",
              "      <td>Hydlide</td>\n",
              "    </tr>\n",
              "    <tr>\n",
              "      <th>1</th>\n",
              "      <td>1985-06-01</td>\n",
              "      <td>Where in the World Is Carmen Sandiego?</td>\n",
              "    </tr>\n",
              "    <tr>\n",
              "      <th>2</th>\n",
              "      <td>1985-11-01</td>\n",
              "      <td>International Karate</td>\n",
              "    </tr>\n",
              "    <tr>\n",
              "      <th>3</th>\n",
              "      <td>1988-01-01</td>\n",
              "      <td>Tetris</td>\n",
              "    </tr>\n",
              "    <tr>\n",
              "      <th>4</th>\n",
              "      <td>1988-08-01</td>\n",
              "      <td>Last Ninja 2</td>\n",
              "    </tr>\n",
              "    <tr>\n",
              "      <th>...</th>\n",
              "      <td>...</td>\n",
              "      <td>...</td>\n",
              "    </tr>\n",
              "    <tr>\n",
              "      <th>125</th>\n",
              "      <td>2019-04-01</td>\n",
              "      <td>Mordhau</td>\n",
              "    </tr>\n",
              "    <tr>\n",
              "      <th>126</th>\n",
              "      <td>2020-08-01</td>\n",
              "      <td>Fall Guys</td>\n",
              "    </tr>\n",
              "    <tr>\n",
              "      <th>127</th>\n",
              "      <td>2020-09-01</td>\n",
              "      <td>Crusader Kings III</td>\n",
              "    </tr>\n",
              "    <tr>\n",
              "      <th>128</th>\n",
              "      <td>2020-12-01</td>\n",
              "      <td>Cyberpunk 2077</td>\n",
              "    </tr>\n",
              "    <tr>\n",
              "      <th>129</th>\n",
              "      <td>2021-02-01</td>\n",
              "      <td>Valheim</td>\n",
              "    </tr>\n",
              "  </tbody>\n",
              "</table>\n",
              "<p>130 rows × 2 columns</p>\n",
              "</div>"
            ],
            "text/plain": [
              "       Release                                    Name\n",
              "0   1984-12-01                                 Hydlide\n",
              "1   1985-06-01  Where in the World Is Carmen Sandiego?\n",
              "2   1985-11-01                    International Karate\n",
              "3   1988-01-01                                  Tetris\n",
              "4   1988-08-01                            Last Ninja 2\n",
              "..         ...                                     ...\n",
              "125 2019-04-01                                 Mordhau\n",
              "126 2020-08-01                               Fall Guys\n",
              "127 2020-09-01                      Crusader Kings III\n",
              "128 2020-12-01                          Cyberpunk 2077\n",
              "129 2021-02-01                                 Valheim\n",
              "\n",
              "[130 rows x 2 columns]"
            ]
          },
          "execution_count": 64,
          "metadata": {},
          "output_type": "execute_result"
        }
      ],
      "source": [
        "sorted_release = games_cleaned.groupby('Release', as_index=False)['Name'].sum()\n",
        "sorted_release"
      ]
    },
    {
      "cell_type": "code",
      "execution_count": 65,
      "metadata": {
        "id": "D9E0Mjmuoifz"
      },
      "outputs": [],
      "source": [
        "# sorted_release = games_cleaned.sort_values(by=['Release'], ascending=True)\n",
        "# sorted_release"
      ]
    },
    {
      "cell_type": "markdown",
      "metadata": {
        "id": "aeBmT8Impxcv"
      },
      "source": [
        "oldest game to had been Released  = Hydlide\n",
        "\n",
        "Newest Game to had been Released = Valheim"
      ]
    },
    {
      "cell_type": "markdown",
      "metadata": {
        "id": "Mg8uT7NarOqm"
      },
      "source": [
        "### 2. Which Publisher published most of the games?"
      ]
    },
    {
      "cell_type": "code",
      "execution_count": 66,
      "metadata": {},
      "outputs": [
        {
          "data": {
            "text/html": [
              "<div>\n",
              "<style scoped>\n",
              "    .dataframe tbody tr th:only-of-type {\n",
              "        vertical-align: middle;\n",
              "    }\n",
              "\n",
              "    .dataframe tbody tr th {\n",
              "        vertical-align: top;\n",
              "    }\n",
              "\n",
              "    .dataframe thead th {\n",
              "        text-align: right;\n",
              "    }\n",
              "</style>\n",
              "<table border=\"1\" class=\"dataframe\">\n",
              "  <thead>\n",
              "    <tr style=\"text-align: right;\">\n",
              "      <th></th>\n",
              "      <th>Publisher</th>\n",
              "      <th>Name</th>\n",
              "    </tr>\n",
              "  </thead>\n",
              "  <tbody>\n",
              "    <tr>\n",
              "      <th>28</th>\n",
              "      <td>Electronic Arts</td>\n",
              "      <td>19</td>\n",
              "    </tr>\n",
              "    <tr>\n",
              "      <th>8</th>\n",
              "      <td>Blizzard Entertainment</td>\n",
              "      <td>8</td>\n",
              "    </tr>\n",
              "    <tr>\n",
              "      <th>62</th>\n",
              "      <td>Paradox Interactive</td>\n",
              "      <td>7</td>\n",
              "    </tr>\n",
              "    <tr>\n",
              "      <th>2</th>\n",
              "      <td>Activision</td>\n",
              "      <td>6</td>\n",
              "    </tr>\n",
              "    <tr>\n",
              "      <th>37</th>\n",
              "      <td>GT Interactive</td>\n",
              "      <td>5</td>\n",
              "    </tr>\n",
              "    <tr>\n",
              "      <th>...</th>\n",
              "      <td>...</td>\n",
              "      <td>...</td>\n",
              "    </tr>\n",
              "    <tr>\n",
              "      <th>36</th>\n",
              "      <td>Frontier Developments</td>\n",
              "      <td>1</td>\n",
              "    </tr>\n",
              "    <tr>\n",
              "      <th>35</th>\n",
              "      <td>Facepunch Studios</td>\n",
              "      <td>1</td>\n",
              "    </tr>\n",
              "    <tr>\n",
              "      <th>34</th>\n",
              "      <td>FX Interactive</td>\n",
              "      <td>1</td>\n",
              "    </tr>\n",
              "    <tr>\n",
              "      <th>33</th>\n",
              "      <td>Epyx</td>\n",
              "      <td>1</td>\n",
              "    </tr>\n",
              "    <tr>\n",
              "      <th>95</th>\n",
              "      <td>id Software</td>\n",
              "      <td>1</td>\n",
              "    </tr>\n",
              "  </tbody>\n",
              "</table>\n",
              "<p>96 rows × 2 columns</p>\n",
              "</div>"
            ],
            "text/plain": [
              "                 Publisher  Name\n",
              "28         Electronic Arts    19\n",
              "8   Blizzard Entertainment     8\n",
              "62     Paradox Interactive     7\n",
              "2               Activision     6\n",
              "37          GT Interactive     5\n",
              "..                     ...   ...\n",
              "36   Frontier Developments     1\n",
              "35       Facepunch Studios     1\n",
              "34          FX Interactive     1\n",
              "33                    Epyx     1\n",
              "95             id Software     1\n",
              "\n",
              "[96 rows x 2 columns]"
            ]
          },
          "execution_count": 66,
          "metadata": {},
          "output_type": "execute_result"
        }
      ],
      "source": [
        "agg_publisher = games_cleaned.groupby('Publisher', as_index=False)['Name'].nunique()\n",
        "agg_publisher.sort_values('Name', ascending=False)"
      ]
    },
    {
      "cell_type": "code",
      "execution_count": 67,
      "metadata": {},
      "outputs": [
        {
          "data": {
            "text/plain": [
              "<Axes: xlabel='Publisher', ylabel='Name'>"
            ]
          },
          "execution_count": 67,
          "metadata": {},
          "output_type": "execute_result"
        },
        {
          "data": {
            "image/png": "[encoded data removed]",
            "text/plain": [
              "<Figure size 2000x500 with 1 Axes>"
            ]
          },
          "metadata": {},
          "output_type": "display_data"
        }
      ],
      "source": [
        "plt.rcParams['figure.figsize'] = (20,5)\n",
        "sns.barplot(x='Publisher', y='Name', data=agg_publisher.sort_values('Name', ascending=False).head(10))"
      ]
    },
    {
      "cell_type": "code",
      "execution_count": 68,
      "metadata": {
        "colab": {
          "base_uri": "https://localhost:8080/"
        },
        "id": "RU5qA_7WrSiw",
        "outputId": "a3ae8df2-36ca-4420-ab89-828d315db430"
      },
      "outputs": [],
      "source": [
        "# top_publisher = games_cleaned['Publisher'].value_counts().loc[lambda x : x>=4]\n",
        "# top_publisher\n",
        "# df['your_column'].value_counts().loc[lambda x : x>1]"
      ]
    },
    {
      "cell_type": "markdown",
      "metadata": {
        "id": "Lpi7B9llsVUn"
      },
      "source": [
        "Electronic Arts have published most of the games"
      ]
    },
    {
      "cell_type": "markdown",
      "metadata": {
        "id": "mXBxA7aWs5Ej"
      },
      "source": [
        "### 3. Which Developer developed most of the games?"
      ]
    },
    {
      "cell_type": "code",
      "execution_count": 69,
      "metadata": {},
      "outputs": [
        {
          "data": {
            "text/html": [
              "<div>\n",
              "<style scoped>\n",
              "    .dataframe tbody tr th:only-of-type {\n",
              "        vertical-align: middle;\n",
              "    }\n",
              "\n",
              "    .dataframe tbody tr th {\n",
              "        vertical-align: top;\n",
              "    }\n",
              "\n",
              "    .dataframe thead th {\n",
              "        text-align: right;\n",
              "    }\n",
              "</style>\n",
              "<table border=\"1\" class=\"dataframe\">\n",
              "  <thead>\n",
              "    <tr style=\"text-align: right;\">\n",
              "      <th></th>\n",
              "      <th>Developer</th>\n",
              "      <th>Name</th>\n",
              "    </tr>\n",
              "  </thead>\n",
              "  <tbody>\n",
              "    <tr>\n",
              "      <th>6</th>\n",
              "      <td>Blizzard Entertainment</td>\n",
              "      <td>8</td>\n",
              "    </tr>\n",
              "    <tr>\n",
              "      <th>60</th>\n",
              "      <td>Maxis</td>\n",
              "      <td>6</td>\n",
              "    </tr>\n",
              "    <tr>\n",
              "      <th>70</th>\n",
              "      <td>Paradox Development Studio</td>\n",
              "      <td>5</td>\n",
              "    </tr>\n",
              "    <tr>\n",
              "      <th>108</th>\n",
              "      <td>id Software</td>\n",
              "      <td>4</td>\n",
              "    </tr>\n",
              "    <tr>\n",
              "      <th>106</th>\n",
              "      <td>Westwood Studios</td>\n",
              "      <td>4</td>\n",
              "    </tr>\n",
              "    <tr>\n",
              "      <th>...</th>\n",
              "      <td>...</td>\n",
              "      <td>...</td>\n",
              "    </tr>\n",
              "    <tr>\n",
              "      <th>48</th>\n",
              "      <td>Introversion Software</td>\n",
              "      <td>1</td>\n",
              "    </tr>\n",
              "    <tr>\n",
              "      <th>47</th>\n",
              "      <td>Infocom</td>\n",
              "      <td>1</td>\n",
              "    </tr>\n",
              "    <tr>\n",
              "      <th>44</th>\n",
              "      <td>Heuristic Park</td>\n",
              "      <td>1</td>\n",
              "    </tr>\n",
              "    <tr>\n",
              "      <th>42</th>\n",
              "      <td>Gray Matter Interactive</td>\n",
              "      <td>1</td>\n",
              "    </tr>\n",
              "    <tr>\n",
              "      <th>54</th>\n",
              "      <td>Kojima Productions</td>\n",
              "      <td>1</td>\n",
              "    </tr>\n",
              "  </tbody>\n",
              "</table>\n",
              "<p>109 rows × 2 columns</p>\n",
              "</div>"
            ],
            "text/plain": [
              "                      Developer  Name\n",
              "6        Blizzard Entertainment     8\n",
              "60                        Maxis     6\n",
              "70   Paradox Development Studio     5\n",
              "108                 id Software     4\n",
              "106            Westwood Studios     4\n",
              "..                          ...   ...\n",
              "48        Introversion Software     1\n",
              "47                      Infocom     1\n",
              "44               Heuristic Park     1\n",
              "42      Gray Matter Interactive     1\n",
              "54           Kojima Productions     1\n",
              "\n",
              "[109 rows x 2 columns]"
            ]
          },
          "execution_count": 69,
          "metadata": {},
          "output_type": "execute_result"
        }
      ],
      "source": [
        "# top_dev = games_cleaned.groupby(\"Developer\")[\"Name\"].count().sort_values(ascending=False)\n",
        "top_dev = games_cleaned.groupby('Developer', as_index=False)['Name'].count().sort_values(by='Name',ascending=False).dropna()\n",
        "top_dev"
      ]
    },
    {
      "cell_type": "code",
      "execution_count": 70,
      "metadata": {},
      "outputs": [
        {
          "data": {
            "text/plain": [
              "<Axes: xlabel='Developer', ylabel='Name'>"
            ]
          },
          "execution_count": 70,
          "metadata": {},
          "output_type": "execute_result"
        },
        {
          "data": {
            "image/png": "[encoded data removed]",
            "text/plain": [
              "<Figure size 2000x500 with 1 Axes>"
            ]
          },
          "metadata": {},
          "output_type": "display_data"
        }
      ],
      "source": [
        "sns.barplot(x='Developer', y='Name', data=top_dev.sort_values('Name', ascending=False).head(10))"
      ]
    },
    {
      "cell_type": "markdown",
      "metadata": {
        "id": "BYrEeW_SuEf_"
      },
      "source": [
        "Blizzard Entertainment have developed most of the games"
      ]
    },
    {
      "cell_type": "markdown",
      "metadata": {
        "id": "SFCPLINFucSt"
      },
      "source": [
        "### 4. Which Series has the most sales?"
      ]
    },
    {
      "cell_type": "code",
      "execution_count": 71,
      "metadata": {
        "id": "f8fEX0CvKE6D"
      },
      "outputs": [],
      "source": [
        "# games_cleaned.sort_values(by=['Sales'], ascending=False).dropna()"
      ]
    },
    {
      "cell_type": "code",
      "execution_count": 75,
      "metadata": {
        "colab": {
          "base_uri": "https://localhost:8080/",
          "height": 81
        },
        "id": "fvbSq77XuiLo",
        "outputId": "58a63600-cea6-4948-b656-69b1dfb23207"
      },
      "outputs": [
        {
          "data": {
            "text/html": [
              "<div>\n",
              "<style scoped>\n",
              "    .dataframe tbody tr th:only-of-type {\n",
              "        vertical-align: middle;\n",
              "    }\n",
              "\n",
              "    .dataframe tbody tr th {\n",
              "        vertical-align: top;\n",
              "    }\n",
              "\n",
              "    .dataframe thead th {\n",
              "        text-align: right;\n",
              "    }\n",
              "</style>\n",
              "<table border=\"1\" class=\"dataframe\">\n",
              "  <thead>\n",
              "    <tr style=\"text-align: right;\">\n",
              "      <th></th>\n",
              "      <th>Series</th>\n",
              "      <th>Sales</th>\n",
              "      <th>Name</th>\n",
              "    </tr>\n",
              "  </thead>\n",
              "  <tbody>\n",
              "    <tr>\n",
              "      <th>47</th>\n",
              "      <td>Minecraft</td>\n",
              "      <td>33.0</td>\n",
              "      <td>1</td>\n",
              "    </tr>\n",
              "    <tr>\n",
              "      <th>22</th>\n",
              "      <td>Diablo</td>\n",
              "      <td>26.0</td>\n",
              "      <td>3</td>\n",
              "    </tr>\n",
              "    <tr>\n",
              "      <th>75</th>\n",
              "      <td>The Sims</td>\n",
              "      <td>24.0</td>\n",
              "      <td>3</td>\n",
              "    </tr>\n",
              "    <tr>\n",
              "      <th>36</th>\n",
              "      <td>Half-Life</td>\n",
              "      <td>21.0</td>\n",
              "      <td>2</td>\n",
              "    </tr>\n",
              "    <tr>\n",
              "      <th>85</th>\n",
              "      <td>Warcraft</td>\n",
              "      <td>19.0</td>\n",
              "      <td>3</td>\n",
              "    </tr>\n",
              "    <tr>\n",
              "      <th>68</th>\n",
              "      <td>StarCraft</td>\n",
              "      <td>19.0</td>\n",
              "      <td>4</td>\n",
              "    </tr>\n",
              "    <tr>\n",
              "      <th>76</th>\n",
              "      <td>The Witcher</td>\n",
              "      <td>16.0</td>\n",
              "      <td>3</td>\n",
              "    </tr>\n",
              "    <tr>\n",
              "      <th>61</th>\n",
              "      <td>RollerCoaster Tycoon</td>\n",
              "      <td>14.0</td>\n",
              "      <td>2</td>\n",
              "    </tr>\n",
              "    <tr>\n",
              "      <th>12</th>\n",
              "      <td>Civilization</td>\n",
              "      <td>14.0</td>\n",
              "      <td>4</td>\n",
              "    </tr>\n",
              "    <tr>\n",
              "      <th>35</th>\n",
              "      <td>Guild Wars</td>\n",
              "      <td>11.0</td>\n",
              "      <td>2</td>\n",
              "    </tr>\n",
              "  </tbody>\n",
              "</table>\n",
              "</div>"
            ],
            "text/plain": [
              "                  Series  Sales  Name\n",
              "47             Minecraft   33.0     1\n",
              "22                Diablo   26.0     3\n",
              "75              The Sims   24.0     3\n",
              "36             Half-Life   21.0     2\n",
              "85              Warcraft   19.0     3\n",
              "68             StarCraft   19.0     4\n",
              "76           The Witcher   16.0     3\n",
              "61  RollerCoaster Tycoon   14.0     2\n",
              "12          Civilization   14.0     4\n",
              "35            Guild Wars   11.0     2"
            ]
          },
          "execution_count": 75,
          "metadata": {},
          "output_type": "execute_result"
        }
      ],
      "source": [
        "series_sales = games_cleaned.groupby('Series', as_index=False).agg({\"Sales\" : \"sum\", \"Name\" : \"nunique\"})\n",
        "series_sales.sort_values('Sales', ascending=False).head(10)"
      ]
    },
    {
      "cell_type": "code",
      "execution_count": 79,
      "metadata": {},
      "outputs": [
        {
          "data": {
            "text/plain": [
              "<Axes: xlabel='Series', ylabel='Sales'>"
            ]
          },
          "execution_count": 79,
          "metadata": {},
          "output_type": "execute_result"
        },
        {
          "data": {
            "image/png": "[encoded data removed]",
            "text/plain": [
              "<Figure size 2000x500 with 1 Axes>"
            ]
          },
          "metadata": {},
          "output_type": "display_data"
        }
      ],
      "source": [
        "sns.barplot(x='Series', y='Sales', data=series_sales.sort_values('Sales', ascending=False).head(10))"
      ]
    },
    {
      "cell_type": "markdown",
      "metadata": {
        "id": "3bliTkP2wj06"
      },
      "source": [
        "Minecraft is the most saled series"
      ]
    },
    {
      "cell_type": "markdown",
      "metadata": {
        "id": "0ZWmA3WQwoCK"
      },
      "source": [
        "### 5. Which Series have the most games?"
      ]
    },
    {
      "cell_type": "code",
      "execution_count": 83,
      "metadata": {
        "colab": {
          "base_uri": "https://localhost:8080/"
        },
        "id": "JyIq-eXrwsuY",
        "outputId": "aca90592-cae1-43fa-f101-091f73be0ad2"
      },
      "outputs": [
        {
          "data": {
            "text/plain": [
              "Series\n",
              "Command & Conquer    5\n",
              "StarCraft            4\n",
              "Age of Empires       4\n",
              "Civilization         4\n",
              "Dark Souls           3\n",
              "SimCity              3\n",
              "Resident Evil        3\n",
              "Warcraft             3\n",
              "The Witcher          3\n",
              "The Sims             3\n",
              "Diablo               3\n",
              "Name: Name, dtype: int64"
            ]
          },
          "execution_count": 83,
          "metadata": {},
          "output_type": "execute_result"
        }
      ],
      "source": [
        "series_counts = games_cleaned.groupby('Series')['Name'].count().sort_values(ascending=False).loc[lambda x : x>=3]\n",
        "series_counts"
      ]
    },
    {
      "cell_type": "code",
      "execution_count": 84,
      "metadata": {},
      "outputs": [
        {
          "data": {
            "text/plain": [
              "<Axes: xlabel='Series', ylabel='Name'>"
            ]
          },
          "execution_count": 84,
          "metadata": {},
          "output_type": "execute_result"
        },
        {
          "data": {
            "image/png": "[encoded data removed]",
            "text/plain": [
              "<Figure size 2000x500 with 1 Axes>"
            ]
          },
          "metadata": {},
          "output_type": "display_data"
        }
      ],
      "source": [
        "sns.barplot(x='Series', y='Name', data=series_sales.sort_values('Name', ascending=False).head(10))"
      ]
    },
    {
      "cell_type": "markdown",
      "metadata": {
        "id": "xpYBaV7Tx9He"
      },
      "source": [
        "Command & Conquer have the most games in series"
      ]
    },
    {
      "cell_type": "markdown",
      "metadata": {},
      "source": [
        "## Genre Chart"
      ]
    },
    {
      "cell_type": "code",
      "execution_count": null,
      "metadata": {},
      "outputs": [
        {
          "name": "stdout",
          "output_type": "stream",
          "text": [
            "Real-time strategy                        26\n",
            "First-person shooter                      19\n",
            "Action role-playing                       12\n",
            "Construction and management simulation     9\n",
            "Role-playing game                          8\n",
            "                                          ..\n",
            "Action role-playing game                   1\n",
            "Maze, arcade                               1\n",
            "Action-adventure, platformer               1\n",
            "Action-adventure, Survival                 1\n",
            "Space combat simulation                    1\n",
            "Name: Genre, Length: 61, dtype: int64\n"
          ]
        }
      ],
      "source": [
        "print(game_sales['Genre'].value_counts())"
      ]
    },
    {
      "cell_type": "code",
      "execution_count": null,
      "metadata": {},
      "outputs": [
        {
          "data": {
            "text/html": [
              "<div>\n",
              "<style scoped>\n",
              "    .dataframe tbody tr th:only-of-type {\n",
              "        vertical-align: middle;\n",
              "    }\n",
              "\n",
              "    .dataframe tbody tr th {\n",
              "        vertical-align: top;\n",
              "    }\n",
              "\n",
              "    .dataframe thead th {\n",
              "        text-align: right;\n",
              "    }\n",
              "</style>\n",
              "<table border=\"1\" class=\"dataframe\">\n",
              "  <thead>\n",
              "    <tr style=\"text-align: right;\">\n",
              "      <th></th>\n",
              "      <th>Name</th>\n",
              "      <th>Sales</th>\n",
              "      <th>Series</th>\n",
              "      <th>Release</th>\n",
              "      <th>Genre</th>\n",
              "      <th>Developer</th>\n",
              "      <th>Publisher</th>\n",
              "    </tr>\n",
              "  </thead>\n",
              "  <tbody>\n",
              "    <tr>\n",
              "      <th>0</th>\n",
              "      <td>PlayerUnknown's Battlegrounds</td>\n",
              "      <td>42.0</td>\n",
              "      <td>NaN</td>\n",
              "      <td>2017-12-01</td>\n",
              "      <td>Battle royale</td>\n",
              "      <td>PUBG Studios</td>\n",
              "      <td>Krafton</td>\n",
              "    </tr>\n",
              "    <tr>\n",
              "      <th>1</th>\n",
              "      <td>Minecraft</td>\n",
              "      <td>33.0</td>\n",
              "      <td>Minecraft</td>\n",
              "      <td>2011-11-01</td>\n",
              "      <td>Sandbox, survival</td>\n",
              "      <td>Mojang Studios</td>\n",
              "      <td>Mojang Studios</td>\n",
              "    </tr>\n",
              "    <tr>\n",
              "      <th>2</th>\n",
              "      <td>Diablo III</td>\n",
              "      <td>20.0</td>\n",
              "      <td>Diablo</td>\n",
              "      <td>2012-05-01</td>\n",
              "      <td>Action role-playing</td>\n",
              "      <td>Blizzard Entertainment</td>\n",
              "      <td>Blizzard Entertainment</td>\n",
              "    </tr>\n",
              "    <tr>\n",
              "      <th>3</th>\n",
              "      <td>Garry's Mod</td>\n",
              "      <td>20.0</td>\n",
              "      <td>NaN</td>\n",
              "      <td>2006-11-01</td>\n",
              "      <td>Sandbox</td>\n",
              "      <td>Facepunch Studios</td>\n",
              "      <td>Valve</td>\n",
              "    </tr>\n",
              "    <tr>\n",
              "      <th>4</th>\n",
              "      <td>Terraria</td>\n",
              "      <td>17.2</td>\n",
              "      <td>NaN</td>\n",
              "      <td>2011-05-01</td>\n",
              "      <td>Action-adventure</td>\n",
              "      <td>Re-Logic</td>\n",
              "      <td>Re-Logic</td>\n",
              "    </tr>\n",
              "    <tr>\n",
              "      <th>...</th>\n",
              "      <td>...</td>\n",
              "      <td>...</td>\n",
              "      <td>...</td>\n",
              "      <td>...</td>\n",
              "      <td>...</td>\n",
              "      <td>...</td>\n",
              "      <td>...</td>\n",
              "    </tr>\n",
              "    <tr>\n",
              "      <th>170</th>\n",
              "      <td>Vietcong</td>\n",
              "      <td>1.0</td>\n",
              "      <td>Vietcong</td>\n",
              "      <td>2003-03-01</td>\n",
              "      <td>Tactical shooter</td>\n",
              "      <td>Pterodon</td>\n",
              "      <td>Gathering of Developers</td>\n",
              "    </tr>\n",
              "    <tr>\n",
              "      <th>171</th>\n",
              "      <td>Warhammer Online: Age of Reckoning</td>\n",
              "      <td>1.0</td>\n",
              "      <td>Warhammer</td>\n",
              "      <td>2008-09-01</td>\n",
              "      <td>MMORPG</td>\n",
              "      <td>Mythic Entertainment</td>\n",
              "      <td>Electronic Arts</td>\n",
              "    </tr>\n",
              "    <tr>\n",
              "      <th>172</th>\n",
              "      <td>Who Wants to Be a Millionaire?</td>\n",
              "      <td>1.0</td>\n",
              "      <td>NaN</td>\n",
              "      <td>1999-11-01</td>\n",
              "      <td>Trivia game</td>\n",
              "      <td>Jellyvision</td>\n",
              "      <td>Disney Interactive Studios</td>\n",
              "    </tr>\n",
              "    <tr>\n",
              "      <th>173</th>\n",
              "      <td>Wing Commander 3: Heart of the Tiger</td>\n",
              "      <td>1.0</td>\n",
              "      <td>Wing Commander</td>\n",
              "      <td>1994-12-01</td>\n",
              "      <td>Space combat simulation</td>\n",
              "      <td>Origin Systems</td>\n",
              "      <td>Electronic Arts</td>\n",
              "    </tr>\n",
              "    <tr>\n",
              "      <th>174</th>\n",
              "      <td>Zoo Tycoon</td>\n",
              "      <td>1.0</td>\n",
              "      <td>Zoo Tycoon</td>\n",
              "      <td>2001-10-01</td>\n",
              "      <td>Business simulation</td>\n",
              "      <td>Microsoft</td>\n",
              "      <td>Blue Fang Games</td>\n",
              "    </tr>\n",
              "  </tbody>\n",
              "</table>\n",
              "<p>175 rows × 7 columns</p>\n",
              "</div>"
            ],
            "text/plain": [
              "                                     Name  Sales          Series    Release  \\\n",
              "0           PlayerUnknown's Battlegrounds   42.0             NaN 2017-12-01   \n",
              "1                               Minecraft   33.0       Minecraft 2011-11-01   \n",
              "2                              Diablo III   20.0          Diablo 2012-05-01   \n",
              "3                             Garry's Mod   20.0             NaN 2006-11-01   \n",
              "4                                Terraria   17.2             NaN 2011-05-01   \n",
              "..                                    ...    ...             ...        ...   \n",
              "170                              Vietcong    1.0        Vietcong 2003-03-01   \n",
              "171    Warhammer Online: Age of Reckoning    1.0       Warhammer 2008-09-01   \n",
              "172        Who Wants to Be a Millionaire?    1.0             NaN 1999-11-01   \n",
              "173  Wing Commander 3: Heart of the Tiger    1.0  Wing Commander 1994-12-01   \n",
              "174                            Zoo Tycoon    1.0      Zoo Tycoon 2001-10-01   \n",
              "\n",
              "                       Genre               Developer  \\\n",
              "0              Battle royale            PUBG Studios   \n",
              "1          Sandbox, survival          Mojang Studios   \n",
              "2        Action role-playing  Blizzard Entertainment   \n",
              "3                    Sandbox       Facepunch Studios   \n",
              "4           Action-adventure                Re-Logic   \n",
              "..                       ...                     ...   \n",
              "170         Tactical shooter                Pterodon   \n",
              "171                   MMORPG    Mythic Entertainment   \n",
              "172              Trivia game             Jellyvision   \n",
              "173  Space combat simulation          Origin Systems   \n",
              "174      Business simulation               Microsoft   \n",
              "\n",
              "                      Publisher  \n",
              "0                       Krafton  \n",
              "1                Mojang Studios  \n",
              "2        Blizzard Entertainment  \n",
              "3                         Valve  \n",
              "4                      Re-Logic  \n",
              "..                          ...  \n",
              "170     Gathering of Developers  \n",
              "171             Electronic Arts  \n",
              "172  Disney Interactive Studios  \n",
              "173             Electronic Arts  \n",
              "174             Blue Fang Games  \n",
              "\n",
              "[175 rows x 7 columns]"
            ]
          },
          "execution_count": 26,
          "metadata": {},
          "output_type": "execute_result"
        }
      ],
      "source": [
        "# Change Dtype\n",
        "games_fixed = games_cleaned.copy()\n",
        "games_fixed"
      ]
    },
    {
      "cell_type": "code",
      "execution_count": null,
      "metadata": {},
      "outputs": [
        {
          "name": "stdout",
          "output_type": "stream",
          "text": [
            "Real-time strategy                            24\n",
            "First-person shooter                          19\n",
            "Action role-playing                           13\n",
            "Construction and management simulation         9\n",
            "Role-playing game                              8\n",
            "City-building                                  6\n",
            "Action-adventure                               6\n",
            "MMORPG                                         6\n",
            "Survival                                       5\n",
            "Turn-based strategy, 4X                        4\n",
            "Action                                         4\n",
            "Life simulation                                3\n",
            "Fighting                                       3\n",
            "Third-person shooter, survival horror          3\n",
            "Tactical shooter                               3\n",
            "Business simulation                            3\n",
            "God game                                       3\n",
            "City-building game                             3\n",
            "Grand strategy                                 3\n",
            "Adventure                                      2\n",
            "Battle royale                                  2\n",
            "Graphic adventure                              2\n",
            "Interactive movie                              2\n",
            "Vehicle simulation                             2\n",
            "Visual novel, adventure                        2\n",
            "Sports                                         1\n",
            "Sim racing                                     1\n",
            "Real-time strategy, grand strategy wargame     1\n",
            "Metroidvania                                   1\n",
            "Puzzle                                         1\n",
            "Graphic adventure, puzzle                      1\n",
            "Amateur flight simulation                      1\n",
            "Platform                                       1\n",
            "Beat 'em up, run-and-gun                       1\n",
            "Rail shooter                                   1\n",
            "Simulation, role-playing game                  1\n",
            "Interactive fiction                            1\n",
            "Trivia game                                    1\n",
            "Run and gun                                    1\n",
            "Compilation                                    1\n",
            "Real-time tactics                              1\n",
            "Point-and-click                                1\n",
            "Sandbox                                        1\n",
            "Educational                                    1\n",
            "Turn-based strategy                            1\n",
            "Adventure, puzzle                              1\n",
            "Survival horror                                1\n",
            "Computer role-playing game                     1\n",
            "Third-person shooter                           1\n",
            "Racing game                                    1\n",
            "Simulation                                     1\n",
            "Action-adventure, roguelike                    1\n",
            "Action-adventure, stealth                      1\n",
            "Sandbox, survival                              1\n",
            "RTS, 4X, Grand Strategy                        1\n",
            "Action role-playing, hack and slash            1\n",
            "Maze, arcade                                   1\n",
            "Action-adventure, platformer                   1\n",
            "Action-adventure, Survival                     1\n",
            "Space combat simulation                        1\n",
            "Name: Genre, dtype: int64\n"
          ]
        }
      ],
      "source": [
        "dict_typo = {'Action role-playing' : 'Action role-playing',\n",
        "             'Action role-playing game' : 'Action role-playing',\n",
        "             'Action role-playing, hack and slash' : 'Hack & Slash',\n",
        "             'Turn-based strategy' : 'Turn-based strategy',\n",
        "             'Turn-based strategy, 4X' : 'Turn-based strategy',\n",
        "             'Action-adventure, platformer' : 'Platformer'}\n",
        "games_fixed = games_fixed.replace(dict_typo)\n",
        "print(games_fixed['Genre'].value_counts())"
      ]
    },
    {
      "cell_type": "code",
      "execution_count": null,
      "metadata": {},
      "outputs": [
        {
          "name": "stderr",
          "output_type": "stream",
          "text": [
            "C:\\Users\\Lenovo\\AppData\\Local\\Temp\\ipykernel_388160\\180165413.py:1: FutureWarning: Indexing with multiple keys (implicitly converted to a tuple of keys) will be deprecated, use a list instead.\n",
            "  group_genre = games_cleaned.groupby('Genre', as_index=False,)['Sales','Publisher'].sum()\n",
            "C:\\Users\\Lenovo\\AppData\\Local\\Temp\\ipykernel_388160\\180165413.py:1: FutureWarning: The default value of numeric_only in DataFrameGroupBy.sum is deprecated. In a future version, numeric_only will default to False. Either specify numeric_only or select only columns which should be valid for the function.\n",
            "  group_genre = games_cleaned.groupby('Genre', as_index=False,)['Sales','Publisher'].sum()\n"
          ]
        },
        {
          "data": {
            "text/html": [
              "<div>\n",
              "<style scoped>\n",
              "    .dataframe tbody tr th:only-of-type {\n",
              "        vertical-align: middle;\n",
              "    }\n",
              "\n",
              "    .dataframe tbody tr th {\n",
              "        vertical-align: top;\n",
              "    }\n",
              "\n",
              "    .dataframe thead th {\n",
              "        text-align: right;\n",
              "    }\n",
              "</style>\n",
              "<table border=\"1\" class=\"dataframe\">\n",
              "  <thead>\n",
              "    <tr style=\"text-align: right;\">\n",
              "      <th></th>\n",
              "      <th>Genre</th>\n",
              "      <th>Sales</th>\n",
              "    </tr>\n",
              "  </thead>\n",
              "  <tbody>\n",
              "    <tr>\n",
              "      <th>0</th>\n",
              "      <td>Action</td>\n",
              "      <td>4.0</td>\n",
              "    </tr>\n",
              "    <tr>\n",
              "      <th>1</th>\n",
              "      <td>Action role-playing</td>\n",
              "      <td>58.1</td>\n",
              "    </tr>\n",
              "    <tr>\n",
              "      <th>2</th>\n",
              "      <td>Action role-playing game</td>\n",
              "      <td>1.1</td>\n",
              "    </tr>\n",
              "    <tr>\n",
              "      <th>3</th>\n",
              "      <td>Action role-playing, hack and slash</td>\n",
              "      <td>1.2</td>\n",
              "    </tr>\n",
              "    <tr>\n",
              "      <th>4</th>\n",
              "      <td>Action-adventure</td>\n",
              "      <td>31.7</td>\n",
              "    </tr>\n",
              "    <tr>\n",
              "      <th>...</th>\n",
              "      <td>...</td>\n",
              "      <td>...</td>\n",
              "    </tr>\n",
              "    <tr>\n",
              "      <th>56</th>\n",
              "      <td>Trivia game</td>\n",
              "      <td>1.0</td>\n",
              "    </tr>\n",
              "    <tr>\n",
              "      <th>57</th>\n",
              "      <td>Turn-based strategy</td>\n",
              "      <td>2.5</td>\n",
              "    </tr>\n",
              "    <tr>\n",
              "      <th>58</th>\n",
              "      <td>Turn-based strategy, 4X</td>\n",
              "      <td>14.0</td>\n",
              "    </tr>\n",
              "    <tr>\n",
              "      <th>59</th>\n",
              "      <td>Vehicle simulation</td>\n",
              "      <td>8.0</td>\n",
              "    </tr>\n",
              "    <tr>\n",
              "      <th>60</th>\n",
              "      <td>Visual novel, adventure</td>\n",
              "      <td>2.0</td>\n",
              "    </tr>\n",
              "  </tbody>\n",
              "</table>\n",
              "<p>61 rows × 2 columns</p>\n",
              "</div>"
            ],
            "text/plain": [
              "                                  Genre  Sales\n",
              "0                                Action    4.0\n",
              "1                   Action role-playing   58.1\n",
              "2              Action role-playing game    1.1\n",
              "3   Action role-playing, hack and slash    1.2\n",
              "4                      Action-adventure   31.7\n",
              "..                                  ...    ...\n",
              "56                          Trivia game    1.0\n",
              "57                  Turn-based strategy    2.5\n",
              "58              Turn-based strategy, 4X   14.0\n",
              "59                   Vehicle simulation    8.0\n",
              "60              Visual novel, adventure    2.0\n",
              "\n",
              "[61 rows x 2 columns]"
            ]
          },
          "execution_count": 28,
          "metadata": {},
          "output_type": "execute_result"
        }
      ],
      "source": [
        "group_genre = games_cleaned.groupby('Genre', as_index=False,)['Sales','Publisher'].sum()\n",
        "group_genre"
      ]
    }
  ],
  "metadata": {
    "colab": {
      "provenance": [],
      "toc_visible": true
    },
    "kernelspec": {
      "display_name": "Python 3",
      "name": "python3"
    },
    "language_info": {
      "codemirror_mode": {
        "name": "ipython",
        "version": 3
      },
      "file_extension": ".py",
      "mimetype": "text/x-python",
      "name": "python",
      "nbconvert_exporter": "python",
      "pygments_lexer": "ipython3",
      "version": "3.11.4"
    }
  },
  "nbformat": 4,
  "nbformat_minor": 0
}
