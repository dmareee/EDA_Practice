{
 "cells": [
  {
   "cell_type": "code",
   "execution_count": 1,
   "id": "2671ef83",
   "metadata": {
    "_cell_guid": "b1076dfc-b9ad-4769-8c92-a6c4dae69d19",
    "_uuid": "8f2839f25d086af736a60e9eeb907d3b93b6e0e5",
    "execution": {
     "iopub.execute_input": "2024-02-25T06:18:47.594693Z",
     "iopub.status.busy": "2024-02-25T06:18:47.594228Z",
     "iopub.status.idle": "2024-02-25T06:18:50.176474Z",
     "shell.execute_reply": "2024-02-25T06:18:50.175103Z"
    },
    "papermill": {
     "duration": 2.595973,
     "end_time": "2024-02-25T06:18:50.179650",
     "exception": false,
     "start_time": "2024-02-25T06:18:47.583677",
     "status": "completed"
    },
    "tags": []
   },
   "outputs": [
    {
     "name": "stdout",
     "output_type": "stream",
     "text": [
      "/kaggle/input/wine-reviews/winemag-data_first150k.csv\n",
      "/kaggle/input/wine-reviews/winemag-data-130k-v2.json\n",
      "/kaggle/input/wine-reviews/winemag-data-130k-v2.csv\n"
     ]
    }
   ],
   "source": [
    "# This Python 3 environment comes with many helpful analytics libraries installed\n",
    "# It is defined by the kaggle/python Docker image: https://github.com/kaggle/docker-python\n",
    "# For example, here's several helpful packages to load\n",
    "\n",
    "import numpy as np # linear algebra\n",
    "import pandas as pd # data processing, CSV file I/O (e.g. pd.read_csv)\n",
    "import seaborn as sns\n",
    "import matplotlib.pyplot as plt\n",
    "\n",
    "# Input data files are available in the read-only \"../input/\" directory\n",
    "# For example, running this (by clicking run or pressing Shift+Enter) will list all files under the input directory\n",
    "\n",
    "import os\n",
    "for dirname, _, filenames in os.walk('/kaggle/input'):\n",
    "    for filename in filenames:\n",
    "        print(os.path.join(dirname, filename))\n",
    "\n",
    "# You can write up to 20GB to the current directory (/kaggle/working/) that gets preserved as output when you create a version using \"Save & Run All\" \n",
    "# You can also write temporary files to /kaggle/temp/, but they won't be saved outside of the current session"
   ]
  },
  {
   "cell_type": "markdown",
   "id": "0fb157bb",
   "metadata": {
    "papermill": {
     "duration": 0.008849,
     "end_time": "2024-02-25T06:18:50.197375",
     "exception": false,
     "start_time": "2024-02-25T06:18:50.188526",
     "status": "completed"
    },
    "tags": []
   },
   "source": [
    "## Mount Data"
   ]
  },
  {
   "cell_type": "code",
   "execution_count": 2,
   "id": "99021122",
   "metadata": {
    "execution": {
     "iopub.execute_input": "2024-02-25T06:18:50.216436Z",
     "iopub.status.busy": "2024-02-25T06:18:50.215832Z",
     "iopub.status.idle": "2024-02-25T06:18:52.147183Z",
     "shell.execute_reply": "2024-02-25T06:18:52.145973Z"
    },
    "papermill": {
     "duration": 1.94403,
     "end_time": "2024-02-25T06:18:52.149868",
     "exception": false,
     "start_time": "2024-02-25T06:18:50.205838",
     "status": "completed"
    },
    "tags": []
   },
   "outputs": [
    {
     "data": {
      "text/html": [
       "<div>\n",
       "<style scoped>\n",
       "    .dataframe tbody tr th:only-of-type {\n",
       "        vertical-align: middle;\n",
       "    }\n",
       "\n",
       "    .dataframe tbody tr th {\n",
       "        vertical-align: top;\n",
       "    }\n",
       "\n",
       "    .dataframe thead th {\n",
       "        text-align: right;\n",
       "    }\n",
       "</style>\n",
       "<table border=\"1\" class=\"dataframe\">\n",
       "  <thead>\n",
       "    <tr style=\"text-align: right;\">\n",
       "      <th></th>\n",
       "      <th>Unnamed: 0</th>\n",
       "      <th>country</th>\n",
       "      <th>description</th>\n",
       "      <th>designation</th>\n",
       "      <th>points</th>\n",
       "      <th>price</th>\n",
       "      <th>province</th>\n",
       "      <th>region_1</th>\n",
       "      <th>region_2</th>\n",
       "      <th>taster_name</th>\n",
       "      <th>taster_twitter_handle</th>\n",
       "      <th>title</th>\n",
       "      <th>variety</th>\n",
       "      <th>winery</th>\n",
       "    </tr>\n",
       "  </thead>\n",
       "  <tbody>\n",
       "    <tr>\n",
       "      <th>0</th>\n",
       "      <td>0</td>\n",
       "      <td>Italy</td>\n",
       "      <td>Aromas include tropical fruit, broom, brimston...</td>\n",
       "      <td>Vulkà Bianco</td>\n",
       "      <td>87</td>\n",
       "      <td>NaN</td>\n",
       "      <td>Sicily &amp; Sardinia</td>\n",
       "      <td>Etna</td>\n",
       "      <td>NaN</td>\n",
       "      <td>Kerin O’Keefe</td>\n",
       "      <td>@kerinokeefe</td>\n",
       "      <td>Nicosia 2013 Vulkà Bianco  (Etna)</td>\n",
       "      <td>White Blend</td>\n",
       "      <td>Nicosia</td>\n",
       "    </tr>\n",
       "    <tr>\n",
       "      <th>1</th>\n",
       "      <td>1</td>\n",
       "      <td>Portugal</td>\n",
       "      <td>This is ripe and fruity, a wine that is smooth...</td>\n",
       "      <td>Avidagos</td>\n",
       "      <td>87</td>\n",
       "      <td>15.0</td>\n",
       "      <td>Douro</td>\n",
       "      <td>NaN</td>\n",
       "      <td>NaN</td>\n",
       "      <td>Roger Voss</td>\n",
       "      <td>@vossroger</td>\n",
       "      <td>Quinta dos Avidagos 2011 Avidagos Red (Douro)</td>\n",
       "      <td>Portuguese Red</td>\n",
       "      <td>Quinta dos Avidagos</td>\n",
       "    </tr>\n",
       "    <tr>\n",
       "      <th>2</th>\n",
       "      <td>2</td>\n",
       "      <td>US</td>\n",
       "      <td>Tart and snappy, the flavors of lime flesh and...</td>\n",
       "      <td>NaN</td>\n",
       "      <td>87</td>\n",
       "      <td>14.0</td>\n",
       "      <td>Oregon</td>\n",
       "      <td>Willamette Valley</td>\n",
       "      <td>Willamette Valley</td>\n",
       "      <td>Paul Gregutt</td>\n",
       "      <td>@paulgwine</td>\n",
       "      <td>Rainstorm 2013 Pinot Gris (Willamette Valley)</td>\n",
       "      <td>Pinot Gris</td>\n",
       "      <td>Rainstorm</td>\n",
       "    </tr>\n",
       "  </tbody>\n",
       "</table>\n",
       "</div>"
      ],
      "text/plain": [
       "   Unnamed: 0   country                                        description  \\\n",
       "0           0     Italy  Aromas include tropical fruit, broom, brimston...   \n",
       "1           1  Portugal  This is ripe and fruity, a wine that is smooth...   \n",
       "2           2        US  Tart and snappy, the flavors of lime flesh and...   \n",
       "\n",
       "    designation  points  price           province           region_1  \\\n",
       "0  Vulkà Bianco      87    NaN  Sicily & Sardinia               Etna   \n",
       "1      Avidagos      87   15.0              Douro                NaN   \n",
       "2           NaN      87   14.0             Oregon  Willamette Valley   \n",
       "\n",
       "            region_2    taster_name taster_twitter_handle  \\\n",
       "0                NaN  Kerin O’Keefe          @kerinokeefe   \n",
       "1                NaN     Roger Voss            @vossroger   \n",
       "2  Willamette Valley   Paul Gregutt           @paulgwine    \n",
       "\n",
       "                                           title         variety  \\\n",
       "0              Nicosia 2013 Vulkà Bianco  (Etna)     White Blend   \n",
       "1  Quinta dos Avidagos 2011 Avidagos Red (Douro)  Portuguese Red   \n",
       "2  Rainstorm 2013 Pinot Gris (Willamette Valley)      Pinot Gris   \n",
       "\n",
       "                winery  \n",
       "0              Nicosia  \n",
       "1  Quinta dos Avidagos  \n",
       "2            Rainstorm  "
      ]
     },
     "execution_count": 2,
     "metadata": {},
     "output_type": "execute_result"
    }
   ],
   "source": [
    "data = pd.read_csv(\"/kaggle/input/wine-reviews/winemag-data-130k-v2.csv\")\n",
    "data.head(3)"
   ]
  },
  {
   "cell_type": "markdown",
   "id": "1fd3e028",
   "metadata": {
    "papermill": {
     "duration": 0.008903,
     "end_time": "2024-02-25T06:18:52.167687",
     "exception": false,
     "start_time": "2024-02-25T06:18:52.158784",
     "status": "completed"
    },
    "tags": []
   },
   "source": [
    "## isnull() Percent"
   ]
  },
  {
   "cell_type": "code",
   "execution_count": 3,
   "id": "8f8d316b",
   "metadata": {
    "execution": {
     "iopub.execute_input": "2024-02-25T06:18:52.186982Z",
     "iopub.status.busy": "2024-02-25T06:18:52.186289Z",
     "iopub.status.idle": "2024-02-25T06:18:52.345898Z",
     "shell.execute_reply": "2024-02-25T06:18:52.344628Z"
    },
    "papermill": {
     "duration": 0.17227,
     "end_time": "2024-02-25T06:18:52.348556",
     "exception": false,
     "start_time": "2024-02-25T06:18:52.176286",
     "status": "completed"
    },
    "tags": []
   },
   "outputs": [
    {
     "data": {
      "text/plain": [
       "Unnamed: 0         0\n",
       "country           63\n",
       "description        0\n",
       "designation    37465\n",
       "points             0\n",
       "price           8996\n",
       "province          63\n",
       "region_1       21247\n",
       "region_2       79460\n",
       "taster_name    26244\n",
       "dtype: int64"
      ]
     },
     "execution_count": 3,
     "metadata": {},
     "output_type": "execute_result"
    }
   ],
   "source": [
    "# get the number of missing data points per column\n",
    "missing_values_count = data.isnull().sum()\n",
    "\n",
    "# look at the # of missing points in the first ten columns\n",
    "missing_values_count[0:10]"
   ]
  },
  {
   "cell_type": "code",
   "execution_count": 4,
   "id": "229a5f7d",
   "metadata": {
    "execution": {
     "iopub.execute_input": "2024-02-25T06:18:52.368062Z",
     "iopub.status.busy": "2024-02-25T06:18:52.367616Z",
     "iopub.status.idle": "2024-02-25T06:18:52.373751Z",
     "shell.execute_reply": "2024-02-25T06:18:52.372953Z"
    },
    "papermill": {
     "duration": 0.019045,
     "end_time": "2024-02-25T06:18:52.376460",
     "exception": false,
     "start_time": "2024-02-25T06:18:52.357415",
     "status": "completed"
    },
    "tags": []
   },
   "outputs": [
    {
     "name": "stdout",
     "output_type": "stream",
     "text": [
      "11.252620089976116\n"
     ]
    }
   ],
   "source": [
    "total_cells = np.product(data.shape)\n",
    "total_missing = missing_values_count.sum()\n",
    "\n",
    "# percent of data that is missing\n",
    "percent_missing = (total_missing/total_cells) * 100\n",
    "print(percent_missing)"
   ]
  },
  {
   "cell_type": "markdown",
   "id": "f1efc6e7",
   "metadata": {
    "papermill": {
     "duration": 0.008634,
     "end_time": "2024-02-25T06:18:52.394138",
     "exception": false,
     "start_time": "2024-02-25T06:18:52.385504",
     "status": "completed"
    },
    "tags": []
   },
   "source": [
    "## Remove/dropping Columns"
   ]
  },
  {
   "cell_type": "code",
   "execution_count": 5,
   "id": "a637e622",
   "metadata": {
    "execution": {
     "iopub.execute_input": "2024-02-25T06:18:52.414751Z",
     "iopub.status.busy": "2024-02-25T06:18:52.414056Z",
     "iopub.status.idle": "2024-02-25T06:18:52.458842Z",
     "shell.execute_reply": "2024-02-25T06:18:52.457114Z"
    },
    "papermill": {
     "duration": 0.059695,
     "end_time": "2024-02-25T06:18:52.463092",
     "exception": false,
     "start_time": "2024-02-25T06:18:52.403397",
     "status": "completed"
    },
    "tags": []
   },
   "outputs": [
    {
     "data": {
      "text/html": [
       "<div>\n",
       "<style scoped>\n",
       "    .dataframe tbody tr th:only-of-type {\n",
       "        vertical-align: middle;\n",
       "    }\n",
       "\n",
       "    .dataframe tbody tr th {\n",
       "        vertical-align: top;\n",
       "    }\n",
       "\n",
       "    .dataframe thead th {\n",
       "        text-align: right;\n",
       "    }\n",
       "</style>\n",
       "<table border=\"1\" class=\"dataframe\">\n",
       "  <thead>\n",
       "    <tr style=\"text-align: right;\">\n",
       "      <th></th>\n",
       "      <th>Unnamed: 0</th>\n",
       "      <th>country</th>\n",
       "      <th>description</th>\n",
       "      <th>designation</th>\n",
       "      <th>points</th>\n",
       "      <th>price</th>\n",
       "      <th>province</th>\n",
       "      <th>title</th>\n",
       "      <th>variety</th>\n",
       "      <th>winery</th>\n",
       "    </tr>\n",
       "  </thead>\n",
       "  <tbody>\n",
       "    <tr>\n",
       "      <th>0</th>\n",
       "      <td>0</td>\n",
       "      <td>Italy</td>\n",
       "      <td>Aromas include tropical fruit, broom, brimston...</td>\n",
       "      <td>Vulkà Bianco</td>\n",
       "      <td>87</td>\n",
       "      <td>NaN</td>\n",
       "      <td>Sicily &amp; Sardinia</td>\n",
       "      <td>Nicosia 2013 Vulkà Bianco  (Etna)</td>\n",
       "      <td>White Blend</td>\n",
       "      <td>Nicosia</td>\n",
       "    </tr>\n",
       "    <tr>\n",
       "      <th>1</th>\n",
       "      <td>1</td>\n",
       "      <td>Portugal</td>\n",
       "      <td>This is ripe and fruity, a wine that is smooth...</td>\n",
       "      <td>Avidagos</td>\n",
       "      <td>87</td>\n",
       "      <td>15.0</td>\n",
       "      <td>Douro</td>\n",
       "      <td>Quinta dos Avidagos 2011 Avidagos Red (Douro)</td>\n",
       "      <td>Portuguese Red</td>\n",
       "      <td>Quinta dos Avidagos</td>\n",
       "    </tr>\n",
       "    <tr>\n",
       "      <th>2</th>\n",
       "      <td>2</td>\n",
       "      <td>US</td>\n",
       "      <td>Tart and snappy, the flavors of lime flesh and...</td>\n",
       "      <td>NaN</td>\n",
       "      <td>87</td>\n",
       "      <td>14.0</td>\n",
       "      <td>Oregon</td>\n",
       "      <td>Rainstorm 2013 Pinot Gris (Willamette Valley)</td>\n",
       "      <td>Pinot Gris</td>\n",
       "      <td>Rainstorm</td>\n",
       "    </tr>\n",
       "    <tr>\n",
       "      <th>3</th>\n",
       "      <td>3</td>\n",
       "      <td>US</td>\n",
       "      <td>Pineapple rind, lemon pith and orange blossom ...</td>\n",
       "      <td>Reserve Late Harvest</td>\n",
       "      <td>87</td>\n",
       "      <td>13.0</td>\n",
       "      <td>Michigan</td>\n",
       "      <td>St. Julian 2013 Reserve Late Harvest Riesling ...</td>\n",
       "      <td>Riesling</td>\n",
       "      <td>St. Julian</td>\n",
       "    </tr>\n",
       "    <tr>\n",
       "      <th>4</th>\n",
       "      <td>4</td>\n",
       "      <td>US</td>\n",
       "      <td>Much like the regular bottling from 2012, this...</td>\n",
       "      <td>Vintner's Reserve Wild Child Block</td>\n",
       "      <td>87</td>\n",
       "      <td>65.0</td>\n",
       "      <td>Oregon</td>\n",
       "      <td>Sweet Cheeks 2012 Vintner's Reserve Wild Child...</td>\n",
       "      <td>Pinot Noir</td>\n",
       "      <td>Sweet Cheeks</td>\n",
       "    </tr>\n",
       "    <tr>\n",
       "      <th>5</th>\n",
       "      <td>5</td>\n",
       "      <td>Spain</td>\n",
       "      <td>Blackberry and raspberry aromas show a typical...</td>\n",
       "      <td>Ars In Vitro</td>\n",
       "      <td>87</td>\n",
       "      <td>15.0</td>\n",
       "      <td>Northern Spain</td>\n",
       "      <td>Tandem 2011 Ars In Vitro Tempranillo-Merlot (N...</td>\n",
       "      <td>Tempranillo-Merlot</td>\n",
       "      <td>Tandem</td>\n",
       "    </tr>\n",
       "    <tr>\n",
       "      <th>6</th>\n",
       "      <td>6</td>\n",
       "      <td>Italy</td>\n",
       "      <td>Here's a bright, informal red that opens with ...</td>\n",
       "      <td>Belsito</td>\n",
       "      <td>87</td>\n",
       "      <td>16.0</td>\n",
       "      <td>Sicily &amp; Sardinia</td>\n",
       "      <td>Terre di Giurfo 2013 Belsito Frappato (Vittoria)</td>\n",
       "      <td>Frappato</td>\n",
       "      <td>Terre di Giurfo</td>\n",
       "    </tr>\n",
       "    <tr>\n",
       "      <th>7</th>\n",
       "      <td>7</td>\n",
       "      <td>France</td>\n",
       "      <td>This dry and restrained wine offers spice in p...</td>\n",
       "      <td>NaN</td>\n",
       "      <td>87</td>\n",
       "      <td>24.0</td>\n",
       "      <td>Alsace</td>\n",
       "      <td>Trimbach 2012 Gewurztraminer (Alsace)</td>\n",
       "      <td>Gewürztraminer</td>\n",
       "      <td>Trimbach</td>\n",
       "    </tr>\n",
       "    <tr>\n",
       "      <th>8</th>\n",
       "      <td>8</td>\n",
       "      <td>Germany</td>\n",
       "      <td>Savory dried thyme notes accent sunnier flavor...</td>\n",
       "      <td>Shine</td>\n",
       "      <td>87</td>\n",
       "      <td>12.0</td>\n",
       "      <td>Rheinhessen</td>\n",
       "      <td>Heinz Eifel 2013 Shine Gewürztraminer (Rheinhe...</td>\n",
       "      <td>Gewürztraminer</td>\n",
       "      <td>Heinz Eifel</td>\n",
       "    </tr>\n",
       "    <tr>\n",
       "      <th>9</th>\n",
       "      <td>9</td>\n",
       "      <td>France</td>\n",
       "      <td>This has great depth of flavor with its fresh ...</td>\n",
       "      <td>Les Natures</td>\n",
       "      <td>87</td>\n",
       "      <td>27.0</td>\n",
       "      <td>Alsace</td>\n",
       "      <td>Jean-Baptiste Adam 2012 Les Natures Pinot Gris...</td>\n",
       "      <td>Pinot Gris</td>\n",
       "      <td>Jean-Baptiste Adam</td>\n",
       "    </tr>\n",
       "  </tbody>\n",
       "</table>\n",
       "</div>"
      ],
      "text/plain": [
       "   Unnamed: 0   country                                        description  \\\n",
       "0           0     Italy  Aromas include tropical fruit, broom, brimston...   \n",
       "1           1  Portugal  This is ripe and fruity, a wine that is smooth...   \n",
       "2           2        US  Tart and snappy, the flavors of lime flesh and...   \n",
       "3           3        US  Pineapple rind, lemon pith and orange blossom ...   \n",
       "4           4        US  Much like the regular bottling from 2012, this...   \n",
       "5           5     Spain  Blackberry and raspberry aromas show a typical...   \n",
       "6           6     Italy  Here's a bright, informal red that opens with ...   \n",
       "7           7    France  This dry and restrained wine offers spice in p...   \n",
       "8           8   Germany  Savory dried thyme notes accent sunnier flavor...   \n",
       "9           9    France  This has great depth of flavor with its fresh ...   \n",
       "\n",
       "                          designation  points  price           province  \\\n",
       "0                        Vulkà Bianco      87    NaN  Sicily & Sardinia   \n",
       "1                            Avidagos      87   15.0              Douro   \n",
       "2                                 NaN      87   14.0             Oregon   \n",
       "3                Reserve Late Harvest      87   13.0           Michigan   \n",
       "4  Vintner's Reserve Wild Child Block      87   65.0             Oregon   \n",
       "5                        Ars In Vitro      87   15.0     Northern Spain   \n",
       "6                             Belsito      87   16.0  Sicily & Sardinia   \n",
       "7                                 NaN      87   24.0             Alsace   \n",
       "8                               Shine      87   12.0        Rheinhessen   \n",
       "9                         Les Natures      87   27.0             Alsace   \n",
       "\n",
       "                                               title             variety  \\\n",
       "0                  Nicosia 2013 Vulkà Bianco  (Etna)         White Blend   \n",
       "1      Quinta dos Avidagos 2011 Avidagos Red (Douro)      Portuguese Red   \n",
       "2      Rainstorm 2013 Pinot Gris (Willamette Valley)          Pinot Gris   \n",
       "3  St. Julian 2013 Reserve Late Harvest Riesling ...            Riesling   \n",
       "4  Sweet Cheeks 2012 Vintner's Reserve Wild Child...          Pinot Noir   \n",
       "5  Tandem 2011 Ars In Vitro Tempranillo-Merlot (N...  Tempranillo-Merlot   \n",
       "6   Terre di Giurfo 2013 Belsito Frappato (Vittoria)            Frappato   \n",
       "7              Trimbach 2012 Gewurztraminer (Alsace)      Gewürztraminer   \n",
       "8  Heinz Eifel 2013 Shine Gewürztraminer (Rheinhe...      Gewürztraminer   \n",
       "9  Jean-Baptiste Adam 2012 Les Natures Pinot Gris...          Pinot Gris   \n",
       "\n",
       "                winery  \n",
       "0              Nicosia  \n",
       "1  Quinta dos Avidagos  \n",
       "2            Rainstorm  \n",
       "3           St. Julian  \n",
       "4         Sweet Cheeks  \n",
       "5               Tandem  \n",
       "6      Terre di Giurfo  \n",
       "7             Trimbach  \n",
       "8          Heinz Eifel  \n",
       "9   Jean-Baptiste Adam  "
      ]
     },
     "execution_count": 5,
     "metadata": {},
     "output_type": "execute_result"
    }
   ],
   "source": [
    "columns_dropped = data.drop(['region_1', 'region_2', 'taster_name', 'taster_twitter_handle'], axis=1)\n",
    "columns_dropped.head(10)"
   ]
  },
  {
   "cell_type": "code",
   "execution_count": 6,
   "id": "00239178",
   "metadata": {
    "execution": {
     "iopub.execute_input": "2024-02-25T06:18:52.484010Z",
     "iopub.status.busy": "2024-02-25T06:18:52.483604Z",
     "iopub.status.idle": "2024-02-25T06:18:52.617156Z",
     "shell.execute_reply": "2024-02-25T06:18:52.616056Z"
    },
    "papermill": {
     "duration": 0.147811,
     "end_time": "2024-02-25T06:18:52.620526",
     "exception": false,
     "start_time": "2024-02-25T06:18:52.472715",
     "status": "completed"
    },
    "tags": []
   },
   "outputs": [
    {
     "data": {
      "text/html": [
       "<div>\n",
       "<style scoped>\n",
       "    .dataframe tbody tr th:only-of-type {\n",
       "        vertical-align: middle;\n",
       "    }\n",
       "\n",
       "    .dataframe tbody tr th {\n",
       "        vertical-align: top;\n",
       "    }\n",
       "\n",
       "    .dataframe thead th {\n",
       "        text-align: right;\n",
       "    }\n",
       "</style>\n",
       "<table border=\"1\" class=\"dataframe\">\n",
       "  <thead>\n",
       "    <tr style=\"text-align: right;\">\n",
       "      <th></th>\n",
       "      <th>Unnamed: 0</th>\n",
       "      <th>country</th>\n",
       "      <th>description</th>\n",
       "      <th>designation</th>\n",
       "      <th>points</th>\n",
       "      <th>price</th>\n",
       "      <th>province</th>\n",
       "      <th>title</th>\n",
       "      <th>variety</th>\n",
       "      <th>winery</th>\n",
       "    </tr>\n",
       "  </thead>\n",
       "  <tbody>\n",
       "    <tr>\n",
       "      <th>1</th>\n",
       "      <td>1</td>\n",
       "      <td>Portugal</td>\n",
       "      <td>This is ripe and fruity, a wine that is smooth...</td>\n",
       "      <td>Avidagos</td>\n",
       "      <td>87</td>\n",
       "      <td>15.0</td>\n",
       "      <td>Douro</td>\n",
       "      <td>Quinta dos Avidagos 2011 Avidagos Red (Douro)</td>\n",
       "      <td>Portuguese Red</td>\n",
       "      <td>Quinta dos Avidagos</td>\n",
       "    </tr>\n",
       "    <tr>\n",
       "      <th>3</th>\n",
       "      <td>3</td>\n",
       "      <td>US</td>\n",
       "      <td>Pineapple rind, lemon pith and orange blossom ...</td>\n",
       "      <td>Reserve Late Harvest</td>\n",
       "      <td>87</td>\n",
       "      <td>13.0</td>\n",
       "      <td>Michigan</td>\n",
       "      <td>St. Julian 2013 Reserve Late Harvest Riesling ...</td>\n",
       "      <td>Riesling</td>\n",
       "      <td>St. Julian</td>\n",
       "    </tr>\n",
       "    <tr>\n",
       "      <th>4</th>\n",
       "      <td>4</td>\n",
       "      <td>US</td>\n",
       "      <td>Much like the regular bottling from 2012, this...</td>\n",
       "      <td>Vintner's Reserve Wild Child Block</td>\n",
       "      <td>87</td>\n",
       "      <td>65.0</td>\n",
       "      <td>Oregon</td>\n",
       "      <td>Sweet Cheeks 2012 Vintner's Reserve Wild Child...</td>\n",
       "      <td>Pinot Noir</td>\n",
       "      <td>Sweet Cheeks</td>\n",
       "    </tr>\n",
       "    <tr>\n",
       "      <th>5</th>\n",
       "      <td>5</td>\n",
       "      <td>Spain</td>\n",
       "      <td>Blackberry and raspberry aromas show a typical...</td>\n",
       "      <td>Ars In Vitro</td>\n",
       "      <td>87</td>\n",
       "      <td>15.0</td>\n",
       "      <td>Northern Spain</td>\n",
       "      <td>Tandem 2011 Ars In Vitro Tempranillo-Merlot (N...</td>\n",
       "      <td>Tempranillo-Merlot</td>\n",
       "      <td>Tandem</td>\n",
       "    </tr>\n",
       "    <tr>\n",
       "      <th>6</th>\n",
       "      <td>6</td>\n",
       "      <td>Italy</td>\n",
       "      <td>Here's a bright, informal red that opens with ...</td>\n",
       "      <td>Belsito</td>\n",
       "      <td>87</td>\n",
       "      <td>16.0</td>\n",
       "      <td>Sicily &amp; Sardinia</td>\n",
       "      <td>Terre di Giurfo 2013 Belsito Frappato (Vittoria)</td>\n",
       "      <td>Frappato</td>\n",
       "      <td>Terre di Giurfo</td>\n",
       "    </tr>\n",
       "    <tr>\n",
       "      <th>8</th>\n",
       "      <td>8</td>\n",
       "      <td>Germany</td>\n",
       "      <td>Savory dried thyme notes accent sunnier flavor...</td>\n",
       "      <td>Shine</td>\n",
       "      <td>87</td>\n",
       "      <td>12.0</td>\n",
       "      <td>Rheinhessen</td>\n",
       "      <td>Heinz Eifel 2013 Shine Gewürztraminer (Rheinhe...</td>\n",
       "      <td>Gewürztraminer</td>\n",
       "      <td>Heinz Eifel</td>\n",
       "    </tr>\n",
       "    <tr>\n",
       "      <th>9</th>\n",
       "      <td>9</td>\n",
       "      <td>France</td>\n",
       "      <td>This has great depth of flavor with its fresh ...</td>\n",
       "      <td>Les Natures</td>\n",
       "      <td>87</td>\n",
       "      <td>27.0</td>\n",
       "      <td>Alsace</td>\n",
       "      <td>Jean-Baptiste Adam 2012 Les Natures Pinot Gris...</td>\n",
       "      <td>Pinot Gris</td>\n",
       "      <td>Jean-Baptiste Adam</td>\n",
       "    </tr>\n",
       "    <tr>\n",
       "      <th>10</th>\n",
       "      <td>10</td>\n",
       "      <td>US</td>\n",
       "      <td>Soft, supple plum envelopes an oaky structure ...</td>\n",
       "      <td>Mountain Cuvée</td>\n",
       "      <td>87</td>\n",
       "      <td>19.0</td>\n",
       "      <td>California</td>\n",
       "      <td>Kirkland Signature 2011 Mountain Cuvée Caberne...</td>\n",
       "      <td>Cabernet Sauvignon</td>\n",
       "      <td>Kirkland Signature</td>\n",
       "    </tr>\n",
       "    <tr>\n",
       "      <th>15</th>\n",
       "      <td>15</td>\n",
       "      <td>Germany</td>\n",
       "      <td>Zesty orange peels and apple notes abound in t...</td>\n",
       "      <td>Devon</td>\n",
       "      <td>87</td>\n",
       "      <td>24.0</td>\n",
       "      <td>Mosel</td>\n",
       "      <td>Richard Böcking 2013 Devon Riesling (Mosel)</td>\n",
       "      <td>Riesling</td>\n",
       "      <td>Richard Böcking</td>\n",
       "    </tr>\n",
       "    <tr>\n",
       "      <th>16</th>\n",
       "      <td>16</td>\n",
       "      <td>Argentina</td>\n",
       "      <td>Baked plum, molasses, balsamic vinegar and che...</td>\n",
       "      <td>Felix</td>\n",
       "      <td>87</td>\n",
       "      <td>30.0</td>\n",
       "      <td>Other</td>\n",
       "      <td>Felix Lavaque 2010 Felix Malbec (Cafayate)</td>\n",
       "      <td>Malbec</td>\n",
       "      <td>Felix Lavaque</td>\n",
       "    </tr>\n",
       "  </tbody>\n",
       "</table>\n",
       "</div>"
      ],
      "text/plain": [
       "    Unnamed: 0    country                                        description  \\\n",
       "1            1   Portugal  This is ripe and fruity, a wine that is smooth...   \n",
       "3            3         US  Pineapple rind, lemon pith and orange blossom ...   \n",
       "4            4         US  Much like the regular bottling from 2012, this...   \n",
       "5            5      Spain  Blackberry and raspberry aromas show a typical...   \n",
       "6            6      Italy  Here's a bright, informal red that opens with ...   \n",
       "8            8    Germany  Savory dried thyme notes accent sunnier flavor...   \n",
       "9            9     France  This has great depth of flavor with its fresh ...   \n",
       "10          10         US  Soft, supple plum envelopes an oaky structure ...   \n",
       "15          15    Germany  Zesty orange peels and apple notes abound in t...   \n",
       "16          16  Argentina  Baked plum, molasses, balsamic vinegar and che...   \n",
       "\n",
       "                           designation  points  price           province  \\\n",
       "1                             Avidagos      87   15.0              Douro   \n",
       "3                 Reserve Late Harvest      87   13.0           Michigan   \n",
       "4   Vintner's Reserve Wild Child Block      87   65.0             Oregon   \n",
       "5                         Ars In Vitro      87   15.0     Northern Spain   \n",
       "6                              Belsito      87   16.0  Sicily & Sardinia   \n",
       "8                                Shine      87   12.0        Rheinhessen   \n",
       "9                          Les Natures      87   27.0             Alsace   \n",
       "10                      Mountain Cuvée      87   19.0         California   \n",
       "15                               Devon      87   24.0              Mosel   \n",
       "16                               Felix      87   30.0              Other   \n",
       "\n",
       "                                                title             variety  \\\n",
       "1       Quinta dos Avidagos 2011 Avidagos Red (Douro)      Portuguese Red   \n",
       "3   St. Julian 2013 Reserve Late Harvest Riesling ...            Riesling   \n",
       "4   Sweet Cheeks 2012 Vintner's Reserve Wild Child...          Pinot Noir   \n",
       "5   Tandem 2011 Ars In Vitro Tempranillo-Merlot (N...  Tempranillo-Merlot   \n",
       "6    Terre di Giurfo 2013 Belsito Frappato (Vittoria)            Frappato   \n",
       "8   Heinz Eifel 2013 Shine Gewürztraminer (Rheinhe...      Gewürztraminer   \n",
       "9   Jean-Baptiste Adam 2012 Les Natures Pinot Gris...          Pinot Gris   \n",
       "10  Kirkland Signature 2011 Mountain Cuvée Caberne...  Cabernet Sauvignon   \n",
       "15        Richard Böcking 2013 Devon Riesling (Mosel)            Riesling   \n",
       "16         Felix Lavaque 2010 Felix Malbec (Cafayate)              Malbec   \n",
       "\n",
       "                 winery  \n",
       "1   Quinta dos Avidagos  \n",
       "3            St. Julian  \n",
       "4          Sweet Cheeks  \n",
       "5                Tandem  \n",
       "6       Terre di Giurfo  \n",
       "8           Heinz Eifel  \n",
       "9    Jean-Baptiste Adam  \n",
       "10   Kirkland Signature  \n",
       "15      Richard Böcking  \n",
       "16        Felix Lavaque  "
      ]
     },
     "execution_count": 6,
     "metadata": {},
     "output_type": "execute_result"
    }
   ],
   "source": [
    "#fill_na = columns_dropped.fillna(0)\n",
    "#fill_na\\\n",
    "\n",
    "data_cleaned = columns_dropped.dropna(axis=0)\n",
    "data_cleaned.head(10)"
   ]
  },
  {
   "cell_type": "code",
   "execution_count": 7,
   "id": "04427ed3",
   "metadata": {
    "execution": {
     "iopub.execute_input": "2024-02-25T06:18:52.643535Z",
     "iopub.status.busy": "2024-02-25T06:18:52.642613Z",
     "iopub.status.idle": "2024-02-25T06:18:52.715987Z",
     "shell.execute_reply": "2024-02-25T06:18:52.714795Z"
    },
    "papermill": {
     "duration": 0.087099,
     "end_time": "2024-02-25T06:18:52.718428",
     "exception": false,
     "start_time": "2024-02-25T06:18:52.631329",
     "status": "completed"
    },
    "tags": []
   },
   "outputs": [
    {
     "name": "stdout",
     "output_type": "stream",
     "text": [
      "country\n",
      "US                        36751\n",
      "Italy                     11993\n",
      "France                    11840\n",
      "Spain                      5257\n",
      "Portugal                   4381\n",
      "Chile                      3825\n",
      "Argentina                  2863\n",
      "Austria                    2370\n",
      "Germany                    1962\n",
      "Australia                  1618\n",
      "South Africa                718\n",
      "New Zealand                 667\n",
      "Israel                      419\n",
      "Greece                      315\n",
      "Canada                      176\n",
      "Hungary                     123\n",
      "Romania                     114\n",
      "Uruguay                      95\n",
      "Bulgaria                     93\n",
      "England                      69\n",
      "Turkey                       63\n",
      "Georgia                      62\n",
      "Slovenia                     55\n",
      "Mexico                       53\n",
      "Moldova                      52\n",
      "Croatia                      47\n",
      "Brazil                       46\n",
      "Lebanon                      30\n",
      "Morocco                      16\n",
      "Peru                         16\n",
      "Ukraine                      12\n",
      "Serbia                        9\n",
      "Cyprus                        9\n",
      "Czech Republic                7\n",
      "Luxembourg                    6\n",
      "Macedonia                     5\n",
      "India                         4\n",
      "Switzerland                   3\n",
      "Armenia                       2\n",
      "Bosnia and Herzegovina        1\n",
      "China                         1\n",
      "Name: count, dtype: int64 \n",
      "\n",
      "designation\n",
      "Reserve                          1977\n",
      "Estate                           1317\n",
      "Reserva                          1219\n",
      "Estate Grown                      618\n",
      "Riserva                           607\n",
      "                                 ... \n",
      "Single Wheel Dry                    1\n",
      "The Noble One                       1\n",
      "Sagra                               1\n",
      "810                                 1\n",
      "Lieu-dit Harth Cuvée Caroline       1\n",
      "Name: count, Length: 35753, dtype: int64 \n",
      "\n",
      "price\n",
      "20.0     4488\n",
      "15.0     3898\n",
      "25.0     3895\n",
      "30.0     3544\n",
      "18.0     3125\n",
      "         ... \n",
      "980.0       1\n",
      "293.0       1\n",
      "780.0       1\n",
      "253.0       1\n",
      "672.0       1\n",
      "Name: count, Length: 330, dtype: int64 \n",
      "\n"
     ]
    }
   ],
   "source": [
    "for col_name in ['country', 'designation', 'price']:\n",
    "    print(data_cleaned[col_name].value_counts(), '\\n')"
   ]
  },
  {
   "cell_type": "code",
   "execution_count": 8,
   "id": "1c950731",
   "metadata": {
    "execution": {
     "iopub.execute_input": "2024-02-25T06:18:52.741379Z",
     "iopub.status.busy": "2024-02-25T06:18:52.740964Z",
     "iopub.status.idle": "2024-02-25T06:18:52.831930Z",
     "shell.execute_reply": "2024-02-25T06:18:52.830473Z"
    },
    "papermill": {
     "duration": 0.106081,
     "end_time": "2024-02-25T06:18:52.834708",
     "exception": false,
     "start_time": "2024-02-25T06:18:52.728627",
     "status": "completed"
    },
    "tags": []
   },
   "outputs": [
    {
     "name": "stdout",
     "output_type": "stream",
     "text": [
      "<class 'pandas.core.frame.DataFrame'>\n",
      "Index: 86148 entries, 1 to 129970\n",
      "Data columns (total 10 columns):\n",
      " #   Column       Non-Null Count  Dtype  \n",
      "---  ------       --------------  -----  \n",
      " 0   Unnamed: 0   86148 non-null  int64  \n",
      " 1   country      86148 non-null  object \n",
      " 2   description  86148 non-null  object \n",
      " 3   designation  86148 non-null  object \n",
      " 4   points       86148 non-null  int64  \n",
      " 5   price        86148 non-null  float64\n",
      " 6   province     86148 non-null  object \n",
      " 7   title        86148 non-null  object \n",
      " 8   variety      86148 non-null  object \n",
      " 9   winery       86148 non-null  object \n",
      "dtypes: float64(1), int64(2), object(7)\n",
      "memory usage: 7.2+ MB\n"
     ]
    }
   ],
   "source": [
    "data_cleaned.info()"
   ]
  },
  {
   "cell_type": "markdown",
   "id": "143cce73",
   "metadata": {
    "papermill": {
     "duration": 0.010067,
     "end_time": "2024-02-25T06:18:52.857002",
     "exception": false,
     "start_time": "2024-02-25T06:18:52.846935",
     "status": "completed"
    },
    "tags": []
   },
   "source": [
    "## Riserva Wine Typo"
   ]
  },
  {
   "cell_type": "code",
   "execution_count": 9,
   "id": "6584e3ed",
   "metadata": {
    "execution": {
     "iopub.execute_input": "2024-02-25T06:18:52.879660Z",
     "iopub.status.busy": "2024-02-25T06:18:52.879257Z",
     "iopub.status.idle": "2024-02-25T06:18:52.949739Z",
     "shell.execute_reply": "2024-02-25T06:18:52.948396Z"
    },
    "papermill": {
     "duration": 0.08535,
     "end_time": "2024-02-25T06:18:52.952716",
     "exception": false,
     "start_time": "2024-02-25T06:18:52.867366",
     "status": "completed"
    },
    "tags": []
   },
   "outputs": [
    {
     "name": "stdout",
     "output_type": "stream",
     "text": [
      "<class 'pandas.core.frame.DataFrame'>\n",
      "Index: 3803 entries, 58 to 129938\n",
      "Data columns (total 10 columns):\n",
      " #   Column       Non-Null Count  Dtype  \n",
      "---  ------       --------------  -----  \n",
      " 0   Unnamed: 0   3803 non-null   int64  \n",
      " 1   country      3803 non-null   object \n",
      " 2   description  3803 non-null   object \n",
      " 3   designation  3803 non-null   object \n",
      " 4   points       3803 non-null   int64  \n",
      " 5   price        3803 non-null   float64\n",
      " 6   province     3803 non-null   object \n",
      " 7   title        3803 non-null   object \n",
      " 8   variety      3803 non-null   object \n",
      " 9   winery       3803 non-null   object \n",
      "dtypes: float64(1), int64(2), object(7)\n",
      "memory usage: 326.8+ KB\n"
     ]
    }
   ],
   "source": [
    "riserva_wine = data_cleaned.loc[(data_cleaned.designation == 'Riserva') | (data_cleaned.designation == 'Reserva') | (data_cleaned.designation == 'Reserve')]\n",
    "riserva_wine.info()"
   ]
  },
  {
   "cell_type": "code",
   "execution_count": 10,
   "id": "97f2d70c",
   "metadata": {
    "execution": {
     "iopub.execute_input": "2024-02-25T06:18:52.975918Z",
     "iopub.status.busy": "2024-02-25T06:18:52.974616Z",
     "iopub.status.idle": "2024-02-25T06:18:53.242111Z",
     "shell.execute_reply": "2024-02-25T06:18:53.240980Z"
    },
    "papermill": {
     "duration": 0.281548,
     "end_time": "2024-02-25T06:18:53.244717",
     "exception": false,
     "start_time": "2024-02-25T06:18:52.963169",
     "status": "completed"
    },
    "tags": []
   },
   "outputs": [
    {
     "data": {
      "text/html": [
       "<div>\n",
       "<style scoped>\n",
       "    .dataframe tbody tr th:only-of-type {\n",
       "        vertical-align: middle;\n",
       "    }\n",
       "\n",
       "    .dataframe tbody tr th {\n",
       "        vertical-align: top;\n",
       "    }\n",
       "\n",
       "    .dataframe thead th {\n",
       "        text-align: right;\n",
       "    }\n",
       "</style>\n",
       "<table border=\"1\" class=\"dataframe\">\n",
       "  <thead>\n",
       "    <tr style=\"text-align: right;\">\n",
       "      <th></th>\n",
       "      <th>Unnamed: 0</th>\n",
       "      <th>country</th>\n",
       "      <th>description</th>\n",
       "      <th>designation</th>\n",
       "      <th>points</th>\n",
       "      <th>price</th>\n",
       "      <th>province</th>\n",
       "      <th>title</th>\n",
       "      <th>variety</th>\n",
       "      <th>winery</th>\n",
       "    </tr>\n",
       "  </thead>\n",
       "  <tbody>\n",
       "  </tbody>\n",
       "</table>\n",
       "</div>"
      ],
      "text/plain": [
       "Empty DataFrame\n",
       "Columns: [Unnamed: 0, country, description, designation, points, price, province, title, variety, winery]\n",
       "Index: []"
      ]
     },
     "execution_count": 10,
     "metadata": {},
     "output_type": "execute_result"
    }
   ],
   "source": [
    "dict_typo = {'Reserve' : 'Riserva',\n",
    "             'Reserva' : 'Riserva'}\n",
    "data_cleaned = data_cleaned.replace(dict_typo)\n",
    "data_cleaned.head(5)\n",
    "\n",
    "#Riserva Wine check\n",
    "riserva_wine_check = data_cleaned.loc[(data_cleaned.designation == 'Reserva') | (data_cleaned.designation == 'Reserve')]\n",
    "riserva_wine_check"
   ]
  },
  {
   "cell_type": "code",
   "execution_count": 11,
   "id": "d2772d26",
   "metadata": {
    "execution": {
     "iopub.execute_input": "2024-02-25T06:18:53.267748Z",
     "iopub.status.busy": "2024-02-25T06:18:53.267370Z",
     "iopub.status.idle": "2024-02-25T06:18:53.286128Z",
     "shell.execute_reply": "2024-02-25T06:18:53.284975Z"
    },
    "papermill": {
     "duration": 0.033335,
     "end_time": "2024-02-25T06:18:53.288648",
     "exception": false,
     "start_time": "2024-02-25T06:18:53.255313",
     "status": "completed"
    },
    "tags": []
   },
   "outputs": [
    {
     "data": {
      "text/html": [
       "<div>\n",
       "<style scoped>\n",
       "    .dataframe tbody tr th:only-of-type {\n",
       "        vertical-align: middle;\n",
       "    }\n",
       "\n",
       "    .dataframe tbody tr th {\n",
       "        vertical-align: top;\n",
       "    }\n",
       "\n",
       "    .dataframe thead th {\n",
       "        text-align: right;\n",
       "    }\n",
       "</style>\n",
       "<table border=\"1\" class=\"dataframe\">\n",
       "  <thead>\n",
       "    <tr style=\"text-align: right;\">\n",
       "      <th></th>\n",
       "      <th>Unnamed: 0</th>\n",
       "      <th>country</th>\n",
       "      <th>description</th>\n",
       "      <th>designation</th>\n",
       "      <th>points</th>\n",
       "      <th>price</th>\n",
       "      <th>province</th>\n",
       "      <th>title</th>\n",
       "      <th>variety</th>\n",
       "      <th>winery</th>\n",
       "    </tr>\n",
       "  </thead>\n",
       "  <tbody>\n",
       "    <tr>\n",
       "      <th>58</th>\n",
       "      <td>58</td>\n",
       "      <td>Chile</td>\n",
       "      <td>Lightly herbal strawberry and raspberry aromas...</td>\n",
       "      <td>Reserve</td>\n",
       "      <td>85</td>\n",
       "      <td>13.0</td>\n",
       "      <td>Maipo Valley</td>\n",
       "      <td>Tres Palacios 2011 Reserve Pinot Noir (Maipo V...</td>\n",
       "      <td>Pinot Noir</td>\n",
       "      <td>Tres Palacios</td>\n",
       "    </tr>\n",
       "    <tr>\n",
       "      <th>195</th>\n",
       "      <td>195</td>\n",
       "      <td>Italy</td>\n",
       "      <td>This is a mature, jammy wine with thick layers...</td>\n",
       "      <td>Riserva</td>\n",
       "      <td>87</td>\n",
       "      <td>35.0</td>\n",
       "      <td>Tuscany</td>\n",
       "      <td>Carpineto 2003 Riserva  (Vino Nobile di Montep...</td>\n",
       "      <td>Prugnolo Gentile</td>\n",
       "      <td>Carpineto</td>\n",
       "    </tr>\n",
       "    <tr>\n",
       "      <th>208</th>\n",
       "      <td>208</td>\n",
       "      <td>South Africa</td>\n",
       "      <td>A stony, flinty character leads the nose of th...</td>\n",
       "      <td>Reserve</td>\n",
       "      <td>90</td>\n",
       "      <td>40.0</td>\n",
       "      <td>Coastal Region</td>\n",
       "      <td>Delaire Graff 2013 Reserve White (Coastal Region)</td>\n",
       "      <td>White Blend</td>\n",
       "      <td>Delaire Graff</td>\n",
       "    </tr>\n",
       "    <tr>\n",
       "      <th>233</th>\n",
       "      <td>233</td>\n",
       "      <td>US</td>\n",
       "      <td>There is an odd, piercing edge to the aromas, ...</td>\n",
       "      <td>Reserve</td>\n",
       "      <td>85</td>\n",
       "      <td>28.0</td>\n",
       "      <td>Oregon</td>\n",
       "      <td>Silvan Ridge 2006 Reserve Pinot Noir (Willamet...</td>\n",
       "      <td>Pinot Noir</td>\n",
       "      <td>Silvan Ridge</td>\n",
       "    </tr>\n",
       "    <tr>\n",
       "      <th>245</th>\n",
       "      <td>245</td>\n",
       "      <td>Argentina</td>\n",
       "      <td>Not exactly a world-class white wine but at le...</td>\n",
       "      <td>Reserve</td>\n",
       "      <td>85</td>\n",
       "      <td>12.0</td>\n",
       "      <td>Other</td>\n",
       "      <td>Finca Las Moras 2007 Reserve Chardonnay (San J...</td>\n",
       "      <td>Chardonnay</td>\n",
       "      <td>Finca Las Moras</td>\n",
       "    </tr>\n",
       "  </tbody>\n",
       "</table>\n",
       "</div>"
      ],
      "text/plain": [
       "     Unnamed: 0       country  \\\n",
       "58           58         Chile   \n",
       "195         195         Italy   \n",
       "208         208  South Africa   \n",
       "233         233            US   \n",
       "245         245     Argentina   \n",
       "\n",
       "                                           description designation  points  \\\n",
       "58   Lightly herbal strawberry and raspberry aromas...     Reserve      85   \n",
       "195  This is a mature, jammy wine with thick layers...     Riserva      87   \n",
       "208  A stony, flinty character leads the nose of th...     Reserve      90   \n",
       "233  There is an odd, piercing edge to the aromas, ...     Reserve      85   \n",
       "245  Not exactly a world-class white wine but at le...     Reserve      85   \n",
       "\n",
       "     price        province                                              title  \\\n",
       "58    13.0    Maipo Valley  Tres Palacios 2011 Reserve Pinot Noir (Maipo V...   \n",
       "195   35.0         Tuscany  Carpineto 2003 Riserva  (Vino Nobile di Montep...   \n",
       "208   40.0  Coastal Region  Delaire Graff 2013 Reserve White (Coastal Region)   \n",
       "233   28.0          Oregon  Silvan Ridge 2006 Reserve Pinot Noir (Willamet...   \n",
       "245   12.0           Other  Finca Las Moras 2007 Reserve Chardonnay (San J...   \n",
       "\n",
       "              variety           winery  \n",
       "58         Pinot Noir    Tres Palacios  \n",
       "195  Prugnolo Gentile        Carpineto  \n",
       "208       White Blend    Delaire Graff  \n",
       "233        Pinot Noir     Silvan Ridge  \n",
       "245        Chardonnay  Finca Las Moras  "
      ]
     },
     "execution_count": 11,
     "metadata": {},
     "output_type": "execute_result"
    }
   ],
   "source": [
    "#Dictionary Fix for Riserva Wine\n",
    "riserva_wine.head(5)"
   ]
  },
  {
   "cell_type": "code",
   "execution_count": 12,
   "id": "37528f8c",
   "metadata": {
    "execution": {
     "iopub.execute_input": "2024-02-25T06:18:53.314548Z",
     "iopub.status.busy": "2024-02-25T06:18:53.314146Z",
     "iopub.status.idle": "2024-02-25T06:18:53.342472Z",
     "shell.execute_reply": "2024-02-25T06:18:53.341524Z"
    },
    "papermill": {
     "duration": 0.04461,
     "end_time": "2024-02-25T06:18:53.344854",
     "exception": false,
     "start_time": "2024-02-25T06:18:53.300244",
     "status": "completed"
    },
    "tags": []
   },
   "outputs": [
    {
     "data": {
      "text/plain": [
       "winery            country  title                                                           \n",
       "Biondi Santi      Italy    Biondi Santi 2010 Riserva  (Brunello di Montalcino)                 100\n",
       "Trefethen         US       Trefethen 2005 Reserve Cabernet Sauvignon (Oak Knoll District)       99\n",
       "Von Strasser      US       Von Strasser 2008 Reserve Red (Diamond Mountain District)            98\n",
       "Conti Costanti    Italy    Conti Costanti 2010 Riserva  (Brunello di Montalcino)                98\n",
       "Schramsberg       US       Schramsberg 2004 Reserve Sparkling (Napa-Mendocino-Sonoma-Marin)     98\n",
       "                                                                                              ... \n",
       "Catharine Valley  US       Catharine Valley 2005 Reserve Cabernet Franc (Finger Lakes)          80\n",
       "Männle            Chile    Männle 2012 Reserva Carmenère (Itata Valley)                         80\n",
       "Laurel Lake       US       Laurel Lake 1998 Reserve Chardonnay (North Fork of Long Island)      80\n",
       "Alfasi            Chile    Alfasi 1998 Reserve Merlot (Maule Valley)                            80\n",
       "Finca Valpiedra   Spain    Finca Valpiedra 2008 Reserva  (Rioja)                                80\n",
       "Name: points, Length: 3538, dtype: int64"
      ]
     },
     "execution_count": 12,
     "metadata": {},
     "output_type": "execute_result"
    }
   ],
   "source": [
    "best_riserva_winery = riserva_wine.groupby(['winery','country', 'title'], as_index='winery')['points'].max()\n",
    "best_riserva_winery.sort_values(ascending=False)"
   ]
  },
  {
   "cell_type": "markdown",
   "id": "7208ddb8",
   "metadata": {
    "papermill": {
     "duration": 0.011564,
     "end_time": "2024-02-25T06:18:53.367973",
     "exception": false,
     "start_time": "2024-02-25T06:18:53.356409",
     "status": "completed"
    },
    "tags": []
   },
   "source": [
    "## Which Country Produce most Wine"
   ]
  },
  {
   "cell_type": "code",
   "execution_count": 13,
   "id": "c6285ee6",
   "metadata": {
    "execution": {
     "iopub.execute_input": "2024-02-25T06:18:53.392822Z",
     "iopub.status.busy": "2024-02-25T06:18:53.392357Z",
     "iopub.status.idle": "2024-02-25T06:18:53.417654Z",
     "shell.execute_reply": "2024-02-25T06:18:53.415759Z"
    },
    "papermill": {
     "duration": 0.041069,
     "end_time": "2024-02-25T06:18:53.420496",
     "exception": false,
     "start_time": "2024-02-25T06:18:53.379427",
     "status": "completed"
    },
    "tags": []
   },
   "outputs": [
    {
     "data": {
      "text/plain": [
       "country\n",
       "US          36751\n",
       "Italy       11993\n",
       "France      11840\n",
       "Spain        5257\n",
       "Portugal     4381\n",
       "Name: count, dtype: int64"
      ]
     },
     "execution_count": 13,
     "metadata": {},
     "output_type": "execute_result"
    }
   ],
   "source": [
    "most_country = data_cleaned['country'].value_counts()\n",
    "most_country.head(5)"
   ]
  },
  {
   "cell_type": "code",
   "execution_count": 14,
   "id": "75803ae7",
   "metadata": {
    "execution": {
     "iopub.execute_input": "2024-02-25T06:18:53.454819Z",
     "iopub.status.busy": "2024-02-25T06:18:53.453405Z",
     "iopub.status.idle": "2024-02-25T06:18:53.535744Z",
     "shell.execute_reply": "2024-02-25T06:18:53.534550Z"
    },
    "papermill": {
     "duration": 0.102205,
     "end_time": "2024-02-25T06:18:53.540032",
     "exception": false,
     "start_time": "2024-02-25T06:18:53.437827",
     "status": "completed"
    },
    "tags": []
   },
   "outputs": [
    {
     "data": {
      "text/html": [
       "<div>\n",
       "<style scoped>\n",
       "    .dataframe tbody tr th:only-of-type {\n",
       "        vertical-align: middle;\n",
       "    }\n",
       "\n",
       "    .dataframe tbody tr th {\n",
       "        vertical-align: top;\n",
       "    }\n",
       "\n",
       "    .dataframe thead th {\n",
       "        text-align: right;\n",
       "    }\n",
       "</style>\n",
       "<table border=\"1\" class=\"dataframe\">\n",
       "  <thead>\n",
       "    <tr style=\"text-align: right;\">\n",
       "      <th></th>\n",
       "      <th>country</th>\n",
       "      <th>title</th>\n",
       "    </tr>\n",
       "  </thead>\n",
       "  <tbody>\n",
       "    <tr>\n",
       "      <th>38</th>\n",
       "      <td>US</td>\n",
       "      <td>33850</td>\n",
       "    </tr>\n",
       "    <tr>\n",
       "      <th>21</th>\n",
       "      <td>Italy</td>\n",
       "      <td>10945</td>\n",
       "    </tr>\n",
       "    <tr>\n",
       "      <th>14</th>\n",
       "      <td>France</td>\n",
       "      <td>10480</td>\n",
       "    </tr>\n",
       "    <tr>\n",
       "      <th>35</th>\n",
       "      <td>Spain</td>\n",
       "      <td>4738</td>\n",
       "    </tr>\n",
       "    <tr>\n",
       "      <th>30</th>\n",
       "      <td>Portugal</td>\n",
       "      <td>4021</td>\n",
       "    </tr>\n",
       "  </tbody>\n",
       "</table>\n",
       "</div>"
      ],
      "text/plain": [
       "     country  title\n",
       "38        US  33850\n",
       "21     Italy  10945\n",
       "14    France  10480\n",
       "35     Spain   4738\n",
       "30  Portugal   4021"
      ]
     },
     "execution_count": 14,
     "metadata": {},
     "output_type": "execute_result"
    }
   ],
   "source": [
    "best_country = data_cleaned.groupby(['country'], as_index=False)['title'].nunique()\n",
    "best_country.sort_values('title', ascending=False).head(5)"
   ]
  },
  {
   "cell_type": "code",
   "execution_count": 15,
   "id": "21b84a46",
   "metadata": {
    "execution": {
     "iopub.execute_input": "2024-02-25T06:18:53.572272Z",
     "iopub.status.busy": "2024-02-25T06:18:53.571318Z",
     "iopub.status.idle": "2024-02-25T06:18:53.966231Z",
     "shell.execute_reply": "2024-02-25T06:18:53.964852Z"
    },
    "papermill": {
     "duration": 0.412291,
     "end_time": "2024-02-25T06:18:53.968815",
     "exception": false,
     "start_time": "2024-02-25T06:18:53.556524",
     "status": "completed"
    },
    "tags": []
   },
   "outputs": [
    {
     "data": {
      "text/plain": [
       "<Axes: xlabel='country', ylabel='title'>"
      ]
     },
     "execution_count": 15,
     "metadata": {},
     "output_type": "execute_result"
    },
    {
     "data": {
      "image/png": "[encoded data removed]",
      "text/plain": [
       "<Figure size 2000x500 with 1 Axes>"
      ]
     },
     "metadata": {},
     "output_type": "display_data"
    }
   ],
   "source": [
    "plt.rcParams['figure.figsize'] = (20,5)\n",
    "sns.barplot(x='country', y='title', data=best_country.sort_values('title', ascending=False).head(5))"
   ]
  },
  {
   "cell_type": "markdown",
   "id": "3dea6f10",
   "metadata": {
    "papermill": {
     "duration": 0.012109,
     "end_time": "2024-02-25T06:18:53.993326",
     "exception": false,
     "start_time": "2024-02-25T06:18:53.981217",
     "status": "completed"
    },
    "tags": []
   },
   "source": [
    "## Most Expensive Wine"
   ]
  },
  {
   "cell_type": "code",
   "execution_count": 16,
   "id": "d12796fa",
   "metadata": {
    "execution": {
     "iopub.execute_input": "2024-02-25T06:18:54.020403Z",
     "iopub.status.busy": "2024-02-25T06:18:54.019615Z",
     "iopub.status.idle": "2024-02-25T06:18:54.027284Z",
     "shell.execute_reply": "2024-02-25T06:18:54.026231Z"
    },
    "papermill": {
     "duration": 0.023827,
     "end_time": "2024-02-25T06:18:54.029672",
     "exception": false,
     "start_time": "2024-02-25T06:18:54.005845",
     "status": "completed"
    },
    "tags": []
   },
   "outputs": [
    {
     "data": {
      "text/plain": [
       "2013.0"
      ]
     },
     "execution_count": 16,
     "metadata": {},
     "output_type": "execute_result"
    }
   ],
   "source": [
    "most_expensive = data_cleaned['price'].max()\n",
    "most_expensive"
   ]
  },
  {
   "cell_type": "code",
   "execution_count": 17,
   "id": "f6a1f3f4",
   "metadata": {
    "execution": {
     "iopub.execute_input": "2024-02-25T06:18:54.056369Z",
     "iopub.status.busy": "2024-02-25T06:18:54.055843Z",
     "iopub.status.idle": "2024-02-25T06:18:54.445104Z",
     "shell.execute_reply": "2024-02-25T06:18:54.443980Z"
    },
    "papermill": {
     "duration": 0.405677,
     "end_time": "2024-02-25T06:18:54.447617",
     "exception": false,
     "start_time": "2024-02-25T06:18:54.041940",
     "status": "completed"
    },
    "tags": []
   },
   "outputs": [
    {
     "data": {
      "text/html": [
       "<div>\n",
       "<style scoped>\n",
       "    .dataframe tbody tr th:only-of-type {\n",
       "        vertical-align: middle;\n",
       "    }\n",
       "\n",
       "    .dataframe tbody tr th {\n",
       "        vertical-align: top;\n",
       "    }\n",
       "\n",
       "    .dataframe thead th {\n",
       "        text-align: right;\n",
       "    }\n",
       "</style>\n",
       "<table border=\"1\" class=\"dataframe\">\n",
       "  <thead>\n",
       "    <tr style=\"text-align: right;\">\n",
       "      <th></th>\n",
       "      <th></th>\n",
       "      <th></th>\n",
       "      <th>price</th>\n",
       "      <th>title</th>\n",
       "    </tr>\n",
       "    <tr>\n",
       "      <th>title</th>\n",
       "      <th>country</th>\n",
       "      <th>designation</th>\n",
       "      <th></th>\n",
       "      <th></th>\n",
       "    </tr>\n",
       "  </thead>\n",
       "  <tbody>\n",
       "    <tr>\n",
       "      <th>Blair 2013 Roger Rose Vineyard Chardonnay (Arroyo Seco)</th>\n",
       "      <th>US</th>\n",
       "      <th>Roger Rose Vineyard</th>\n",
       "      <td>2013.0</td>\n",
       "      <td>1</td>\n",
       "    </tr>\n",
       "    <tr>\n",
       "      <th>Emmerich Knoll 2013 Ried Loibenberg Smaragd Grüner Veltliner (Wachau)</th>\n",
       "      <th>Austria</th>\n",
       "      <th>Ried Loibenberg Smaragd</th>\n",
       "      <td>1100.0</td>\n",
       "      <td>1</td>\n",
       "    </tr>\n",
       "    <tr>\n",
       "      <th>W. &amp; J. Graham's NV 90-year Old Tawny  (Port)</th>\n",
       "      <th>Portugal</th>\n",
       "      <th>90-year Old Tawny</th>\n",
       "      <td>1000.0</td>\n",
       "      <td>1</td>\n",
       "    </tr>\n",
       "    <tr>\n",
       "      <th>Kopke 1935 Colheita White  (Port)</th>\n",
       "      <th>Portugal</th>\n",
       "      <th>Colheita White</th>\n",
       "      <td>980.0</td>\n",
       "      <td>1</td>\n",
       "    </tr>\n",
       "    <tr>\n",
       "      <th>Biondi Santi 2006 Riserva  (Brunello di Montalcino)</th>\n",
       "      <th>Italy</th>\n",
       "      <th>Riserva</th>\n",
       "      <td>900.0</td>\n",
       "      <td>1</td>\n",
       "    </tr>\n",
       "  </tbody>\n",
       "</table>\n",
       "</div>"
      ],
      "text/plain": [
       "                                                                                      price  \\\n",
       "title                                              country  designation                       \n",
       "Blair 2013 Roger Rose Vineyard Chardonnay (Arro... US       Roger Rose Vineyard      2013.0   \n",
       "Emmerich Knoll 2013 Ried Loibenberg Smaragd Grü... Austria  Ried Loibenberg Smaragd  1100.0   \n",
       "W. & J. Graham's NV 90-year Old Tawny  (Port)      Portugal 90-year Old Tawny        1000.0   \n",
       "Kopke 1935 Colheita White  (Port)                  Portugal Colheita White            980.0   \n",
       "Biondi Santi 2006 Riserva  (Brunello di Montalc... Italy    Riserva                   900.0   \n",
       "\n",
       "                                                                                     title  \n",
       "title                                              country  designation                     \n",
       "Blair 2013 Roger Rose Vineyard Chardonnay (Arro... US       Roger Rose Vineyard          1  \n",
       "Emmerich Knoll 2013 Ried Loibenberg Smaragd Grü... Austria  Ried Loibenberg Smaragd      1  \n",
       "W. & J. Graham's NV 90-year Old Tawny  (Port)      Portugal 90-year Old Tawny            1  \n",
       "Kopke 1935 Colheita White  (Port)                  Portugal Colheita White               1  \n",
       "Biondi Santi 2006 Riserva  (Brunello di Montalc... Italy    Riserva                      1  "
      ]
     },
     "execution_count": 17,
     "metadata": {},
     "output_type": "execute_result"
    }
   ],
   "source": [
    "most_priced = data_cleaned.groupby(['title','country','designation'], as_index='title').agg({\"price\" : \"max\", \"title\" : \"nunique\"})\n",
    "most_priced.sort_values('price', ascending=False).head(5)"
   ]
  },
  {
   "cell_type": "markdown",
   "id": "a272fe9e",
   "metadata": {
    "papermill": {
     "duration": 0.013865,
     "end_time": "2024-02-25T06:18:54.474082",
     "exception": false,
     "start_time": "2024-02-25T06:18:54.460217",
     "status": "completed"
    },
    "tags": []
   },
   "source": [
    "## Bivariate Analysis: Correlation between Points < 100 and Price"
   ]
  },
  {
   "cell_type": "code",
   "execution_count": 18,
   "id": "3709a386",
   "metadata": {
    "execution": {
     "iopub.execute_input": "2024-02-25T06:18:54.501606Z",
     "iopub.status.busy": "2024-02-25T06:18:54.500753Z",
     "iopub.status.idle": "2024-02-25T06:18:54.818686Z",
     "shell.execute_reply": "2024-02-25T06:18:54.817563Z"
    },
    "papermill": {
     "duration": 0.334577,
     "end_time": "2024-02-25T06:18:54.821167",
     "exception": false,
     "start_time": "2024-02-25T06:18:54.486590",
     "status": "completed"
    },
    "tags": []
   },
   "outputs": [
    {
     "data": {
      "text/plain": [
       "<Axes: xlabel='price', ylabel='points'>"
      ]
     },
     "execution_count": 18,
     "metadata": {},
     "output_type": "execute_result"
    },
    {
     "data": {
      "image/png": "[encoded data removed]",
      "text/plain": [
       "<Figure size 2000x500 with 1 Axes>"
      ]
     },
     "metadata": {},
     "output_type": "display_data"
    }
   ],
   "source": [
    "points_corr = data_cleaned[data_cleaned['price'] < 100].sample(100).plot.scatter(x='price', y='points')\n",
    "points_corr"
   ]
  },
  {
   "cell_type": "markdown",
   "id": "4f4d839a",
   "metadata": {
    "papermill": {
     "duration": 0.012659,
     "end_time": "2024-02-25T06:18:54.846783",
     "exception": false,
     "start_time": "2024-02-25T06:18:54.834124",
     "status": "completed"
    },
    "tags": []
   },
   "source": [
    "Correlation between price and points is **weak** because some reviews is a paid point review from the winery"
   ]
  }
 ],
 "metadata": {
  "kaggle": {
   "accelerator": "none",
   "dataSources": [
    {
     "datasetId": 1442,
     "sourceId": 8172,
     "sourceType": "datasetVersion"
    }
   ],
   "dockerImageVersionId": 30646,
   "isGpuEnabled": false,
   "isInternetEnabled": true,
   "language": "python",
   "sourceType": "notebook"
  },
  "kernelspec": {
   "display_name": "Python 3",
   "language": "python",
   "name": "python3"
  },
  "language_info": {
   "codemirror_mode": {
    "name": "ipython",
    "version": 3
   },
   "file_extension": ".py",
   "mimetype": "text/x-python",
   "name": "python",
   "nbconvert_exporter": "python",
   "pygments_lexer": "ipython3",
   "version": "3.10.13"
  },
  "papermill": {
   "default_parameters": {},
   "duration": 11.11175,
   "end_time": "2024-02-25T06:18:55.580870",
   "environment_variables": {},
   "exception": null,
   "input_path": "__notebook__.ipynb",
   "output_path": "__notebook__.ipynb",
   "parameters": {},
   "start_time": "2024-02-25T06:18:44.469120",
   "version": "2.5.0"
  }
 },
 "nbformat": 4,
 "nbformat_minor": 5
}
