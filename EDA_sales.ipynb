{
 "cells": [
  {
   "cell_type": "code",
   "execution_count": 2,
   "id": "df61edba-f26b-4dd5-8cf6-d4eef50ff874",
   "metadata": {},
   "outputs": [
    {
     "name": "stdout",
     "output_type": "stream",
     "text": [
      "done\n"
     ]
    }
   ],
   "source": [
    "import pandas as pd\n",
    "import numpy as np\n",
    "import matplotlib.pyplot as plt\n",
    "import seaborn as sns\n",
    "\n",
    "import warnings\n",
    "warnings.filterwarnings('ignore')\n",
    "print(\"done\")"
   ]
  },
  {
   "cell_type": "markdown",
   "id": "e9e26fde",
   "metadata": {},
   "source": [
    "## Data Reading & understanding (Pre-prep)"
   ]
  },
  {
   "cell_type": "code",
   "execution_count": 3,
   "id": "f4961e05-d297-4988-af10-70914209ea93",
   "metadata": {},
   "outputs": [
    {
     "data": {
      "text/html": [
       "<div>\n",
       "<style scoped>\n",
       "    .dataframe tbody tr th:only-of-type {\n",
       "        vertical-align: middle;\n",
       "    }\n",
       "\n",
       "    .dataframe tbody tr th {\n",
       "        vertical-align: top;\n",
       "    }\n",
       "\n",
       "    .dataframe thead th {\n",
       "        text-align: right;\n",
       "    }\n",
       "</style>\n",
       "<table border=\"1\" class=\"dataframe\">\n",
       "  <thead>\n",
       "    <tr style=\"text-align: right;\">\n",
       "      <th></th>\n",
       "      <th>Row ID</th>\n",
       "      <th>Order ID</th>\n",
       "      <th>Order Date</th>\n",
       "      <th>Ship Date</th>\n",
       "      <th>Ship Mode</th>\n",
       "      <th>Customer ID</th>\n",
       "      <th>Customer Name</th>\n",
       "      <th>Segment</th>\n",
       "      <th>Country</th>\n",
       "      <th>City</th>\n",
       "      <th>...</th>\n",
       "      <th>Postal Code</th>\n",
       "      <th>Region</th>\n",
       "      <th>Product ID</th>\n",
       "      <th>Category</th>\n",
       "      <th>Sub-Category</th>\n",
       "      <th>Product Name</th>\n",
       "      <th>Sales</th>\n",
       "      <th>Quantity</th>\n",
       "      <th>Discount</th>\n",
       "      <th>Profit</th>\n",
       "    </tr>\n",
       "  </thead>\n",
       "  <tbody>\n",
       "    <tr>\n",
       "      <th>0</th>\n",
       "      <td>1</td>\n",
       "      <td>CA-2016-152156</td>\n",
       "      <td>11/8/2016</td>\n",
       "      <td>11/11/2016</td>\n",
       "      <td>Second Class</td>\n",
       "      <td>CG-12520</td>\n",
       "      <td>Claire Gute</td>\n",
       "      <td>Consumer</td>\n",
       "      <td>United States</td>\n",
       "      <td>Henderson</td>\n",
       "      <td>...</td>\n",
       "      <td>42420</td>\n",
       "      <td>South</td>\n",
       "      <td>FUR-BO-10001798</td>\n",
       "      <td>Furniture</td>\n",
       "      <td>Bookcases</td>\n",
       "      <td>Bush Somerset Collection Bookcase</td>\n",
       "      <td>261.9600</td>\n",
       "      <td>2</td>\n",
       "      <td>0.00</td>\n",
       "      <td>41.9136</td>\n",
       "    </tr>\n",
       "    <tr>\n",
       "      <th>1</th>\n",
       "      <td>2</td>\n",
       "      <td>CA-2016-152156</td>\n",
       "      <td>11/8/2016</td>\n",
       "      <td>11/11/2016</td>\n",
       "      <td>Second Class</td>\n",
       "      <td>CG-12520</td>\n",
       "      <td>Claire Gute</td>\n",
       "      <td>Consumer</td>\n",
       "      <td>United States</td>\n",
       "      <td>Henderson</td>\n",
       "      <td>...</td>\n",
       "      <td>42420</td>\n",
       "      <td>South</td>\n",
       "      <td>FUR-CH-10000454</td>\n",
       "      <td>Furniture</td>\n",
       "      <td>Chairs</td>\n",
       "      <td>Hon Deluxe Fabric Upholstered Stacking Chairs,...</td>\n",
       "      <td>731.9400</td>\n",
       "      <td>3</td>\n",
       "      <td>0.00</td>\n",
       "      <td>219.5820</td>\n",
       "    </tr>\n",
       "    <tr>\n",
       "      <th>2</th>\n",
       "      <td>4</td>\n",
       "      <td>US-2015-108966</td>\n",
       "      <td>10/11/2015</td>\n",
       "      <td>10/18/2015</td>\n",
       "      <td>Standard Class</td>\n",
       "      <td>SO-20335</td>\n",
       "      <td>Sean O'Donnell</td>\n",
       "      <td>Consumer</td>\n",
       "      <td>United States</td>\n",
       "      <td>Fort Lauderdale</td>\n",
       "      <td>...</td>\n",
       "      <td>33311</td>\n",
       "      <td>South</td>\n",
       "      <td>FUR-TA-10000577</td>\n",
       "      <td>Furniture</td>\n",
       "      <td>Tables</td>\n",
       "      <td>Bretford CR4500 Series Slim Rectangular Table</td>\n",
       "      <td>957.5775</td>\n",
       "      <td>5</td>\n",
       "      <td>0.45</td>\n",
       "      <td>-383.0310</td>\n",
       "    </tr>\n",
       "    <tr>\n",
       "      <th>3</th>\n",
       "      <td>6</td>\n",
       "      <td>CA-2014-115812</td>\n",
       "      <td>6/9/2014</td>\n",
       "      <td>6/14/2014</td>\n",
       "      <td>Standard Class</td>\n",
       "      <td>BH-11710</td>\n",
       "      <td>Brosina Hoffman</td>\n",
       "      <td>Consumer</td>\n",
       "      <td>United States</td>\n",
       "      <td>Los Angeles</td>\n",
       "      <td>...</td>\n",
       "      <td>90032</td>\n",
       "      <td>West</td>\n",
       "      <td>FUR-FU-10001487</td>\n",
       "      <td>Furniture</td>\n",
       "      <td>Furnishings</td>\n",
       "      <td>Eldon Expressions Wood and Plastic Desk Access...</td>\n",
       "      <td>48.8600</td>\n",
       "      <td>7</td>\n",
       "      <td>0.00</td>\n",
       "      <td>14.1694</td>\n",
       "    </tr>\n",
       "    <tr>\n",
       "      <th>4</th>\n",
       "      <td>11</td>\n",
       "      <td>CA-2014-115812</td>\n",
       "      <td>6/9/2014</td>\n",
       "      <td>6/14/2014</td>\n",
       "      <td>Standard Class</td>\n",
       "      <td>BH-11710</td>\n",
       "      <td>Brosina Hoffman</td>\n",
       "      <td>Consumer</td>\n",
       "      <td>United States</td>\n",
       "      <td>Los Angeles</td>\n",
       "      <td>...</td>\n",
       "      <td>90032</td>\n",
       "      <td>West</td>\n",
       "      <td>FUR-TA-10001539</td>\n",
       "      <td>Furniture</td>\n",
       "      <td>Tables</td>\n",
       "      <td>Chromcraft Rectangular Conference Tables</td>\n",
       "      <td>1706.1840</td>\n",
       "      <td>9</td>\n",
       "      <td>0.20</td>\n",
       "      <td>85.3092</td>\n",
       "    </tr>\n",
       "  </tbody>\n",
       "</table>\n",
       "<p>5 rows × 21 columns</p>\n",
       "</div>"
      ],
      "text/plain": [
       "   Row ID        Order ID  Order Date   Ship Date       Ship Mode Customer ID  \\\n",
       "0       1  CA-2016-152156   11/8/2016  11/11/2016    Second Class    CG-12520   \n",
       "1       2  CA-2016-152156   11/8/2016  11/11/2016    Second Class    CG-12520   \n",
       "2       4  US-2015-108966  10/11/2015  10/18/2015  Standard Class    SO-20335   \n",
       "3       6  CA-2014-115812    6/9/2014   6/14/2014  Standard Class    BH-11710   \n",
       "4      11  CA-2014-115812    6/9/2014   6/14/2014  Standard Class    BH-11710   \n",
       "\n",
       "     Customer Name   Segment        Country             City  ... Postal Code  \\\n",
       "0      Claire Gute  Consumer  United States        Henderson  ...       42420   \n",
       "1      Claire Gute  Consumer  United States        Henderson  ...       42420   \n",
       "2   Sean O'Donnell  Consumer  United States  Fort Lauderdale  ...       33311   \n",
       "3  Brosina Hoffman  Consumer  United States      Los Angeles  ...       90032   \n",
       "4  Brosina Hoffman  Consumer  United States      Los Angeles  ...       90032   \n",
       "\n",
       "   Region       Product ID   Category Sub-Category  \\\n",
       "0   South  FUR-BO-10001798  Furniture    Bookcases   \n",
       "1   South  FUR-CH-10000454  Furniture       Chairs   \n",
       "2   South  FUR-TA-10000577  Furniture       Tables   \n",
       "3    West  FUR-FU-10001487  Furniture  Furnishings   \n",
       "4    West  FUR-TA-10001539  Furniture       Tables   \n",
       "\n",
       "                                        Product Name      Sales  Quantity  \\\n",
       "0                  Bush Somerset Collection Bookcase   261.9600         2   \n",
       "1  Hon Deluxe Fabric Upholstered Stacking Chairs,...   731.9400         3   \n",
       "2      Bretford CR4500 Series Slim Rectangular Table   957.5775         5   \n",
       "3  Eldon Expressions Wood and Plastic Desk Access...    48.8600         7   \n",
       "4           Chromcraft Rectangular Conference Tables  1706.1840         9   \n",
       "\n",
       "   Discount    Profit  \n",
       "0      0.00   41.9136  \n",
       "1      0.00  219.5820  \n",
       "2      0.45 -383.0310  \n",
       "3      0.00   14.1694  \n",
       "4      0.20   85.3092  \n",
       "\n",
       "[5 rows x 21 columns]"
      ]
     },
     "execution_count": 3,
     "metadata": {},
     "output_type": "execute_result"
    }
   ],
   "source": [
    "sheet_id = '1LkJkSWEEFcEjOqhLcCcW723-T7v_vG58Dt6qcywoUR8'\n",
    "sheet_name = 'stores_sales_forecasting'\n",
    "url = f'https://docs.google.com/spreadsheets/d/{sheet_id}/gviz/tq?tqx=out:csv&sheet={sheet_name}'\n",
    "salesdf = pd.read_csv(url)\n",
    "salesdf.head()\n",
    "\n",
    "#https://docs.google.com/spreadsheets/d/1LkJkSWEEFcEjOqhLcCcW723-T7v_vG58Dt6qcywoUR8/edit#gid=603870854"
   ]
  },
  {
   "cell_type": "code",
   "execution_count": 4,
   "id": "b48515af",
   "metadata": {},
   "outputs": [
    {
     "name": "stdout",
     "output_type": "stream",
     "text": [
      "<class 'pandas.core.frame.DataFrame'>\n",
      "RangeIndex: 2121 entries, 0 to 2120\n",
      "Data columns (total 21 columns):\n",
      " #   Column         Non-Null Count  Dtype  \n",
      "---  ------         --------------  -----  \n",
      " 0   Row ID         2121 non-null   int64  \n",
      " 1   Order ID       2121 non-null   object \n",
      " 2   Order Date     2121 non-null   object \n",
      " 3   Ship Date      2121 non-null   object \n",
      " 4   Ship Mode      2121 non-null   object \n",
      " 5   Customer ID    2121 non-null   object \n",
      " 6   Customer Name  2121 non-null   object \n",
      " 7   Segment        2121 non-null   object \n",
      " 8   Country        2121 non-null   object \n",
      " 9   City           2121 non-null   object \n",
      " 10  State          2121 non-null   object \n",
      " 11  Postal Code    2121 non-null   int64  \n",
      " 12  Region         2121 non-null   object \n",
      " 13  Product ID     2121 non-null   object \n",
      " 14  Category       2121 non-null   object \n",
      " 15  Sub-Category   2121 non-null   object \n",
      " 16  Product Name   2121 non-null   object \n",
      " 17  Sales          2121 non-null   float64\n",
      " 18  Quantity       2121 non-null   int64  \n",
      " 19  Discount       2121 non-null   float64\n",
      " 20  Profit         2121 non-null   float64\n",
      "dtypes: float64(3), int64(3), object(15)\n",
      "memory usage: 348.1+ KB\n"
     ]
    }
   ],
   "source": [
    "salesdf.info()"
   ]
  },
  {
   "cell_type": "code",
   "execution_count": 5,
   "id": "48068674",
   "metadata": {},
   "outputs": [
    {
     "data": {
      "text/html": [
       "<div>\n",
       "<style scoped>\n",
       "    .dataframe tbody tr th:only-of-type {\n",
       "        vertical-align: middle;\n",
       "    }\n",
       "\n",
       "    .dataframe tbody tr th {\n",
       "        vertical-align: top;\n",
       "    }\n",
       "\n",
       "    .dataframe thead th {\n",
       "        text-align: right;\n",
       "    }\n",
       "</style>\n",
       "<table border=\"1\" class=\"dataframe\">\n",
       "  <thead>\n",
       "    <tr style=\"text-align: right;\">\n",
       "      <th></th>\n",
       "      <th>count</th>\n",
       "      <th>mean</th>\n",
       "      <th>std</th>\n",
       "      <th>min</th>\n",
       "      <th>25%</th>\n",
       "      <th>50%</th>\n",
       "      <th>75%</th>\n",
       "      <th>max</th>\n",
       "    </tr>\n",
       "  </thead>\n",
       "  <tbody>\n",
       "    <tr>\n",
       "      <th>Row ID</th>\n",
       "      <td>2121.0</td>\n",
       "      <td>5041.643564</td>\n",
       "      <td>2885.740258</td>\n",
       "      <td>1.0000</td>\n",
       "      <td>2568.000</td>\n",
       "      <td>5145.0000</td>\n",
       "      <td>7534.0000</td>\n",
       "      <td>9991.000</td>\n",
       "    </tr>\n",
       "    <tr>\n",
       "      <th>Postal Code</th>\n",
       "      <td>2121.0</td>\n",
       "      <td>55726.556341</td>\n",
       "      <td>32261.888225</td>\n",
       "      <td>1040.0000</td>\n",
       "      <td>22801.000</td>\n",
       "      <td>60505.0000</td>\n",
       "      <td>90032.0000</td>\n",
       "      <td>99301.000</td>\n",
       "    </tr>\n",
       "    <tr>\n",
       "      <th>Sales</th>\n",
       "      <td>2121.0</td>\n",
       "      <td>349.834887</td>\n",
       "      <td>503.179145</td>\n",
       "      <td>1.8920</td>\n",
       "      <td>47.040</td>\n",
       "      <td>182.2200</td>\n",
       "      <td>435.1680</td>\n",
       "      <td>4416.174</td>\n",
       "    </tr>\n",
       "    <tr>\n",
       "      <th>Quantity</th>\n",
       "      <td>2121.0</td>\n",
       "      <td>3.785007</td>\n",
       "      <td>2.251620</td>\n",
       "      <td>1.0000</td>\n",
       "      <td>2.000</td>\n",
       "      <td>3.0000</td>\n",
       "      <td>5.0000</td>\n",
       "      <td>14.000</td>\n",
       "    </tr>\n",
       "    <tr>\n",
       "      <th>Discount</th>\n",
       "      <td>2121.0</td>\n",
       "      <td>0.173923</td>\n",
       "      <td>0.181547</td>\n",
       "      <td>0.0000</td>\n",
       "      <td>0.000</td>\n",
       "      <td>0.2000</td>\n",
       "      <td>0.3000</td>\n",
       "      <td>0.700</td>\n",
       "    </tr>\n",
       "    <tr>\n",
       "      <th>Profit</th>\n",
       "      <td>2121.0</td>\n",
       "      <td>8.699327</td>\n",
       "      <td>136.049246</td>\n",
       "      <td>-1862.3124</td>\n",
       "      <td>-12.849</td>\n",
       "      <td>7.7748</td>\n",
       "      <td>33.7266</td>\n",
       "      <td>1013.127</td>\n",
       "    </tr>\n",
       "  </tbody>\n",
       "</table>\n",
       "</div>"
      ],
      "text/plain": [
       "              count          mean           std        min        25%  \\\n",
       "Row ID       2121.0   5041.643564   2885.740258     1.0000   2568.000   \n",
       "Postal Code  2121.0  55726.556341  32261.888225  1040.0000  22801.000   \n",
       "Sales        2121.0    349.834887    503.179145     1.8920     47.040   \n",
       "Quantity     2121.0      3.785007      2.251620     1.0000      2.000   \n",
       "Discount     2121.0      0.173923      0.181547     0.0000      0.000   \n",
       "Profit       2121.0      8.699327    136.049246 -1862.3124    -12.849   \n",
       "\n",
       "                    50%         75%        max  \n",
       "Row ID        5145.0000   7534.0000   9991.000  \n",
       "Postal Code  60505.0000  90032.0000  99301.000  \n",
       "Sales          182.2200    435.1680   4416.174  \n",
       "Quantity         3.0000      5.0000     14.000  \n",
       "Discount         0.2000      0.3000      0.700  \n",
       "Profit           7.7748     33.7266   1013.127  "
      ]
     },
     "execution_count": 5,
     "metadata": {},
     "output_type": "execute_result"
    }
   ],
   "source": [
    "salesdf.describe().T"
   ]
  },
  {
   "cell_type": "code",
   "execution_count": 6,
   "id": "416d5878",
   "metadata": {},
   "outputs": [
    {
     "data": {
      "text/html": [
       "<div>\n",
       "<style scoped>\n",
       "    .dataframe tbody tr th:only-of-type {\n",
       "        vertical-align: middle;\n",
       "    }\n",
       "\n",
       "    .dataframe tbody tr th {\n",
       "        vertical-align: top;\n",
       "    }\n",
       "\n",
       "    .dataframe thead th {\n",
       "        text-align: right;\n",
       "    }\n",
       "</style>\n",
       "<table border=\"1\" class=\"dataframe\">\n",
       "  <thead>\n",
       "    <tr style=\"text-align: right;\">\n",
       "      <th></th>\n",
       "      <th>Row ID</th>\n",
       "      <th>Order ID</th>\n",
       "      <th>Order Date</th>\n",
       "      <th>Ship Date</th>\n",
       "      <th>Ship Mode</th>\n",
       "      <th>Customer ID</th>\n",
       "      <th>Customer Name</th>\n",
       "      <th>Segment</th>\n",
       "      <th>Country</th>\n",
       "      <th>City</th>\n",
       "      <th>...</th>\n",
       "      <th>Postal Code</th>\n",
       "      <th>Region</th>\n",
       "      <th>Product ID</th>\n",
       "      <th>Category</th>\n",
       "      <th>Sub-Category</th>\n",
       "      <th>Product Name</th>\n",
       "      <th>Sales</th>\n",
       "      <th>Quantity</th>\n",
       "      <th>Discount</th>\n",
       "      <th>Profit</th>\n",
       "    </tr>\n",
       "  </thead>\n",
       "  <tbody>\n",
       "  </tbody>\n",
       "</table>\n",
       "<p>0 rows × 21 columns</p>\n",
       "</div>"
      ],
      "text/plain": [
       "Empty DataFrame\n",
       "Columns: [Row ID, Order ID, Order Date, Ship Date, Ship Mode, Customer ID, Customer Name, Segment, Country, City, State, Postal Code, Region, Product ID, Category, Sub-Category, Product Name, Sales, Quantity, Discount, Profit]\n",
       "Index: []\n",
       "\n",
       "[0 rows x 21 columns]"
      ]
     },
     "execution_count": 6,
     "metadata": {},
     "output_type": "execute_result"
    }
   ],
   "source": [
    "duplicate_rows = salesdf[salesdf.duplicated()]\n",
    "duplicate_rows.head()"
   ]
  },
  {
   "cell_type": "code",
   "execution_count": 7,
   "id": "5678bafe",
   "metadata": {},
   "outputs": [
    {
     "name": "stdout",
     "output_type": "stream",
     "text": [
      "Row ID           0\n",
      "Order ID         0\n",
      "Order Date       0\n",
      "Ship Date        0\n",
      "Ship Mode        0\n",
      "Customer ID      0\n",
      "Customer Name    0\n",
      "Segment          0\n",
      "Country          0\n",
      "City             0\n",
      "State            0\n",
      "Postal Code      0\n",
      "Region           0\n",
      "Product ID       0\n",
      "Category         0\n",
      "Sub-Category     0\n",
      "Product Name     0\n",
      "Sales            0\n",
      "Quantity         0\n",
      "Discount         0\n",
      "Profit           0\n",
      "dtype: int64\n"
     ]
    }
   ],
   "source": [
    "print(salesdf.isnull().sum())"
   ]
  },
  {
   "cell_type": "code",
   "execution_count": 8,
   "id": "4c97579d",
   "metadata": {},
   "outputs": [
    {
     "name": "stdout",
     "output_type": "stream",
     "text": [
      "Row ID           2121\n",
      "Order ID         1764\n",
      "Order Date        889\n",
      "Ship Date         960\n",
      "Ship Mode           4\n",
      "Customer ID       707\n",
      "Customer Name     707\n",
      "Segment             3\n",
      "Country             1\n",
      "City              371\n",
      "State              48\n",
      "Postal Code       454\n",
      "Region              4\n",
      "Product ID        375\n",
      "Category            1\n",
      "Sub-Category        4\n",
      "Product Name      380\n",
      "Sales            1636\n",
      "Quantity           14\n",
      "Discount           11\n",
      "Profit           1777\n",
      "dtype: int64\n"
     ]
    }
   ],
   "source": [
    "#Melihat Data Uniq\n",
    "distinct_values = salesdf.nunique()\n",
    "print(distinct_values)"
   ]
  },
  {
   "cell_type": "code",
   "execution_count": 9,
   "id": "310121ba",
   "metadata": {},
   "outputs": [
    {
     "name": "stdout",
     "output_type": "stream",
     "text": [
      "Ship Mode\n",
      "Standard Class    1248\n",
      "Second Class       427\n",
      "First Class        327\n",
      "Same Day           119\n",
      "Name: count, dtype: int64 \n",
      "\n",
      "Segment\n",
      "Consumer       1113\n",
      "Corporate       646\n",
      "Home Office     362\n",
      "Name: count, dtype: int64 \n",
      "\n",
      "Region\n",
      "West       707\n",
      "East       601\n",
      "Central    481\n",
      "South      332\n",
      "Name: count, dtype: int64 \n",
      "\n",
      "Country\n",
      "United States    2121\n",
      "Name: count, dtype: int64 \n",
      "\n",
      "Category\n",
      "Furniture    2121\n",
      "Name: count, dtype: int64 \n",
      "\n",
      "Sub-Category\n",
      "Furnishings    957\n",
      "Chairs         617\n",
      "Tables         319\n",
      "Bookcases      228\n",
      "Name: count, dtype: int64 \n",
      "\n"
     ]
    }
   ],
   "source": [
    "for col_name in ['Ship Mode', 'Segment', 'Region','Country', 'Category', 'Sub-Category']:\n",
    "    print(salesdf[col_name].value_counts(), '\\n')"
   ]
  },
  {
   "cell_type": "markdown",
   "id": "bfe0e066",
   "metadata": {},
   "source": [
    "## Data Prepping\n",
    "Proses data preparasi merupakan proses data treatment menuju model berkualitas yang berguna. Tahapan ini adalah yang paling menguras resources dari tim analisis. Beberapa hal yang umum dilakukan pada tahapan ini adalah:\n",
    "\n",
    "1. Melakukan pengecekan kembali pada kebenaran data\n",
    "2. Mengelola data outlier\n",
    "3. Memberlakukan data missing dan data inkonsistensi"
   ]
  },
  {
   "cell_type": "code",
   "execution_count": 10,
   "id": "107b670a",
   "metadata": {},
   "outputs": [
    {
     "data": {
      "text/html": [
       "<div>\n",
       "<style scoped>\n",
       "    .dataframe tbody tr th:only-of-type {\n",
       "        vertical-align: middle;\n",
       "    }\n",
       "\n",
       "    .dataframe tbody tr th {\n",
       "        vertical-align: top;\n",
       "    }\n",
       "\n",
       "    .dataframe thead th {\n",
       "        text-align: right;\n",
       "    }\n",
       "</style>\n",
       "<table border=\"1\" class=\"dataframe\">\n",
       "  <thead>\n",
       "    <tr style=\"text-align: right;\">\n",
       "      <th></th>\n",
       "      <th>Row ID</th>\n",
       "      <th>Order ID</th>\n",
       "      <th>Order Date</th>\n",
       "      <th>Ship Date</th>\n",
       "      <th>Ship Mode</th>\n",
       "      <th>Customer ID</th>\n",
       "      <th>Customer Name</th>\n",
       "      <th>Segment</th>\n",
       "      <th>Country</th>\n",
       "      <th>City</th>\n",
       "      <th>...</th>\n",
       "      <th>Postal Code</th>\n",
       "      <th>Region</th>\n",
       "      <th>Product ID</th>\n",
       "      <th>Category</th>\n",
       "      <th>Sub-Category</th>\n",
       "      <th>Product Name</th>\n",
       "      <th>Sales</th>\n",
       "      <th>Quantity</th>\n",
       "      <th>Discount</th>\n",
       "      <th>Profit</th>\n",
       "    </tr>\n",
       "  </thead>\n",
       "  <tbody>\n",
       "    <tr>\n",
       "      <th>0</th>\n",
       "      <td>1</td>\n",
       "      <td>CA-2016-152156</td>\n",
       "      <td>11/8/2016</td>\n",
       "      <td>11/11/2016</td>\n",
       "      <td>Second Class</td>\n",
       "      <td>CG-12520</td>\n",
       "      <td>Claire Gute</td>\n",
       "      <td>Consumer</td>\n",
       "      <td>United States</td>\n",
       "      <td>Henderson</td>\n",
       "      <td>...</td>\n",
       "      <td>42420</td>\n",
       "      <td>South</td>\n",
       "      <td>FUR-BO-10001798</td>\n",
       "      <td>Furniture</td>\n",
       "      <td>Bookcases</td>\n",
       "      <td>Bush Somerset Collection Bookcase</td>\n",
       "      <td>261.9600</td>\n",
       "      <td>2</td>\n",
       "      <td>0.00</td>\n",
       "      <td>41.9136</td>\n",
       "    </tr>\n",
       "    <tr>\n",
       "      <th>1</th>\n",
       "      <td>2</td>\n",
       "      <td>CA-2016-152156</td>\n",
       "      <td>11/8/2016</td>\n",
       "      <td>11/11/2016</td>\n",
       "      <td>Second Class</td>\n",
       "      <td>CG-12520</td>\n",
       "      <td>Claire Gute</td>\n",
       "      <td>Consumer</td>\n",
       "      <td>United States</td>\n",
       "      <td>Henderson</td>\n",
       "      <td>...</td>\n",
       "      <td>42420</td>\n",
       "      <td>South</td>\n",
       "      <td>FUR-CH-10000454</td>\n",
       "      <td>Furniture</td>\n",
       "      <td>Chairs</td>\n",
       "      <td>Hon Deluxe Fabric Upholstered Stacking Chairs,...</td>\n",
       "      <td>731.9400</td>\n",
       "      <td>3</td>\n",
       "      <td>0.00</td>\n",
       "      <td>219.5820</td>\n",
       "    </tr>\n",
       "    <tr>\n",
       "      <th>2</th>\n",
       "      <td>4</td>\n",
       "      <td>US-2015-108966</td>\n",
       "      <td>10/11/2015</td>\n",
       "      <td>10/18/2015</td>\n",
       "      <td>Standard Class</td>\n",
       "      <td>SO-20335</td>\n",
       "      <td>Sean O'Donnell</td>\n",
       "      <td>Consumer</td>\n",
       "      <td>United States</td>\n",
       "      <td>Fort Lauderdale</td>\n",
       "      <td>...</td>\n",
       "      <td>33311</td>\n",
       "      <td>South</td>\n",
       "      <td>FUR-TA-10000577</td>\n",
       "      <td>Furniture</td>\n",
       "      <td>Tables</td>\n",
       "      <td>Bretford CR4500 Series Slim Rectangular Table</td>\n",
       "      <td>957.5775</td>\n",
       "      <td>5</td>\n",
       "      <td>0.45</td>\n",
       "      <td>-383.0310</td>\n",
       "    </tr>\n",
       "    <tr>\n",
       "      <th>3</th>\n",
       "      <td>6</td>\n",
       "      <td>CA-2014-115812</td>\n",
       "      <td>6/9/2014</td>\n",
       "      <td>6/14/2014</td>\n",
       "      <td>Standard Class</td>\n",
       "      <td>BH-11710</td>\n",
       "      <td>Brosina Hoffman</td>\n",
       "      <td>Consumer</td>\n",
       "      <td>United States</td>\n",
       "      <td>Los Angeles</td>\n",
       "      <td>...</td>\n",
       "      <td>90032</td>\n",
       "      <td>West</td>\n",
       "      <td>FUR-FU-10001487</td>\n",
       "      <td>Furniture</td>\n",
       "      <td>Furnishings</td>\n",
       "      <td>Eldon Expressions Wood and Plastic Desk Access...</td>\n",
       "      <td>48.8600</td>\n",
       "      <td>7</td>\n",
       "      <td>0.00</td>\n",
       "      <td>14.1694</td>\n",
       "    </tr>\n",
       "    <tr>\n",
       "      <th>4</th>\n",
       "      <td>11</td>\n",
       "      <td>CA-2014-115812</td>\n",
       "      <td>6/9/2014</td>\n",
       "      <td>6/14/2014</td>\n",
       "      <td>Standard Class</td>\n",
       "      <td>BH-11710</td>\n",
       "      <td>Brosina Hoffman</td>\n",
       "      <td>Consumer</td>\n",
       "      <td>United States</td>\n",
       "      <td>Los Angeles</td>\n",
       "      <td>...</td>\n",
       "      <td>90032</td>\n",
       "      <td>West</td>\n",
       "      <td>FUR-TA-10001539</td>\n",
       "      <td>Furniture</td>\n",
       "      <td>Tables</td>\n",
       "      <td>Chromcraft Rectangular Conference Tables</td>\n",
       "      <td>1706.1840</td>\n",
       "      <td>9</td>\n",
       "      <td>0.20</td>\n",
       "      <td>85.3092</td>\n",
       "    </tr>\n",
       "  </tbody>\n",
       "</table>\n",
       "<p>5 rows × 21 columns</p>\n",
       "</div>"
      ],
      "text/plain": [
       "   Row ID        Order ID  Order Date   Ship Date       Ship Mode Customer ID  \\\n",
       "0       1  CA-2016-152156   11/8/2016  11/11/2016    Second Class    CG-12520   \n",
       "1       2  CA-2016-152156   11/8/2016  11/11/2016    Second Class    CG-12520   \n",
       "2       4  US-2015-108966  10/11/2015  10/18/2015  Standard Class    SO-20335   \n",
       "3       6  CA-2014-115812    6/9/2014   6/14/2014  Standard Class    BH-11710   \n",
       "4      11  CA-2014-115812    6/9/2014   6/14/2014  Standard Class    BH-11710   \n",
       "\n",
       "     Customer Name   Segment        Country             City  ... Postal Code  \\\n",
       "0      Claire Gute  Consumer  United States        Henderson  ...       42420   \n",
       "1      Claire Gute  Consumer  United States        Henderson  ...       42420   \n",
       "2   Sean O'Donnell  Consumer  United States  Fort Lauderdale  ...       33311   \n",
       "3  Brosina Hoffman  Consumer  United States      Los Angeles  ...       90032   \n",
       "4  Brosina Hoffman  Consumer  United States      Los Angeles  ...       90032   \n",
       "\n",
       "   Region       Product ID   Category Sub-Category  \\\n",
       "0   South  FUR-BO-10001798  Furniture    Bookcases   \n",
       "1   South  FUR-CH-10000454  Furniture       Chairs   \n",
       "2   South  FUR-TA-10000577  Furniture       Tables   \n",
       "3    West  FUR-FU-10001487  Furniture  Furnishings   \n",
       "4    West  FUR-TA-10001539  Furniture       Tables   \n",
       "\n",
       "                                        Product Name      Sales  Quantity  \\\n",
       "0                  Bush Somerset Collection Bookcase   261.9600         2   \n",
       "1  Hon Deluxe Fabric Upholstered Stacking Chairs,...   731.9400         3   \n",
       "2      Bretford CR4500 Series Slim Rectangular Table   957.5775         5   \n",
       "3  Eldon Expressions Wood and Plastic Desk Access...    48.8600         7   \n",
       "4           Chromcraft Rectangular Conference Tables  1706.1840         9   \n",
       "\n",
       "   Discount    Profit  \n",
       "0      0.00   41.9136  \n",
       "1      0.00  219.5820  \n",
       "2      0.45 -383.0310  \n",
       "3      0.00   14.1694  \n",
       "4      0.20   85.3092  \n",
       "\n",
       "[5 rows x 21 columns]"
      ]
     },
     "execution_count": 10,
     "metadata": {},
     "output_type": "execute_result"
    }
   ],
   "source": [
    "salesdf2 = salesdf.copy()\n",
    "salesdf2.head()"
   ]
  },
  {
   "cell_type": "code",
   "execution_count": 11,
   "id": "53fc7438",
   "metadata": {},
   "outputs": [
    {
     "data": {
      "text/html": [
       "<div>\n",
       "<style scoped>\n",
       "    .dataframe tbody tr th:only-of-type {\n",
       "        vertical-align: middle;\n",
       "    }\n",
       "\n",
       "    .dataframe tbody tr th {\n",
       "        vertical-align: top;\n",
       "    }\n",
       "\n",
       "    .dataframe thead th {\n",
       "        text-align: right;\n",
       "    }\n",
       "</style>\n",
       "<table border=\"1\" class=\"dataframe\">\n",
       "  <thead>\n",
       "    <tr style=\"text-align: right;\">\n",
       "      <th></th>\n",
       "      <th>Order ID</th>\n",
       "      <th>Order Date</th>\n",
       "      <th>Ship Date</th>\n",
       "      <th>Ship Mode</th>\n",
       "      <th>Customer ID</th>\n",
       "      <th>Customer Name</th>\n",
       "      <th>Segment</th>\n",
       "      <th>Country</th>\n",
       "      <th>City</th>\n",
       "      <th>State</th>\n",
       "      <th>Postal Code</th>\n",
       "      <th>Region</th>\n",
       "      <th>Product ID</th>\n",
       "      <th>Category</th>\n",
       "      <th>Sub-Category</th>\n",
       "      <th>Product Name</th>\n",
       "      <th>Sales</th>\n",
       "      <th>Quantity</th>\n",
       "      <th>Discount</th>\n",
       "      <th>Profit</th>\n",
       "    </tr>\n",
       "  </thead>\n",
       "  <tbody>\n",
       "    <tr>\n",
       "      <th>0</th>\n",
       "      <td>CA-2016-152156</td>\n",
       "      <td>11/8/2016</td>\n",
       "      <td>11/11/2016</td>\n",
       "      <td>Second Class</td>\n",
       "      <td>CG-12520</td>\n",
       "      <td>Claire Gute</td>\n",
       "      <td>Consumer</td>\n",
       "      <td>United States</td>\n",
       "      <td>Henderson</td>\n",
       "      <td>Kentucky</td>\n",
       "      <td>42420</td>\n",
       "      <td>South</td>\n",
       "      <td>FUR-BO-10001798</td>\n",
       "      <td>Furniture</td>\n",
       "      <td>Bookcases</td>\n",
       "      <td>Bush Somerset Collection Bookcase</td>\n",
       "      <td>261.9600</td>\n",
       "      <td>2</td>\n",
       "      <td>0.00</td>\n",
       "      <td>41.9136</td>\n",
       "    </tr>\n",
       "    <tr>\n",
       "      <th>1</th>\n",
       "      <td>CA-2016-152156</td>\n",
       "      <td>11/8/2016</td>\n",
       "      <td>11/11/2016</td>\n",
       "      <td>Second Class</td>\n",
       "      <td>CG-12520</td>\n",
       "      <td>Claire Gute</td>\n",
       "      <td>Consumer</td>\n",
       "      <td>United States</td>\n",
       "      <td>Henderson</td>\n",
       "      <td>Kentucky</td>\n",
       "      <td>42420</td>\n",
       "      <td>South</td>\n",
       "      <td>FUR-CH-10000454</td>\n",
       "      <td>Furniture</td>\n",
       "      <td>Chairs</td>\n",
       "      <td>Hon Deluxe Fabric Upholstered Stacking Chairs,...</td>\n",
       "      <td>731.9400</td>\n",
       "      <td>3</td>\n",
       "      <td>0.00</td>\n",
       "      <td>219.5820</td>\n",
       "    </tr>\n",
       "    <tr>\n",
       "      <th>2</th>\n",
       "      <td>US-2015-108966</td>\n",
       "      <td>10/11/2015</td>\n",
       "      <td>10/18/2015</td>\n",
       "      <td>Standard Class</td>\n",
       "      <td>SO-20335</td>\n",
       "      <td>Sean O'Donnell</td>\n",
       "      <td>Consumer</td>\n",
       "      <td>United States</td>\n",
       "      <td>Fort Lauderdale</td>\n",
       "      <td>Florida</td>\n",
       "      <td>33311</td>\n",
       "      <td>South</td>\n",
       "      <td>FUR-TA-10000577</td>\n",
       "      <td>Furniture</td>\n",
       "      <td>Tables</td>\n",
       "      <td>Bretford CR4500 Series Slim Rectangular Table</td>\n",
       "      <td>957.5775</td>\n",
       "      <td>5</td>\n",
       "      <td>0.45</td>\n",
       "      <td>-383.0310</td>\n",
       "    </tr>\n",
       "  </tbody>\n",
       "</table>\n",
       "</div>"
      ],
      "text/plain": [
       "         Order ID  Order Date   Ship Date       Ship Mode Customer ID  \\\n",
       "0  CA-2016-152156   11/8/2016  11/11/2016    Second Class    CG-12520   \n",
       "1  CA-2016-152156   11/8/2016  11/11/2016    Second Class    CG-12520   \n",
       "2  US-2015-108966  10/11/2015  10/18/2015  Standard Class    SO-20335   \n",
       "\n",
       "    Customer Name   Segment        Country             City     State  \\\n",
       "0     Claire Gute  Consumer  United States        Henderson  Kentucky   \n",
       "1     Claire Gute  Consumer  United States        Henderson  Kentucky   \n",
       "2  Sean O'Donnell  Consumer  United States  Fort Lauderdale   Florida   \n",
       "\n",
       "   Postal Code Region       Product ID   Category Sub-Category  \\\n",
       "0        42420  South  FUR-BO-10001798  Furniture    Bookcases   \n",
       "1        42420  South  FUR-CH-10000454  Furniture       Chairs   \n",
       "2        33311  South  FUR-TA-10000577  Furniture       Tables   \n",
       "\n",
       "                                        Product Name     Sales  Quantity  \\\n",
       "0                  Bush Somerset Collection Bookcase  261.9600         2   \n",
       "1  Hon Deluxe Fabric Upholstered Stacking Chairs,...  731.9400         3   \n",
       "2      Bretford CR4500 Series Slim Rectangular Table  957.5775         5   \n",
       "\n",
       "   Discount    Profit  \n",
       "0      0.00   41.9136  \n",
       "1      0.00  219.5820  \n",
       "2      0.45 -383.0310  "
      ]
     },
     "execution_count": 11,
     "metadata": {},
     "output_type": "execute_result"
    }
   ],
   "source": [
    "salesdf2 = salesdf2.drop(columns=['Row ID'])\n",
    "salesdf2.head(3)"
   ]
  },
  {
   "cell_type": "code",
   "execution_count": 12,
   "id": "ea15511b",
   "metadata": {},
   "outputs": [
    {
     "data": {
      "text/plain": [
       "Index(['Order ID', 'Order Date', 'Ship Date', 'Ship Mode', 'Customer ID',\n",
       "       'Customer Name', 'Segment', 'Country', 'City', 'State', 'Postal Code',\n",
       "       'Region', 'Product ID', 'Category', 'Sub-Category', 'Product Name',\n",
       "       'Sales', 'Quantity', 'Discount', 'Profit'],\n",
       "      dtype='object')"
      ]
     },
     "execution_count": 12,
     "metadata": {},
     "output_type": "execute_result"
    }
   ],
   "source": [
    "cols = salesdf2.columns\n",
    "cols"
   ]
  },
  {
   "cell_type": "markdown",
   "id": "4b958cff",
   "metadata": {},
   "source": [
    "### Changing Dtypes on order date"
   ]
  },
  {
   "cell_type": "code",
   "execution_count": 13,
   "id": "0bf1c75a",
   "metadata": {},
   "outputs": [
    {
     "name": "stdout",
     "output_type": "stream",
     "text": [
      "<class 'pandas.core.frame.DataFrame'>\n",
      "RangeIndex: 2121 entries, 0 to 2120\n",
      "Data columns (total 20 columns):\n",
      " #   Column         Non-Null Count  Dtype         \n",
      "---  ------         --------------  -----         \n",
      " 0   Order ID       2121 non-null   object        \n",
      " 1   Order Date     2121 non-null   datetime64[ns]\n",
      " 2   Ship Date      2121 non-null   object        \n",
      " 3   Ship Mode      2121 non-null   object        \n",
      " 4   Customer ID    2121 non-null   object        \n",
      " 5   Customer Name  2121 non-null   object        \n",
      " 6   Segment        2121 non-null   object        \n",
      " 7   Country        2121 non-null   object        \n",
      " 8   City           2121 non-null   object        \n",
      " 9   State          2121 non-null   object        \n",
      " 10  Postal Code    2121 non-null   int64         \n",
      " 11  Region         2121 non-null   object        \n",
      " 12  Product ID     2121 non-null   object        \n",
      " 13  Category       2121 non-null   object        \n",
      " 14  Sub-Category   2121 non-null   object        \n",
      " 15  Product Name   2121 non-null   object        \n",
      " 16  Sales          2121 non-null   float64       \n",
      " 17  Quantity       2121 non-null   int64         \n",
      " 18  Discount       2121 non-null   float64       \n",
      " 19  Profit         2121 non-null   float64       \n",
      "dtypes: datetime64[ns](1), float64(3), int64(2), object(14)\n",
      "memory usage: 331.5+ KB\n"
     ]
    }
   ],
   "source": [
    "salesdf2['Order Date'] = pd.to_datetime(salesdf['Order Date'])\n",
    "salesdf2.info()"
   ]
  },
  {
   "cell_type": "markdown",
   "id": "a7fa41bf",
   "metadata": {},
   "source": [
    "### Checking Outlier"
   ]
  },
  {
   "cell_type": "code",
   "execution_count": 14,
   "id": "4efe12a6",
   "metadata": {},
   "outputs": [
    {
     "data": {
      "image/png": "[encoded data removed]",
      "text/plain": [
       "<Figure size 3000x1500 with 1 Axes>"
      ]
     },
     "metadata": {},
     "output_type": "display_data"
    }
   ],
   "source": [
    "#Melihat data outlier\n",
    "salesdf2[cols].boxplot(figsize=(30,15), fontsize=15)\n",
    "plt.title(\"Check outlier\" , fontsize=30)\n",
    "plt.show()"
   ]
  },
  {
   "cell_type": "markdown",
   "id": "40dcb61a",
   "metadata": {},
   "source": [
    "#### Remove Outlier"
   ]
  },
  {
   "cell_type": "code",
   "execution_count": 15,
   "id": "318d5abe",
   "metadata": {},
   "outputs": [],
   "source": [
    "## define a function for quartil\n",
    "\n",
    "def outlier(df,ft):\n",
    "    Q1 = df[ft].quantile(0.25)\n",
    "    Q3 = df[ft].quantile(0.75)\n",
    "    IQR = Q3-Q1\n",
    "    \n",
    "    lower_bound = Q1 - 1.5*IQR\n",
    "    upper_bound = Q3 + 1.5*IQR\n",
    "    \n",
    "    ls = df.index[(df[ft] < lower_bound) | (df[ft] > upper_bound)]\n",
    "    return ls"
   ]
  },
  {
   "cell_type": "code",
   "execution_count": 16,
   "id": "f1b84fa5",
   "metadata": {},
   "outputs": [],
   "source": [
    "## create an empaty list to stode the output indices from multiple columns\n",
    "\n",
    "index_list = []\n",
    "\n",
    "for feature in ['Sales', 'Profit']:\n",
    "    index_list.extend(outlier(salesdf2,feature))"
   ]
  },
  {
   "cell_type": "code",
   "execution_count": 17,
   "id": "8e9f877a",
   "metadata": {},
   "outputs": [
    {
     "data": {
      "text/plain": [
       "[4,\n",
       " 6,\n",
       " 7,\n",
       " 35,\n",
       " 37,\n",
       " 56,\n",
       " 60,\n",
       " 79,\n",
       " 80,\n",
       " 83,\n",
       " 85,\n",
       " 100,\n",
       " 119,\n",
       " 121,\n",
       " 135,\n",
       " 153,\n",
       " 173,\n",
       " 175,\n",
       " 183,\n",
       " 191,\n",
       " 195,\n",
       " 204,\n",
       " 207,\n",
       " 210,\n",
       " 213,\n",
       " 226,\n",
       " 234,\n",
       " 238,\n",
       " 259,\n",
       " 261,\n",
       " 301,\n",
       " 302,\n",
       " 307,\n",
       " 318,\n",
       " 324,\n",
       " 326,\n",
       " 344,\n",
       " 352,\n",
       " 359,\n",
       " 366,\n",
       " 370,\n",
       " 408,\n",
       " 412,\n",
       " 425,\n",
       " 465,\n",
       " 486,\n",
       " 487,\n",
       " 488,\n",
       " 514,\n",
       " 515,\n",
       " 522,\n",
       " 529,\n",
       " 530,\n",
       " 539,\n",
       " 552,\n",
       " 591,\n",
       " 596,\n",
       " 598,\n",
       " 616,\n",
       " 649,\n",
       " 664,\n",
       " 723,\n",
       " 734,\n",
       " 737,\n",
       " 750,\n",
       " 784,\n",
       " 792,\n",
       " 794,\n",
       " 812,\n",
       " 823,\n",
       " 875,\n",
       " 882,\n",
       " 909,\n",
       " 919,\n",
       " 924,\n",
       " 1015,\n",
       " 1025,\n",
       " 1033,\n",
       " 1045,\n",
       " 1047,\n",
       " 1059,\n",
       " 1066,\n",
       " 1070,\n",
       " 1073,\n",
       " 1099,\n",
       " 1108,\n",
       " 1119,\n",
       " 1129,\n",
       " 1162,\n",
       " 1165,\n",
       " 1167,\n",
       " 1172,\n",
       " 1194,\n",
       " 1221,\n",
       " 1222,\n",
       " 1223,\n",
       " 1232,\n",
       " 1233,\n",
       " 1235,\n",
       " 1276,\n",
       " 1277,\n",
       " 1279,\n",
       " 1280,\n",
       " 1290,\n",
       " 1295,\n",
       " 1312,\n",
       " 1365,\n",
       " 1372,\n",
       " 1391,\n",
       " 1392,\n",
       " 1442,\n",
       " 1445,\n",
       " 1447,\n",
       " 1448,\n",
       " 1450,\n",
       " 1451,\n",
       " 1452,\n",
       " 1457,\n",
       " 1486,\n",
       " 1517,\n",
       " 1551,\n",
       " 1573,\n",
       " 1577,\n",
       " 1579,\n",
       " 1586,\n",
       " 1617,\n",
       " 1622,\n",
       " 1623,\n",
       " 1633,\n",
       " 1644,\n",
       " 1651,\n",
       " 1657,\n",
       " 1689,\n",
       " 1693,\n",
       " 1733,\n",
       " 1736,\n",
       " 1748,\n",
       " 1750,\n",
       " 1755,\n",
       " 1791,\n",
       " 1802,\n",
       " 1822,\n",
       " 1824,\n",
       " 1868,\n",
       " 1869,\n",
       " 1882,\n",
       " 1909,\n",
       " 1923,\n",
       " 1926,\n",
       " 1950,\n",
       " 1967,\n",
       " 1999,\n",
       " 2001,\n",
       " 2003,\n",
       " 2014,\n",
       " 2028,\n",
       " 2041,\n",
       " 2044,\n",
       " 2047,\n",
       " 2063,\n",
       " 2069,\n",
       " 2074,\n",
       " 2092,\n",
       " 2114,\n",
       " 1,\n",
       " 2,\n",
       " 6,\n",
       " 7,\n",
       " 9,\n",
       " 17,\n",
       " 26,\n",
       " 29,\n",
       " 35,\n",
       " 40,\n",
       " 42,\n",
       " 44,\n",
       " 46,\n",
       " 49,\n",
       " 50,\n",
       " 52,\n",
       " 54,\n",
       " 56,\n",
       " 66,\n",
       " 74,\n",
       " 79,\n",
       " 80,\n",
       " 81,\n",
       " 83,\n",
       " 84,\n",
       " 90,\n",
       " 98,\n",
       " 100,\n",
       " 101,\n",
       " 106,\n",
       " 118,\n",
       " 121,\n",
       " 135,\n",
       " 139,\n",
       " 149,\n",
       " 153,\n",
       " 155,\n",
       " 161,\n",
       " 163,\n",
       " 173,\n",
       " 183,\n",
       " 192,\n",
       " 195,\n",
       " 204,\n",
       " 207,\n",
       " 210,\n",
       " 213,\n",
       " 214,\n",
       " 217,\n",
       " 226,\n",
       " 227,\n",
       " 234,\n",
       " 238,\n",
       " 259,\n",
       " 261,\n",
       " 267,\n",
       " 269,\n",
       " 284,\n",
       " 286,\n",
       " 287,\n",
       " 288,\n",
       " 291,\n",
       " 296,\n",
       " 301,\n",
       " 302,\n",
       " 303,\n",
       " 309,\n",
       " 312,\n",
       " 315,\n",
       " 318,\n",
       " 322,\n",
       " 324,\n",
       " 326,\n",
       " 330,\n",
       " 335,\n",
       " 340,\n",
       " 344,\n",
       " 349,\n",
       " 351,\n",
       " 352,\n",
       " 354,\n",
       " 366,\n",
       " 370,\n",
       " 386,\n",
       " 396,\n",
       " 397,\n",
       " 407,\n",
       " 408,\n",
       " 410,\n",
       " 412,\n",
       " 417,\n",
       " 425,\n",
       " 428,\n",
       " 443,\n",
       " 449,\n",
       " 460,\n",
       " 461,\n",
       " 475,\n",
       " 477,\n",
       " 478,\n",
       " 486,\n",
       " 487,\n",
       " 488,\n",
       " 489,\n",
       " 497,\n",
       " 502,\n",
       " 506,\n",
       " 507,\n",
       " 514,\n",
       " 515,\n",
       " 522,\n",
       " 527,\n",
       " 529,\n",
       " 530,\n",
       " 536,\n",
       " 539,\n",
       " 547,\n",
       " 550,\n",
       " 554,\n",
       " 556,\n",
       " 564,\n",
       " 569,\n",
       " 586,\n",
       " 590,\n",
       " 591,\n",
       " 598,\n",
       " 616,\n",
       " 634,\n",
       " 638,\n",
       " 649,\n",
       " 657,\n",
       " 664,\n",
       " 671,\n",
       " 677,\n",
       " 698,\n",
       " 723,\n",
       " 724,\n",
       " 734,\n",
       " 737,\n",
       " 739,\n",
       " 740,\n",
       " 743,\n",
       " 744,\n",
       " 750,\n",
       " 751,\n",
       " 754,\n",
       " 784,\n",
       " 785,\n",
       " 787,\n",
       " 791,\n",
       " 792,\n",
       " 794,\n",
       " 796,\n",
       " 799,\n",
       " 805,\n",
       " 806,\n",
       " 812,\n",
       " 815,\n",
       " 817,\n",
       " 823,\n",
       " 830,\n",
       " 840,\n",
       " 844,\n",
       " 845,\n",
       " 861,\n",
       " 871,\n",
       " 875,\n",
       " 881,\n",
       " 882,\n",
       " 884,\n",
       " 885,\n",
       " 888,\n",
       " 889,\n",
       " 890,\n",
       " 891,\n",
       " 897,\n",
       " 904,\n",
       " 909,\n",
       " 911,\n",
       " 916,\n",
       " 919,\n",
       " 921,\n",
       " 924,\n",
       " 930,\n",
       " 963,\n",
       " 973,\n",
       " 982,\n",
       " 988,\n",
       " 991,\n",
       " 998,\n",
       " 1001,\n",
       " 1010,\n",
       " 1015,\n",
       " 1016,\n",
       " 1023,\n",
       " 1025,\n",
       " 1033,\n",
       " 1035,\n",
       " 1042,\n",
       " 1044,\n",
       " 1045,\n",
       " 1047,\n",
       " 1049,\n",
       " 1050,\n",
       " 1052,\n",
       " 1056,\n",
       " 1059,\n",
       " 1062,\n",
       " 1064,\n",
       " 1066,\n",
       " 1069,\n",
       " 1070,\n",
       " 1071,\n",
       " 1073,\n",
       " 1076,\n",
       " 1081,\n",
       " 1092,\n",
       " 1095,\n",
       " 1099,\n",
       " 1108,\n",
       " 1119,\n",
       " 1131,\n",
       " 1135,\n",
       " 1145,\n",
       " 1151,\n",
       " 1162,\n",
       " 1164,\n",
       " 1167,\n",
       " 1172,\n",
       " 1173,\n",
       " 1178,\n",
       " 1179,\n",
       " 1185,\n",
       " 1190,\n",
       " 1191,\n",
       " 1194,\n",
       " 1198,\n",
       " 1210,\n",
       " 1221,\n",
       " 1226,\n",
       " 1232,\n",
       " 1234,\n",
       " 1235,\n",
       " 1241,\n",
       " 1246,\n",
       " 1249,\n",
       " 1251,\n",
       " 1252,\n",
       " 1267,\n",
       " 1269,\n",
       " 1276,\n",
       " 1277,\n",
       " 1278,\n",
       " 1283,\n",
       " 1285,\n",
       " 1295,\n",
       " 1297,\n",
       " 1304,\n",
       " 1317,\n",
       " 1318,\n",
       " 1321,\n",
       " 1324,\n",
       " 1330,\n",
       " 1336,\n",
       " 1337,\n",
       " 1344,\n",
       " 1347,\n",
       " 1357,\n",
       " 1363,\n",
       " 1366,\n",
       " 1369,\n",
       " 1372,\n",
       " 1374,\n",
       " 1382,\n",
       " 1391,\n",
       " 1392,\n",
       " 1393,\n",
       " 1397,\n",
       " 1408,\n",
       " 1417,\n",
       " 1442,\n",
       " 1445,\n",
       " 1447,\n",
       " 1448,\n",
       " 1449,\n",
       " 1450,\n",
       " 1451,\n",
       " 1452,\n",
       " 1454,\n",
       " 1468,\n",
       " 1482,\n",
       " 1483,\n",
       " 1486,\n",
       " 1492,\n",
       " 1498,\n",
       " 1503,\n",
       " 1508,\n",
       " 1517,\n",
       " 1518,\n",
       " 1528,\n",
       " 1532,\n",
       " 1545,\n",
       " 1548,\n",
       " 1551,\n",
       " 1554,\n",
       " 1555,\n",
       " 1562,\n",
       " 1573,\n",
       " 1574,\n",
       " 1577,\n",
       " 1578,\n",
       " 1579,\n",
       " 1584,\n",
       " 1586,\n",
       " 1593,\n",
       " 1597,\n",
       " 1603,\n",
       " 1604,\n",
       " 1617,\n",
       " 1623,\n",
       " 1632,\n",
       " 1633,\n",
       " 1634,\n",
       " 1644,\n",
       " 1645,\n",
       " 1651,\n",
       " 1657,\n",
       " 1661,\n",
       " 1663,\n",
       " 1664,\n",
       " 1668,\n",
       " 1674,\n",
       " 1684,\n",
       " 1688,\n",
       " 1693,\n",
       " 1696,\n",
       " 1707,\n",
       " 1724,\n",
       " 1733,\n",
       " 1735,\n",
       " 1736,\n",
       " 1743,\n",
       " 1748,\n",
       " 1749,\n",
       " 1755,\n",
       " 1773,\n",
       " 1775,\n",
       " 1787,\n",
       " 1788,\n",
       " 1791,\n",
       " 1793,\n",
       " 1798,\n",
       " 1799,\n",
       " 1802,\n",
       " 1808,\n",
       " 1822,\n",
       " 1824,\n",
       " 1835,\n",
       " 1837,\n",
       " 1858,\n",
       " 1869,\n",
       " 1880,\n",
       " 1882,\n",
       " 1889,\n",
       " 1890,\n",
       " 1895,\n",
       " 1905,\n",
       " 1906,\n",
       " 1909,\n",
       " 1910,\n",
       " 1920,\n",
       " 1923,\n",
       " 1926,\n",
       " 1930,\n",
       " 1931,\n",
       " 1932,\n",
       " 1937,\n",
       " 1941,\n",
       " 1949,\n",
       " 1950,\n",
       " 1966,\n",
       " 1973,\n",
       " 1977,\n",
       " 1980,\n",
       " 1984,\n",
       " 1989,\n",
       " 1993,\n",
       " 2001,\n",
       " 2005,\n",
       " 2006,\n",
       " 2012,\n",
       " 2014,\n",
       " 2023,\n",
       " 2035,\n",
       " 2037,\n",
       " 2040,\n",
       " 2041,\n",
       " 2044,\n",
       " 2047,\n",
       " 2048,\n",
       " 2062,\n",
       " 2063,\n",
       " 2088,\n",
       " 2092,\n",
       " 2100,\n",
       " 2109,\n",
       " 2114]"
      ]
     },
     "execution_count": 17,
     "metadata": {},
     "output_type": "execute_result"
    }
   ],
   "source": [
    "index_list"
   ]
  },
  {
   "cell_type": "code",
   "execution_count": 18,
   "id": "a33f21c2",
   "metadata": {},
   "outputs": [],
   "source": [
    "def remove(salesdf2,ls):\n",
    "    ls = sorted(set(ls))\n",
    "    salesdf2 = salesdf2.drop(ls)\n",
    "    return salesdf2"
   ]
  },
  {
   "cell_type": "code",
   "execution_count": 19,
   "id": "13d7c03d",
   "metadata": {},
   "outputs": [
    {
     "data": {
      "text/html": [
       "<div>\n",
       "<style scoped>\n",
       "    .dataframe tbody tr th:only-of-type {\n",
       "        vertical-align: middle;\n",
       "    }\n",
       "\n",
       "    .dataframe tbody tr th {\n",
       "        vertical-align: top;\n",
       "    }\n",
       "\n",
       "    .dataframe thead th {\n",
       "        text-align: right;\n",
       "    }\n",
       "</style>\n",
       "<table border=\"1\" class=\"dataframe\">\n",
       "  <thead>\n",
       "    <tr style=\"text-align: right;\">\n",
       "      <th></th>\n",
       "      <th>count</th>\n",
       "      <th>mean</th>\n",
       "      <th>min</th>\n",
       "      <th>25%</th>\n",
       "      <th>50%</th>\n",
       "      <th>75%</th>\n",
       "      <th>max</th>\n",
       "      <th>std</th>\n",
       "    </tr>\n",
       "  </thead>\n",
       "  <tbody>\n",
       "    <tr>\n",
       "      <th>Order Date</th>\n",
       "      <td>1681</td>\n",
       "      <td>2016-05-05 02:38:28.625817856</td>\n",
       "      <td>2014-01-07 00:00:00</td>\n",
       "      <td>2015-05-31 00:00:00</td>\n",
       "      <td>2016-07-02 00:00:00</td>\n",
       "      <td>2017-05-19 00:00:00</td>\n",
       "      <td>2017-12-30 00:00:00</td>\n",
       "      <td>NaN</td>\n",
       "    </tr>\n",
       "    <tr>\n",
       "      <th>Postal Code</th>\n",
       "      <td>1681.0</td>\n",
       "      <td>56384.760857</td>\n",
       "      <td>1040.0</td>\n",
       "      <td>23223.0</td>\n",
       "      <td>60610.0</td>\n",
       "      <td>90036.0</td>\n",
       "      <td>99207.0</td>\n",
       "      <td>32538.553231</td>\n",
       "    </tr>\n",
       "    <tr>\n",
       "      <th>Sales</th>\n",
       "      <td>1681.0</td>\n",
       "      <td>186.334759</td>\n",
       "      <td>1.892</td>\n",
       "      <td>34.504</td>\n",
       "      <td>113.888</td>\n",
       "      <td>272.94</td>\n",
       "      <td>1013.832</td>\n",
       "      <td>200.192823</td>\n",
       "    </tr>\n",
       "    <tr>\n",
       "      <th>Quantity</th>\n",
       "      <td>1681.0</td>\n",
       "      <td>3.368233</td>\n",
       "      <td>1.0</td>\n",
       "      <td>2.0</td>\n",
       "      <td>3.0</td>\n",
       "      <td>4.0</td>\n",
       "      <td>14.0</td>\n",
       "      <td>1.96836</td>\n",
       "    </tr>\n",
       "    <tr>\n",
       "      <th>Discount</th>\n",
       "      <td>1681.0</td>\n",
       "      <td>0.158953</td>\n",
       "      <td>0.0</td>\n",
       "      <td>0.0</td>\n",
       "      <td>0.2</td>\n",
       "      <td>0.2</td>\n",
       "      <td>0.6</td>\n",
       "      <td>0.169661</td>\n",
       "    </tr>\n",
       "    <tr>\n",
       "      <th>Profit</th>\n",
       "      <td>1681.0</td>\n",
       "      <td>10.075124</td>\n",
       "      <td>-81.94</td>\n",
       "      <td>-5.4548</td>\n",
       "      <td>7.8176</td>\n",
       "      <td>23.9904</td>\n",
       "      <td>102.9528</td>\n",
       "      <td>32.585664</td>\n",
       "    </tr>\n",
       "  </tbody>\n",
       "</table>\n",
       "</div>"
      ],
      "text/plain": [
       "              count                           mean                  min  \\\n",
       "Order Date     1681  2016-05-05 02:38:28.625817856  2014-01-07 00:00:00   \n",
       "Postal Code  1681.0                   56384.760857               1040.0   \n",
       "Sales        1681.0                     186.334759                1.892   \n",
       "Quantity     1681.0                       3.368233                  1.0   \n",
       "Discount     1681.0                       0.158953                  0.0   \n",
       "Profit       1681.0                      10.075124               -81.94   \n",
       "\n",
       "                             25%                  50%                  75%  \\\n",
       "Order Date   2015-05-31 00:00:00  2016-07-02 00:00:00  2017-05-19 00:00:00   \n",
       "Postal Code              23223.0              60610.0              90036.0   \n",
       "Sales                     34.504              113.888               272.94   \n",
       "Quantity                     2.0                  3.0                  4.0   \n",
       "Discount                     0.0                  0.2                  0.2   \n",
       "Profit                   -5.4548               7.8176              23.9904   \n",
       "\n",
       "                             max           std  \n",
       "Order Date   2017-12-30 00:00:00           NaN  \n",
       "Postal Code              99207.0  32538.553231  \n",
       "Sales                   1013.832    200.192823  \n",
       "Quantity                    14.0       1.96836  \n",
       "Discount                     0.6      0.169661  \n",
       "Profit                  102.9528     32.585664  "
      ]
     },
     "execution_count": 19,
     "metadata": {},
     "output_type": "execute_result"
    }
   ],
   "source": [
    "salesdf2 = remove(salesdf2, index_list)\n",
    "salesdf2.describe().T"
   ]
  },
  {
   "cell_type": "code",
   "execution_count": 20,
   "id": "88f27e8d",
   "metadata": {},
   "outputs": [
    {
     "data": {
      "image/png": "[encoded data removed]",
      "text/plain": [
       "<Figure size 3000x1500 with 1 Axes>"
      ]
     },
     "metadata": {},
     "output_type": "display_data"
    }
   ],
   "source": [
    "#Melihat data outlier\n",
    "salesdf2[cols].boxplot(figsize=(30,15), fontsize=15)\n",
    "plt.title(\"Check outlier\" , fontsize=30)\n",
    "plt.show()"
   ]
  },
  {
   "cell_type": "markdown",
   "id": "eb325a0a",
   "metadata": {},
   "source": [
    "## EDA"
   ]
  },
  {
   "cell_type": "code",
   "execution_count": 21,
   "id": "bfbdfe7a",
   "metadata": {},
   "outputs": [
    {
     "name": "stdout",
     "output_type": "stream",
     "text": [
      "Mean : 186.33475871505058 \n",
      "Median : 113.888 \n",
      "Mode : 6.16\n"
     ]
    }
   ],
   "source": [
    "from scipy import stats\n",
    "import statistics\n",
    "\n",
    "mean = np.mean(salesdf2['Sales'])\n",
    "median = np.median(salesdf2['Sales'])\n",
    "mode = statistics.mode(salesdf2['Sales'])\n",
    "\n",
    "print('Mean :',mean,'\\nMedian :',median, '\\nMode :', mode)"
   ]
  },
  {
   "cell_type": "code",
   "execution_count": 22,
   "id": "020d5d84",
   "metadata": {},
   "outputs": [
    {
     "data": {
      "text/plain": [
       "Index(['Order ID', 'Order Date', 'Ship Date', 'Ship Mode', 'Customer ID',\n",
       "       'Customer Name', 'Segment', 'Country', 'City', 'State', 'Postal Code',\n",
       "       'Region', 'Product ID', 'Category', 'Sub-Category', 'Product Name',\n",
       "       'Sales', 'Quantity', 'Discount', 'Profit'],\n",
       "      dtype='object')"
      ]
     },
     "execution_count": 22,
     "metadata": {},
     "output_type": "execute_result"
    }
   ],
   "source": [
    "cols"
   ]
  },
  {
   "cell_type": "code",
   "execution_count": 23,
   "id": "24170840",
   "metadata": {},
   "outputs": [
    {
     "data": {
      "text/plain": [
       "Ship Mode\n",
       "Standard Class    852\n",
       "Second Class      287\n",
       "First Class       231\n",
       "Same Day           78\n",
       "Name: Order ID, dtype: int64"
      ]
     },
     "execution_count": 23,
     "metadata": {},
     "output_type": "execute_result"
    }
   ],
   "source": [
    "shipmode = salesdf2.groupby('Ship Mode', as_index=True)['Order ID'].nunique()\n",
    "shipmode.sort_values(ascending=False)"
   ]
  },
  {
   "cell_type": "code",
   "execution_count": 24,
   "id": "2ffafcd4",
   "metadata": {},
   "outputs": [
    {
     "data": {
      "text/html": [
       "<div>\n",
       "<style scoped>\n",
       "    .dataframe tbody tr th:only-of-type {\n",
       "        vertical-align: middle;\n",
       "    }\n",
       "\n",
       "    .dataframe tbody tr th {\n",
       "        vertical-align: top;\n",
       "    }\n",
       "\n",
       "    .dataframe thead th {\n",
       "        text-align: right;\n",
       "    }\n",
       "</style>\n",
       "<table border=\"1\" class=\"dataframe\">\n",
       "  <thead>\n",
       "    <tr style=\"text-align: right;\">\n",
       "      <th></th>\n",
       "      <th>Sub-Category</th>\n",
       "      <th>Quantity</th>\n",
       "      <th>Order ID</th>\n",
       "    </tr>\n",
       "  </thead>\n",
       "  <tbody>\n",
       "    <tr>\n",
       "      <th>2</th>\n",
       "      <td>Furnishings</td>\n",
       "      <td>3261</td>\n",
       "      <td>838</td>\n",
       "    </tr>\n",
       "    <tr>\n",
       "      <th>1</th>\n",
       "      <td>Chairs</td>\n",
       "      <td>1520</td>\n",
       "      <td>439</td>\n",
       "    </tr>\n",
       "    <tr>\n",
       "      <th>0</th>\n",
       "      <td>Bookcases</td>\n",
       "      <td>487</td>\n",
       "      <td>159</td>\n",
       "    </tr>\n",
       "    <tr>\n",
       "      <th>3</th>\n",
       "      <td>Tables</td>\n",
       "      <td>394</td>\n",
       "      <td>143</td>\n",
       "    </tr>\n",
       "  </tbody>\n",
       "</table>\n",
       "</div>"
      ],
      "text/plain": [
       "  Sub-Category  Quantity  Order ID\n",
       "2  Furnishings      3261       838\n",
       "1       Chairs      1520       439\n",
       "0    Bookcases       487       159\n",
       "3       Tables       394       143"
      ]
     },
     "execution_count": 24,
     "metadata": {},
     "output_type": "execute_result"
    }
   ],
   "source": [
    "subpurchases = salesdf2.groupby('Sub-Category', as_index=False).agg({'Quantity' : 'sum', 'Order ID' : 'nunique'})\n",
    "subpurchases=subpurchases.sort_values('Quantity', ascending=False)\n",
    "subpurchases"
   ]
  },
  {
   "cell_type": "code",
   "execution_count": 25,
   "id": "b160af39",
   "metadata": {},
   "outputs": [
    {
     "data": {
      "text/html": [
       "<div>\n",
       "<style scoped>\n",
       "    .dataframe tbody tr th:only-of-type {\n",
       "        vertical-align: middle;\n",
       "    }\n",
       "\n",
       "    .dataframe tbody tr th {\n",
       "        vertical-align: top;\n",
       "    }\n",
       "\n",
       "    .dataframe thead th {\n",
       "        text-align: right;\n",
       "    }\n",
       "</style>\n",
       "<table border=\"1\" class=\"dataframe\">\n",
       "  <thead>\n",
       "    <tr style=\"text-align: right;\">\n",
       "      <th></th>\n",
       "      <th>Sub-Category</th>\n",
       "      <th>Sales</th>\n",
       "      <th>Order ID</th>\n",
       "    </tr>\n",
       "  </thead>\n",
       "  <tbody>\n",
       "    <tr>\n",
       "      <th>1</th>\n",
       "      <td>Chairs</td>\n",
       "      <td>150114.0000</td>\n",
       "      <td>439</td>\n",
       "    </tr>\n",
       "    <tr>\n",
       "      <th>2</th>\n",
       "      <td>Furnishings</td>\n",
       "      <td>69577.6100</td>\n",
       "      <td>838</td>\n",
       "    </tr>\n",
       "    <tr>\n",
       "      <th>0</th>\n",
       "      <td>Bookcases</td>\n",
       "      <td>48593.9759</td>\n",
       "      <td>159</td>\n",
       "    </tr>\n",
       "    <tr>\n",
       "      <th>3</th>\n",
       "      <td>Tables</td>\n",
       "      <td>44943.1435</td>\n",
       "      <td>143</td>\n",
       "    </tr>\n",
       "  </tbody>\n",
       "</table>\n",
       "</div>"
      ],
      "text/plain": [
       "  Sub-Category        Sales  Order ID\n",
       "1       Chairs  150114.0000       439\n",
       "2  Furnishings   69577.6100       838\n",
       "0    Bookcases   48593.9759       159\n",
       "3       Tables   44943.1435       143"
      ]
     },
     "execution_count": 25,
     "metadata": {},
     "output_type": "execute_result"
    }
   ],
   "source": [
    "subsales = salesdf2.groupby('Sub-Category', as_index=False).agg({'Sales' : 'sum', 'Order ID' : 'nunique'})\n",
    "subsales=subsales.sort_values('Sales', ascending=False)\n",
    "subsales\n",
    "\n",
    "#agg_payment = sauce_replaced.groupby('Payment', as_index=False).agg({'Revenue' : 'sum', 'Invoice ID' : 'nunique'})\n",
    "#agg_payment.head()"
   ]
  },
  {
   "cell_type": "code",
   "execution_count": 26,
   "id": "7572e6d8",
   "metadata": {},
   "outputs": [
    {
     "data": {
      "application/vnd.plotly.v1+json": {
       "config": {
        "plotlyServerURL": "https://plot.ly"
       },
       "data": [
        {
         "alignmentgroup": "True",
         "hovertemplate": "Sub-Category=%{x}<br>Sales=%{y}<extra></extra>",
         "legendgroup": "",
         "marker": {
          "color": "#636efa",
          "pattern": {
           "shape": ""
          }
         },
         "name": "",
         "offsetgroup": "",
         "orientation": "v",
         "showlegend": false,
         "textposition": "auto",
         "type": "bar",
         "x": [
          "Chairs",
          "Furnishings",
          "Bookcases",
          "Tables"
         ],
         "xaxis": "x",
         "y": [
          150114,
          69577.61,
          48593.9759,
          44943.1435
         ],
         "yaxis": "y"
        }
       ],
       "layout": {
        "barmode": "relative",
        "legend": {
         "tracegroupgap": 0
        },
        "margin": {
         "t": 60
        },
        "template": {
         "data": {
          "bar": [
           {
            "error_x": {
             "color": "#2a3f5f"
            },
            "error_y": {
             "color": "#2a3f5f"
            },
            "marker": {
             "line": {
              "color": "#E5ECF6",
              "width": 0.5
             },
             "pattern": {
              "fillmode": "overlay",
              "size": 10,
              "solidity": 0.2
             }
            },
            "type": "bar"
           }
          ],
          "barpolar": [
           {
            "marker": {
             "line": {
              "color": "#E5ECF6",
              "width": 0.5
             },
             "pattern": {
              "fillmode": "overlay",
              "size": 10,
              "solidity": 0.2
             }
            },
            "type": "barpolar"
           }
          ],
          "carpet": [
           {
            "aaxis": {
             "endlinecolor": "#2a3f5f",
             "gridcolor": "white",
             "linecolor": "white",
             "minorgridcolor": "white",
             "startlinecolor": "#2a3f5f"
            },
            "baxis": {
             "endlinecolor": "#2a3f5f",
             "gridcolor": "white",
             "linecolor": "white",
             "minorgridcolor": "white",
             "startlinecolor": "#2a3f5f"
            },
            "type": "carpet"
           }
          ],
          "choropleth": [
           {
            "colorbar": {
             "outlinewidth": 0,
             "ticks": ""
            },
            "type": "choropleth"
           }
          ],
          "contour": [
           {
            "colorbar": {
             "outlinewidth": 0,
             "ticks": ""
            },
            "colorscale": [
             [
              0,
              "#0d0887"
             ],
             [
              0.1111111111111111,
              "#46039f"
             ],
             [
              0.2222222222222222,
              "#7201a8"
             ],
             [
              0.3333333333333333,
              "#9c179e"
             ],
             [
              0.4444444444444444,
              "#bd3786"
             ],
             [
              0.5555555555555556,
              "#d8576b"
             ],
             [
              0.6666666666666666,
              "#ed7953"
             ],
             [
              0.7777777777777778,
              "#fb9f3a"
             ],
             [
              0.8888888888888888,
              "#fdca26"
             ],
             [
              1,
              "#f0f921"
             ]
            ],
            "type": "contour"
           }
          ],
          "contourcarpet": [
           {
            "colorbar": {
             "outlinewidth": 0,
             "ticks": ""
            },
            "type": "contourcarpet"
           }
          ],
          "heatmap": [
           {
            "colorbar": {
             "outlinewidth": 0,
             "ticks": ""
            },
            "colorscale": [
             [
              0,
              "#0d0887"
             ],
             [
              0.1111111111111111,
              "#46039f"
             ],
             [
              0.2222222222222222,
              "#7201a8"
             ],
             [
              0.3333333333333333,
              "#9c179e"
             ],
             [
              0.4444444444444444,
              "#bd3786"
             ],
             [
              0.5555555555555556,
              "#d8576b"
             ],
             [
              0.6666666666666666,
              "#ed7953"
             ],
             [
              0.7777777777777778,
              "#fb9f3a"
             ],
             [
              0.8888888888888888,
              "#fdca26"
             ],
             [
              1,
              "#f0f921"
             ]
            ],
            "type": "heatmap"
           }
          ],
          "heatmapgl": [
           {
            "colorbar": {
             "outlinewidth": 0,
             "ticks": ""
            },
            "colorscale": [
             [
              0,
              "#0d0887"
             ],
             [
              0.1111111111111111,
              "#46039f"
             ],
             [
              0.2222222222222222,
              "#7201a8"
             ],
             [
              0.3333333333333333,
              "#9c179e"
             ],
             [
              0.4444444444444444,
              "#bd3786"
             ],
             [
              0.5555555555555556,
              "#d8576b"
             ],
             [
              0.6666666666666666,
              "#ed7953"
             ],
             [
              0.7777777777777778,
              "#fb9f3a"
             ],
             [
              0.8888888888888888,
              "#fdca26"
             ],
             [
              1,
              "#f0f921"
             ]
            ],
            "type": "heatmapgl"
           }
          ],
          "histogram": [
           {
            "marker": {
             "pattern": {
              "fillmode": "overlay",
              "size": 10,
              "solidity": 0.2
             }
            },
            "type": "histogram"
           }
          ],
          "histogram2d": [
           {
            "colorbar": {
             "outlinewidth": 0,
             "ticks": ""
            },
            "colorscale": [
             [
              0,
              "#0d0887"
             ],
             [
              0.1111111111111111,
              "#46039f"
             ],
             [
              0.2222222222222222,
              "#7201a8"
             ],
             [
              0.3333333333333333,
              "#9c179e"
             ],
             [
              0.4444444444444444,
              "#bd3786"
             ],
             [
              0.5555555555555556,
              "#d8576b"
             ],
             [
              0.6666666666666666,
              "#ed7953"
             ],
             [
              0.7777777777777778,
              "#fb9f3a"
             ],
             [
              0.8888888888888888,
              "#fdca26"
             ],
             [
              1,
              "#f0f921"
             ]
            ],
            "type": "histogram2d"
           }
          ],
          "histogram2dcontour": [
           {
            "colorbar": {
             "outlinewidth": 0,
             "ticks": ""
            },
            "colorscale": [
             [
              0,
              "#0d0887"
             ],
             [
              0.1111111111111111,
              "#46039f"
             ],
             [
              0.2222222222222222,
              "#7201a8"
             ],
             [
              0.3333333333333333,
              "#9c179e"
             ],
             [
              0.4444444444444444,
              "#bd3786"
             ],
             [
              0.5555555555555556,
              "#d8576b"
             ],
             [
              0.6666666666666666,
              "#ed7953"
             ],
             [
              0.7777777777777778,
              "#fb9f3a"
             ],
             [
              0.8888888888888888,
              "#fdca26"
             ],
             [
              1,
              "#f0f921"
             ]
            ],
            "type": "histogram2dcontour"
           }
          ],
          "mesh3d": [
           {
            "colorbar": {
             "outlinewidth": 0,
             "ticks": ""
            },
            "type": "mesh3d"
           }
          ],
          "parcoords": [
           {
            "line": {
             "colorbar": {
              "outlinewidth": 0,
              "ticks": ""
             }
            },
            "type": "parcoords"
           }
          ],
          "pie": [
           {
            "automargin": true,
            "type": "pie"
           }
          ],
          "scatter": [
           {
            "fillpattern": {
             "fillmode": "overlay",
             "size": 10,
             "solidity": 0.2
            },
            "type": "scatter"
           }
          ],
          "scatter3d": [
           {
            "line": {
             "colorbar": {
              "outlinewidth": 0,
              "ticks": ""
             }
            },
            "marker": {
             "colorbar": {
              "outlinewidth": 0,
              "ticks": ""
             }
            },
            "type": "scatter3d"
           }
          ],
          "scattercarpet": [
           {
            "marker": {
             "colorbar": {
              "outlinewidth": 0,
              "ticks": ""
             }
            },
            "type": "scattercarpet"
           }
          ],
          "scattergeo": [
           {
            "marker": {
             "colorbar": {
              "outlinewidth": 0,
              "ticks": ""
             }
            },
            "type": "scattergeo"
           }
          ],
          "scattergl": [
           {
            "marker": {
             "colorbar": {
              "outlinewidth": 0,
              "ticks": ""
             }
            },
            "type": "scattergl"
           }
          ],
          "scattermapbox": [
           {
            "marker": {
             "colorbar": {
              "outlinewidth": 0,
              "ticks": ""
             }
            },
            "type": "scattermapbox"
           }
          ],
          "scatterpolar": [
           {
            "marker": {
             "colorbar": {
              "outlinewidth": 0,
              "ticks": ""
             }
            },
            "type": "scatterpolar"
           }
          ],
          "scatterpolargl": [
           {
            "marker": {
             "colorbar": {
              "outlinewidth": 0,
              "ticks": ""
             }
            },
            "type": "scatterpolargl"
           }
          ],
          "scatterternary": [
           {
            "marker": {
             "colorbar": {
              "outlinewidth": 0,
              "ticks": ""
             }
            },
            "type": "scatterternary"
           }
          ],
          "surface": [
           {
            "colorbar": {
             "outlinewidth": 0,
             "ticks": ""
            },
            "colorscale": [
             [
              0,
              "#0d0887"
             ],
             [
              0.1111111111111111,
              "#46039f"
             ],
             [
              0.2222222222222222,
              "#7201a8"
             ],
             [
              0.3333333333333333,
              "#9c179e"
             ],
             [
              0.4444444444444444,
              "#bd3786"
             ],
             [
              0.5555555555555556,
              "#d8576b"
             ],
             [
              0.6666666666666666,
              "#ed7953"
             ],
             [
              0.7777777777777778,
              "#fb9f3a"
             ],
             [
              0.8888888888888888,
              "#fdca26"
             ],
             [
              1,
              "#f0f921"
             ]
            ],
            "type": "surface"
           }
          ],
          "table": [
           {
            "cells": {
             "fill": {
              "color": "#EBF0F8"
             },
             "line": {
              "color": "white"
             }
            },
            "header": {
             "fill": {
              "color": "#C8D4E3"
             },
             "line": {
              "color": "white"
             }
            },
            "type": "table"
           }
          ]
         },
         "layout": {
          "annotationdefaults": {
           "arrowcolor": "#2a3f5f",
           "arrowhead": 0,
           "arrowwidth": 1
          },
          "autotypenumbers": "strict",
          "coloraxis": {
           "colorbar": {
            "outlinewidth": 0,
            "ticks": ""
           }
          },
          "colorscale": {
           "diverging": [
            [
             0,
             "#8e0152"
            ],
            [
             0.1,
             "#c51b7d"
            ],
            [
             0.2,
             "#de77ae"
            ],
            [
             0.3,
             "#f1b6da"
            ],
            [
             0.4,
             "#fde0ef"
            ],
            [
             0.5,
             "#f7f7f7"
            ],
            [
             0.6,
             "#e6f5d0"
            ],
            [
             0.7,
             "#b8e186"
            ],
            [
             0.8,
             "#7fbc41"
            ],
            [
             0.9,
             "#4d9221"
            ],
            [
             1,
             "#276419"
            ]
           ],
           "sequential": [
            [
             0,
             "#0d0887"
            ],
            [
             0.1111111111111111,
             "#46039f"
            ],
            [
             0.2222222222222222,
             "#7201a8"
            ],
            [
             0.3333333333333333,
             "#9c179e"
            ],
            [
             0.4444444444444444,
             "#bd3786"
            ],
            [
             0.5555555555555556,
             "#d8576b"
            ],
            [
             0.6666666666666666,
             "#ed7953"
            ],
            [
             0.7777777777777778,
             "#fb9f3a"
            ],
            [
             0.8888888888888888,
             "#fdca26"
            ],
            [
             1,
             "#f0f921"
            ]
           ],
           "sequentialminus": [
            [
             0,
             "#0d0887"
            ],
            [
             0.1111111111111111,
             "#46039f"
            ],
            [
             0.2222222222222222,
             "#7201a8"
            ],
            [
             0.3333333333333333,
             "#9c179e"
            ],
            [
             0.4444444444444444,
             "#bd3786"
            ],
            [
             0.5555555555555556,
             "#d8576b"
            ],
            [
             0.6666666666666666,
             "#ed7953"
            ],
            [
             0.7777777777777778,
             "#fb9f3a"
            ],
            [
             0.8888888888888888,
             "#fdca26"
            ],
            [
             1,
             "#f0f921"
            ]
           ]
          },
          "colorway": [
           "#636efa",
           "#EF553B",
           "#00cc96",
           "#ab63fa",
           "#FFA15A",
           "#19d3f3",
           "#FF6692",
           "#B6E880",
           "#FF97FF",
           "#FECB52"
          ],
          "font": {
           "color": "#2a3f5f"
          },
          "geo": {
           "bgcolor": "white",
           "lakecolor": "white",
           "landcolor": "#E5ECF6",
           "showlakes": true,
           "showland": true,
           "subunitcolor": "white"
          },
          "hoverlabel": {
           "align": "left"
          },
          "hovermode": "closest",
          "mapbox": {
           "style": "light"
          },
          "paper_bgcolor": "white",
          "plot_bgcolor": "#E5ECF6",
          "polar": {
           "angularaxis": {
            "gridcolor": "white",
            "linecolor": "white",
            "ticks": ""
           },
           "bgcolor": "#E5ECF6",
           "radialaxis": {
            "gridcolor": "white",
            "linecolor": "white",
            "ticks": ""
           }
          },
          "scene": {
           "xaxis": {
            "backgroundcolor": "#E5ECF6",
            "gridcolor": "white",
            "gridwidth": 2,
            "linecolor": "white",
            "showbackground": true,
            "ticks": "",
            "zerolinecolor": "white"
           },
           "yaxis": {
            "backgroundcolor": "#E5ECF6",
            "gridcolor": "white",
            "gridwidth": 2,
            "linecolor": "white",
            "showbackground": true,
            "ticks": "",
            "zerolinecolor": "white"
           },
           "zaxis": {
            "backgroundcolor": "#E5ECF6",
            "gridcolor": "white",
            "gridwidth": 2,
            "linecolor": "white",
            "showbackground": true,
            "ticks": "",
            "zerolinecolor": "white"
           }
          },
          "shapedefaults": {
           "line": {
            "color": "#2a3f5f"
           }
          },
          "ternary": {
           "aaxis": {
            "gridcolor": "white",
            "linecolor": "white",
            "ticks": ""
           },
           "baxis": {
            "gridcolor": "white",
            "linecolor": "white",
            "ticks": ""
           },
           "bgcolor": "#E5ECF6",
           "caxis": {
            "gridcolor": "white",
            "linecolor": "white",
            "ticks": ""
           }
          },
          "title": {
           "x": 0.05
          },
          "xaxis": {
           "automargin": true,
           "gridcolor": "white",
           "linecolor": "white",
           "ticks": "",
           "title": {
            "standoff": 15
           },
           "zerolinecolor": "white",
           "zerolinewidth": 2
          },
          "yaxis": {
           "automargin": true,
           "gridcolor": "white",
           "linecolor": "white",
           "ticks": "",
           "title": {
            "standoff": 15
           },
           "zerolinecolor": "white",
           "zerolinewidth": 2
          }
         }
        },
        "xaxis": {
         "anchor": "y",
         "domain": [
          0,
          1
         ],
         "title": {
          "text": "Sub-Category"
         }
        },
        "yaxis": {
         "anchor": "x",
         "domain": [
          0,
          1
         ],
         "title": {
          "text": "Sales"
         }
        }
       }
      }
     },
     "metadata": {},
     "output_type": "display_data"
    }
   ],
   "source": [
    "import plotly.express as px\n",
    "\n",
    "fig = px.bar(subsales, x='Sub-Category', y='Sales')\n",
    "fig.show()"
   ]
  },
  {
   "cell_type": "code",
   "execution_count": 27,
   "id": "13a60f39",
   "metadata": {},
   "outputs": [
    {
     "data": {
      "text/html": [
       "<div>\n",
       "<style scoped>\n",
       "    .dataframe tbody tr th:only-of-type {\n",
       "        vertical-align: middle;\n",
       "    }\n",
       "\n",
       "    .dataframe tbody tr th {\n",
       "        vertical-align: top;\n",
       "    }\n",
       "\n",
       "    .dataframe thead th {\n",
       "        text-align: right;\n",
       "    }\n",
       "</style>\n",
       "<table border=\"1\" class=\"dataframe\">\n",
       "  <thead>\n",
       "    <tr style=\"text-align: right;\">\n",
       "      <th></th>\n",
       "      <th>Sub-Category</th>\n",
       "      <th>Profit</th>\n",
       "      <th>Order ID</th>\n",
       "    </tr>\n",
       "  </thead>\n",
       "  <tbody>\n",
       "    <tr>\n",
       "      <th>2</th>\n",
       "      <td>Furnishings</td>\n",
       "      <td>11568.0608</td>\n",
       "      <td>838</td>\n",
       "    </tr>\n",
       "    <tr>\n",
       "      <th>1</th>\n",
       "      <td>Chairs</td>\n",
       "      <td>4992.2327</td>\n",
       "      <td>439</td>\n",
       "    </tr>\n",
       "    <tr>\n",
       "      <th>0</th>\n",
       "      <td>Bookcases</td>\n",
       "      <td>1125.5509</td>\n",
       "      <td>159</td>\n",
       "    </tr>\n",
       "    <tr>\n",
       "      <th>3</th>\n",
       "      <td>Tables</td>\n",
       "      <td>-749.5611</td>\n",
       "      <td>143</td>\n",
       "    </tr>\n",
       "  </tbody>\n",
       "</table>\n",
       "</div>"
      ],
      "text/plain": [
       "  Sub-Category      Profit  Order ID\n",
       "2  Furnishings  11568.0608       838\n",
       "1       Chairs   4992.2327       439\n",
       "0    Bookcases   1125.5509       159\n",
       "3       Tables   -749.5611       143"
      ]
     },
     "execution_count": 27,
     "metadata": {},
     "output_type": "execute_result"
    }
   ],
   "source": [
    "subprofit = salesdf2.groupby('Sub-Category', as_index=False).agg({'Profit' : 'sum', 'Order ID' : 'nunique'})\n",
    "subprofit=subprofit.sort_values('Profit', ascending=False)\n",
    "subprofit"
   ]
  },
  {
   "cell_type": "code",
   "execution_count": 28,
   "id": "62c231c9",
   "metadata": {},
   "outputs": [
    {
     "data": {
      "application/vnd.plotly.v1+json": {
       "config": {
        "plotlyServerURL": "https://plot.ly"
       },
       "data": [
        {
         "alignmentgroup": "True",
         "hovertemplate": "Sub-Category=%{x}<br>Profit=%{y}<extra></extra>",
         "legendgroup": "",
         "marker": {
          "color": "#636efa",
          "pattern": {
           "shape": ""
          }
         },
         "name": "",
         "offsetgroup": "",
         "orientation": "v",
         "showlegend": false,
         "textposition": "auto",
         "type": "bar",
         "x": [
          "Furnishings",
          "Chairs",
          "Bookcases",
          "Tables"
         ],
         "xaxis": "x",
         "y": [
          11568.0608,
          4992.2327000000005,
          1125.5509,
          -749.5611
         ],
         "yaxis": "y"
        }
       ],
       "layout": {
        "barmode": "relative",
        "legend": {
         "tracegroupgap": 0
        },
        "margin": {
         "t": 60
        },
        "template": {
         "data": {
          "bar": [
           {
            "error_x": {
             "color": "#2a3f5f"
            },
            "error_y": {
             "color": "#2a3f5f"
            },
            "marker": {
             "line": {
              "color": "#E5ECF6",
              "width": 0.5
             },
             "pattern": {
              "fillmode": "overlay",
              "size": 10,
              "solidity": 0.2
             }
            },
            "type": "bar"
           }
          ],
          "barpolar": [
           {
            "marker": {
             "line": {
              "color": "#E5ECF6",
              "width": 0.5
             },
             "pattern": {
              "fillmode": "overlay",
              "size": 10,
              "solidity": 0.2
             }
            },
            "type": "barpolar"
           }
          ],
          "carpet": [
           {
            "aaxis": {
             "endlinecolor": "#2a3f5f",
             "gridcolor": "white",
             "linecolor": "white",
             "minorgridcolor": "white",
             "startlinecolor": "#2a3f5f"
            },
            "baxis": {
             "endlinecolor": "#2a3f5f",
             "gridcolor": "white",
             "linecolor": "white",
             "minorgridcolor": "white",
             "startlinecolor": "#2a3f5f"
            },
            "type": "carpet"
           }
          ],
          "choropleth": [
           {
            "colorbar": {
             "outlinewidth": 0,
             "ticks": ""
            },
            "type": "choropleth"
           }
          ],
          "contour": [
           {
            "colorbar": {
             "outlinewidth": 0,
             "ticks": ""
            },
            "colorscale": [
             [
              0,
              "#0d0887"
             ],
             [
              0.1111111111111111,
              "#46039f"
             ],
             [
              0.2222222222222222,
              "#7201a8"
             ],
             [
              0.3333333333333333,
              "#9c179e"
             ],
             [
              0.4444444444444444,
              "#bd3786"
             ],
             [
              0.5555555555555556,
              "#d8576b"
             ],
             [
              0.6666666666666666,
              "#ed7953"
             ],
             [
              0.7777777777777778,
              "#fb9f3a"
             ],
             [
              0.8888888888888888,
              "#fdca26"
             ],
             [
              1,
              "#f0f921"
             ]
            ],
            "type": "contour"
           }
          ],
          "contourcarpet": [
           {
            "colorbar": {
             "outlinewidth": 0,
             "ticks": ""
            },
            "type": "contourcarpet"
           }
          ],
          "heatmap": [
           {
            "colorbar": {
             "outlinewidth": 0,
             "ticks": ""
            },
            "colorscale": [
             [
              0,
              "#0d0887"
             ],
             [
              0.1111111111111111,
              "#46039f"
             ],
             [
              0.2222222222222222,
              "#7201a8"
             ],
             [
              0.3333333333333333,
              "#9c179e"
             ],
             [
              0.4444444444444444,
              "#bd3786"
             ],
             [
              0.5555555555555556,
              "#d8576b"
             ],
             [
              0.6666666666666666,
              "#ed7953"
             ],
             [
              0.7777777777777778,
              "#fb9f3a"
             ],
             [
              0.8888888888888888,
              "#fdca26"
             ],
             [
              1,
              "#f0f921"
             ]
            ],
            "type": "heatmap"
           }
          ],
          "heatmapgl": [
           {
            "colorbar": {
             "outlinewidth": 0,
             "ticks": ""
            },
            "colorscale": [
             [
              0,
              "#0d0887"
             ],
             [
              0.1111111111111111,
              "#46039f"
             ],
             [
              0.2222222222222222,
              "#7201a8"
             ],
             [
              0.3333333333333333,
              "#9c179e"
             ],
             [
              0.4444444444444444,
              "#bd3786"
             ],
             [
              0.5555555555555556,
              "#d8576b"
             ],
             [
              0.6666666666666666,
              "#ed7953"
             ],
             [
              0.7777777777777778,
              "#fb9f3a"
             ],
             [
              0.8888888888888888,
              "#fdca26"
             ],
             [
              1,
              "#f0f921"
             ]
            ],
            "type": "heatmapgl"
           }
          ],
          "histogram": [
           {
            "marker": {
             "pattern": {
              "fillmode": "overlay",
              "size": 10,
              "solidity": 0.2
             }
            },
            "type": "histogram"
           }
          ],
          "histogram2d": [
           {
            "colorbar": {
             "outlinewidth": 0,
             "ticks": ""
            },
            "colorscale": [
             [
              0,
              "#0d0887"
             ],
             [
              0.1111111111111111,
              "#46039f"
             ],
             [
              0.2222222222222222,
              "#7201a8"
             ],
             [
              0.3333333333333333,
              "#9c179e"
             ],
             [
              0.4444444444444444,
              "#bd3786"
             ],
             [
              0.5555555555555556,
              "#d8576b"
             ],
             [
              0.6666666666666666,
              "#ed7953"
             ],
             [
              0.7777777777777778,
              "#fb9f3a"
             ],
             [
              0.8888888888888888,
              "#fdca26"
             ],
             [
              1,
              "#f0f921"
             ]
            ],
            "type": "histogram2d"
           }
          ],
          "histogram2dcontour": [
           {
            "colorbar": {
             "outlinewidth": 0,
             "ticks": ""
            },
            "colorscale": [
             [
              0,
              "#0d0887"
             ],
             [
              0.1111111111111111,
              "#46039f"
             ],
             [
              0.2222222222222222,
              "#7201a8"
             ],
             [
              0.3333333333333333,
              "#9c179e"
             ],
             [
              0.4444444444444444,
              "#bd3786"
             ],
             [
              0.5555555555555556,
              "#d8576b"
             ],
             [
              0.6666666666666666,
              "#ed7953"
             ],
             [
              0.7777777777777778,
              "#fb9f3a"
             ],
             [
              0.8888888888888888,
              "#fdca26"
             ],
             [
              1,
              "#f0f921"
             ]
            ],
            "type": "histogram2dcontour"
           }
          ],
          "mesh3d": [
           {
            "colorbar": {
             "outlinewidth": 0,
             "ticks": ""
            },
            "type": "mesh3d"
           }
          ],
          "parcoords": [
           {
            "line": {
             "colorbar": {
              "outlinewidth": 0,
              "ticks": ""
             }
            },
            "type": "parcoords"
           }
          ],
          "pie": [
           {
            "automargin": true,
            "type": "pie"
           }
          ],
          "scatter": [
           {
            "fillpattern": {
             "fillmode": "overlay",
             "size": 10,
             "solidity": 0.2
            },
            "type": "scatter"
           }
          ],
          "scatter3d": [
           {
            "line": {
             "colorbar": {
              "outlinewidth": 0,
              "ticks": ""
             }
            },
            "marker": {
             "colorbar": {
              "outlinewidth": 0,
              "ticks": ""
             }
            },
            "type": "scatter3d"
           }
          ],
          "scattercarpet": [
           {
            "marker": {
             "colorbar": {
              "outlinewidth": 0,
              "ticks": ""
             }
            },
            "type": "scattercarpet"
           }
          ],
          "scattergeo": [
           {
            "marker": {
             "colorbar": {
              "outlinewidth": 0,
              "ticks": ""
             }
            },
            "type": "scattergeo"
           }
          ],
          "scattergl": [
           {
            "marker": {
             "colorbar": {
              "outlinewidth": 0,
              "ticks": ""
             }
            },
            "type": "scattergl"
           }
          ],
          "scattermapbox": [
           {
            "marker": {
             "colorbar": {
              "outlinewidth": 0,
              "ticks": ""
             }
            },
            "type": "scattermapbox"
           }
          ],
          "scatterpolar": [
           {
            "marker": {
             "colorbar": {
              "outlinewidth": 0,
              "ticks": ""
             }
            },
            "type": "scatterpolar"
           }
          ],
          "scatterpolargl": [
           {
            "marker": {
             "colorbar": {
              "outlinewidth": 0,
              "ticks": ""
             }
            },
            "type": "scatterpolargl"
           }
          ],
          "scatterternary": [
           {
            "marker": {
             "colorbar": {
              "outlinewidth": 0,
              "ticks": ""
             }
            },
            "type": "scatterternary"
           }
          ],
          "surface": [
           {
            "colorbar": {
             "outlinewidth": 0,
             "ticks": ""
            },
            "colorscale": [
             [
              0,
              "#0d0887"
             ],
             [
              0.1111111111111111,
              "#46039f"
             ],
             [
              0.2222222222222222,
              "#7201a8"
             ],
             [
              0.3333333333333333,
              "#9c179e"
             ],
             [
              0.4444444444444444,
              "#bd3786"
             ],
             [
              0.5555555555555556,
              "#d8576b"
             ],
             [
              0.6666666666666666,
              "#ed7953"
             ],
             [
              0.7777777777777778,
              "#fb9f3a"
             ],
             [
              0.8888888888888888,
              "#fdca26"
             ],
             [
              1,
              "#f0f921"
             ]
            ],
            "type": "surface"
           }
          ],
          "table": [
           {
            "cells": {
             "fill": {
              "color": "#EBF0F8"
             },
             "line": {
              "color": "white"
             }
            },
            "header": {
             "fill": {
              "color": "#C8D4E3"
             },
             "line": {
              "color": "white"
             }
            },
            "type": "table"
           }
          ]
         },
         "layout": {
          "annotationdefaults": {
           "arrowcolor": "#2a3f5f",
           "arrowhead": 0,
           "arrowwidth": 1
          },
          "autotypenumbers": "strict",
          "coloraxis": {
           "colorbar": {
            "outlinewidth": 0,
            "ticks": ""
           }
          },
          "colorscale": {
           "diverging": [
            [
             0,
             "#8e0152"
            ],
            [
             0.1,
             "#c51b7d"
            ],
            [
             0.2,
             "#de77ae"
            ],
            [
             0.3,
             "#f1b6da"
            ],
            [
             0.4,
             "#fde0ef"
            ],
            [
             0.5,
             "#f7f7f7"
            ],
            [
             0.6,
             "#e6f5d0"
            ],
            [
             0.7,
             "#b8e186"
            ],
            [
             0.8,
             "#7fbc41"
            ],
            [
             0.9,
             "#4d9221"
            ],
            [
             1,
             "#276419"
            ]
           ],
           "sequential": [
            [
             0,
             "#0d0887"
            ],
            [
             0.1111111111111111,
             "#46039f"
            ],
            [
             0.2222222222222222,
             "#7201a8"
            ],
            [
             0.3333333333333333,
             "#9c179e"
            ],
            [
             0.4444444444444444,
             "#bd3786"
            ],
            [
             0.5555555555555556,
             "#d8576b"
            ],
            [
             0.6666666666666666,
             "#ed7953"
            ],
            [
             0.7777777777777778,
             "#fb9f3a"
            ],
            [
             0.8888888888888888,
             "#fdca26"
            ],
            [
             1,
             "#f0f921"
            ]
           ],
           "sequentialminus": [
            [
             0,
             "#0d0887"
            ],
            [
             0.1111111111111111,
             "#46039f"
            ],
            [
             0.2222222222222222,
             "#7201a8"
            ],
            [
             0.3333333333333333,
             "#9c179e"
            ],
            [
             0.4444444444444444,
             "#bd3786"
            ],
            [
             0.5555555555555556,
             "#d8576b"
            ],
            [
             0.6666666666666666,
             "#ed7953"
            ],
            [
             0.7777777777777778,
             "#fb9f3a"
            ],
            [
             0.8888888888888888,
             "#fdca26"
            ],
            [
             1,
             "#f0f921"
            ]
           ]
          },
          "colorway": [
           "#636efa",
           "#EF553B",
           "#00cc96",
           "#ab63fa",
           "#FFA15A",
           "#19d3f3",
           "#FF6692",
           "#B6E880",
           "#FF97FF",
           "#FECB52"
          ],
          "font": {
           "color": "#2a3f5f"
          },
          "geo": {
           "bgcolor": "white",
           "lakecolor": "white",
           "landcolor": "#E5ECF6",
           "showlakes": true,
           "showland": true,
           "subunitcolor": "white"
          },
          "hoverlabel": {
           "align": "left"
          },
          "hovermode": "closest",
          "mapbox": {
           "style": "light"
          },
          "paper_bgcolor": "white",
          "plot_bgcolor": "#E5ECF6",
          "polar": {
           "angularaxis": {
            "gridcolor": "white",
            "linecolor": "white",
            "ticks": ""
           },
           "bgcolor": "#E5ECF6",
           "radialaxis": {
            "gridcolor": "white",
            "linecolor": "white",
            "ticks": ""
           }
          },
          "scene": {
           "xaxis": {
            "backgroundcolor": "#E5ECF6",
            "gridcolor": "white",
            "gridwidth": 2,
            "linecolor": "white",
            "showbackground": true,
            "ticks": "",
            "zerolinecolor": "white"
           },
           "yaxis": {
            "backgroundcolor": "#E5ECF6",
            "gridcolor": "white",
            "gridwidth": 2,
            "linecolor": "white",
            "showbackground": true,
            "ticks": "",
            "zerolinecolor": "white"
           },
           "zaxis": {
            "backgroundcolor": "#E5ECF6",
            "gridcolor": "white",
            "gridwidth": 2,
            "linecolor": "white",
            "showbackground": true,
            "ticks": "",
            "zerolinecolor": "white"
           }
          },
          "shapedefaults": {
           "line": {
            "color": "#2a3f5f"
           }
          },
          "ternary": {
           "aaxis": {
            "gridcolor": "white",
            "linecolor": "white",
            "ticks": ""
           },
           "baxis": {
            "gridcolor": "white",
            "linecolor": "white",
            "ticks": ""
           },
           "bgcolor": "#E5ECF6",
           "caxis": {
            "gridcolor": "white",
            "linecolor": "white",
            "ticks": ""
           }
          },
          "title": {
           "x": 0.05
          },
          "xaxis": {
           "automargin": true,
           "gridcolor": "white",
           "linecolor": "white",
           "ticks": "",
           "title": {
            "standoff": 15
           },
           "zerolinecolor": "white",
           "zerolinewidth": 2
          },
          "yaxis": {
           "automargin": true,
           "gridcolor": "white",
           "linecolor": "white",
           "ticks": "",
           "title": {
            "standoff": 15
           },
           "zerolinecolor": "white",
           "zerolinewidth": 2
          }
         }
        },
        "xaxis": {
         "anchor": "y",
         "domain": [
          0,
          1
         ],
         "title": {
          "text": "Sub-Category"
         }
        },
        "yaxis": {
         "anchor": "x",
         "domain": [
          0,
          1
         ],
         "title": {
          "text": "Profit"
         }
        }
       }
      }
     },
     "metadata": {},
     "output_type": "display_data"
    }
   ],
   "source": [
    "import plotly.express as px\n",
    "\n",
    "fig = px.bar(subprofit, x='Sub-Category', y='Profit')\n",
    "fig.show()"
   ]
  },
  {
   "cell_type": "code",
   "execution_count": 29,
   "id": "253f65b3",
   "metadata": {},
   "outputs": [
    {
     "data": {
      "image/png": "[encoded data removed]",
      "text/plain": [
       "<Figure size 640x480 with 1 Axes>"
      ]
     },
     "metadata": {},
     "output_type": "display_data"
    }
   ],
   "source": [
    "#plt.figure(figsize=(10, 6))\n",
    "plt.bar(shipmode.index, shipmode.values)\n",
    "plt.title('Shipping Mode Sales')\n",
    "plt.xlabel('Ship Mode')\n",
    "plt.ylabel('Sales')\n",
    "plt.grid(True)\n",
    "plt.show()"
   ]
  },
  {
   "cell_type": "code",
   "execution_count": 30,
   "id": "74521888",
   "metadata": {},
   "outputs": [
    {
     "data": {
      "text/html": [
       "<div>\n",
       "<style scoped>\n",
       "    .dataframe tbody tr th:only-of-type {\n",
       "        vertical-align: middle;\n",
       "    }\n",
       "\n",
       "    .dataframe tbody tr th {\n",
       "        vertical-align: top;\n",
       "    }\n",
       "\n",
       "    .dataframe thead th {\n",
       "        text-align: right;\n",
       "    }\n",
       "</style>\n",
       "<table border=\"1\" class=\"dataframe\">\n",
       "  <thead>\n",
       "    <tr style=\"text-align: right;\">\n",
       "      <th></th>\n",
       "      <th>Order Date</th>\n",
       "      <th>Sales</th>\n",
       "      <th>Quantity</th>\n",
       "      <th>Discount</th>\n",
       "      <th>Profit</th>\n",
       "    </tr>\n",
       "  </thead>\n",
       "  <tbody>\n",
       "    <tr>\n",
       "      <th>0</th>\n",
       "      <td>2016-11-08</td>\n",
       "      <td>261.960</td>\n",
       "      <td>2</td>\n",
       "      <td>0.0</td>\n",
       "      <td>41.9136</td>\n",
       "    </tr>\n",
       "    <tr>\n",
       "      <th>3</th>\n",
       "      <td>2014-06-09</td>\n",
       "      <td>48.860</td>\n",
       "      <td>7</td>\n",
       "      <td>0.0</td>\n",
       "      <td>14.1694</td>\n",
       "    </tr>\n",
       "    <tr>\n",
       "      <th>5</th>\n",
       "      <td>2017-07-16</td>\n",
       "      <td>71.372</td>\n",
       "      <td>2</td>\n",
       "      <td>0.3</td>\n",
       "      <td>-1.0196</td>\n",
       "    </tr>\n",
       "  </tbody>\n",
       "</table>\n",
       "</div>"
      ],
      "text/plain": [
       "  Order Date    Sales  Quantity  Discount   Profit\n",
       "0 2016-11-08  261.960         2       0.0  41.9136\n",
       "3 2014-06-09   48.860         7       0.0  14.1694\n",
       "5 2017-07-16   71.372         2       0.3  -1.0196"
      ]
     },
     "execution_count": 30,
     "metadata": {},
     "output_type": "execute_result"
    }
   ],
   "source": [
    "sales = salesdf2.drop(columns=['Order ID', 'Country', 'Ship Date', 'Ship Mode', 'Customer ID', 'Customer Name', 'Segment', 'Country', 'City', \n",
    "                         'Postal Code', 'Product ID', 'Product Name', 'Sub-Category', 'Category', 'Region', 'State'])\n",
    "sales.head(3)"
   ]
  },
  {
   "cell_type": "code",
   "execution_count": 31,
   "id": "5fed5795",
   "metadata": {},
   "outputs": [],
   "source": [
    "sales['Order Date'] = pd.to_datetime(sales['Order Date'])\n",
    "sales.set_index('Order Date', inplace=True)"
   ]
  },
  {
   "cell_type": "code",
   "execution_count": 32,
   "id": "d46d3a5f",
   "metadata": {},
   "outputs": [
    {
     "data": {
      "text/plain": [
       "Order Date\n",
       "2014-01-31     2419.2950\n",
       "2014-02-28      583.4380\n",
       "2014-03-31     4502.2730\n",
       "2014-04-30     3270.5270\n",
       "2014-05-31     3355.9190\n",
       "2014-06-30     5051.7376\n",
       "2014-07-31     5782.1290\n",
       "2014-08-31     2599.0960\n",
       "2014-09-30     8540.2790\n",
       "2014-10-31     4415.4730\n",
       "2014-11-30    12185.4717\n",
       "2014-12-31    12142.7505\n",
       "2015-01-31     1560.6820\n",
       "2015-02-28     1865.5540\n",
       "2015-03-31     4695.9806\n",
       "2015-04-30     4387.4705\n",
       "2015-05-31     3814.6615\n",
       "2015-06-30     3788.2560\n",
       "2015-07-31     8015.9050\n",
       "2015-08-31     4208.5750\n",
       "2015-09-30     6640.5930\n",
       "2015-10-31     7518.8100\n",
       "2015-11-30    11981.4370\n",
       "2015-12-31     9080.1012\n",
       "2016-01-31     3524.1910\n",
       "2016-02-29     3059.1510\n",
       "2016-03-31     6194.8410\n",
       "2016-04-30     4783.0860\n",
       "2016-05-31     4351.8970\n",
       "2016-06-30     5676.1150\n",
       "2016-07-31     8551.6540\n",
       "2016-08-31     4803.9958\n",
       "2016-09-30    13206.3645\n",
       "2016-10-31     7474.7210\n",
       "2016-11-30    10262.9750\n",
       "2016-12-31    10195.7240\n",
       "2017-01-31     4434.7520\n",
       "2017-02-28     4579.3614\n",
       "2017-03-31     5604.2648\n",
       "2017-04-30     6254.3136\n",
       "2017-05-31     6905.1994\n",
       "2017-06-30     8179.4185\n",
       "2017-07-31     7454.3710\n",
       "2017-08-31     5307.7140\n",
       "2017-09-30     9740.9020\n",
       "2017-10-31    11474.2400\n",
       "2017-11-30    14143.7900\n",
       "2017-12-31    14659.2728\n",
       "Freq: M, Name: Sales, dtype: float64"
      ]
     },
     "execution_count": 32,
     "metadata": {},
     "output_type": "execute_result"
    }
   ],
   "source": [
    "monthly_sales = sales['Sales'].resample('M').sum()\n",
    "monthly_sales"
   ]
  },
  {
   "cell_type": "code",
   "execution_count": 33,
   "id": "90e3e50b",
   "metadata": {},
   "outputs": [
    {
     "data": {
      "image/png": "[encoded data removed]",
      "text/plain": [
       "<Figure size 1000x600 with 1 Axes>"
      ]
     },
     "metadata": {},
     "output_type": "display_data"
    }
   ],
   "source": [
    "plt.figure(figsize=(10, 6))\n",
    "plt.plot(monthly_sales.index, monthly_sales.values, marker='o', linestyle='-')\n",
    "plt.title('Monthly Sales')\n",
    "plt.xlabel('Month')\n",
    "plt.ylabel('Sales')\n",
    "plt.grid(True)\n",
    "plt.show()"
   ]
  },
  {
   "cell_type": "code",
   "execution_count": 34,
   "id": "4242a5d9",
   "metadata": {},
   "outputs": [
    {
     "data": {
      "text/plain": [
       "Index(['Order ID', 'Order Date', 'Ship Date', 'Ship Mode', 'Customer ID',\n",
       "       'Customer Name', 'Segment', 'Country', 'City', 'State', 'Postal Code',\n",
       "       'Region', 'Product ID', 'Category', 'Sub-Category', 'Product Name',\n",
       "       'Sales', 'Quantity', 'Discount', 'Profit'],\n",
       "      dtype='object')"
      ]
     },
     "execution_count": 34,
     "metadata": {},
     "output_type": "execute_result"
    }
   ],
   "source": [
    "cols"
   ]
  },
  {
   "cell_type": "code",
   "execution_count": 35,
   "id": "c6024529",
   "metadata": {},
   "outputs": [
    {
     "data": {
      "application/vnd.plotly.v1+json": {
       "config": {
        "plotlyServerURL": "https://plot.ly"
       },
       "data": [
        {
         "alignmentgroup": "True",
         "hovertemplate": "Sub-Category=Bookcases<br>Segment=%{x}<br>Sales=%{y}<extra></extra>",
         "legendgroup": "Bookcases",
         "marker": {
          "color": "#636efa"
         },
         "name": "Bookcases",
         "notched": false,
         "offsetgroup": "Bookcases",
         "orientation": "v",
         "showlegend": true,
         "type": "box",
         "x": [
          "Consumer",
          "Home Office",
          "Home Office",
          "Home Office",
          "Consumer",
          "Corporate",
          "Consumer",
          "Home Office",
          "Consumer",
          "Home Office",
          "Consumer",
          "Corporate",
          "Consumer",
          "Consumer",
          "Consumer",
          "Consumer",
          "Corporate",
          "Consumer",
          "Home Office",
          "Home Office",
          "Home Office",
          "Home Office",
          "Corporate",
          "Consumer",
          "Consumer",
          "Consumer",
          "Consumer",
          "Consumer",
          "Consumer",
          "Consumer",
          "Consumer",
          "Consumer",
          "Consumer",
          "Home Office",
          "Consumer",
          "Consumer",
          "Corporate",
          "Corporate",
          "Home Office",
          "Consumer",
          "Home Office",
          "Consumer",
          "Consumer",
          "Corporate",
          "Consumer",
          "Consumer",
          "Corporate",
          "Consumer",
          "Consumer",
          "Corporate",
          "Consumer",
          "Corporate",
          "Consumer",
          "Corporate",
          "Corporate",
          "Consumer",
          "Consumer",
          "Corporate",
          "Consumer",
          "Corporate",
          "Consumer",
          "Corporate",
          "Consumer",
          "Consumer",
          "Consumer",
          "Corporate",
          "Corporate",
          "Consumer",
          "Corporate",
          "Corporate",
          "Corporate",
          "Consumer",
          "Corporate",
          "Consumer",
          "Consumer",
          "Corporate",
          "Consumer",
          "Consumer",
          "Corporate",
          "Corporate",
          "Home Office",
          "Corporate",
          "Consumer",
          "Consumer",
          "Home Office",
          "Consumer",
          "Home Office",
          "Consumer",
          "Consumer",
          "Corporate",
          "Consumer",
          "Home Office",
          "Home Office",
          "Corporate",
          "Consumer",
          "Corporate",
          "Consumer",
          "Consumer",
          "Consumer",
          "Consumer",
          "Consumer",
          "Home Office",
          "Consumer",
          "Corporate",
          "Consumer",
          "Corporate",
          "Consumer",
          "Consumer",
          "Corporate",
          "Consumer",
          "Consumer",
          "Consumer",
          "Consumer",
          "Home Office",
          "Consumer",
          "Consumer",
          "Corporate",
          "Consumer",
          "Consumer",
          "Corporate",
          "Consumer",
          "Consumer",
          "Consumer",
          "Corporate",
          "Home Office",
          "Home Office",
          "Consumer",
          "Consumer",
          "Consumer",
          "Home Office",
          "Corporate",
          "Consumer",
          "Home Office",
          "Home Office",
          "Consumer",
          "Consumer",
          "Consumer",
          "Corporate",
          "Consumer",
          "Corporate",
          "Corporate",
          "Consumer",
          "Consumer",
          "Consumer",
          "Consumer",
          "Consumer",
          "Consumer",
          "Consumer",
          "Home Office",
          "Home Office",
          "Corporate",
          "Consumer",
          "Consumer",
          "Consumer",
          "Corporate",
          "Consumer",
          "Consumer",
          "Home Office",
          "Consumer",
          "Home Office"
         ],
         "x0": " ",
         "xaxis": "x",
         "y": [
          261.96,
          532.3992,
          626.352,
          86.97,
          388.704,
          205.3328,
          222.666,
          514.165,
          191.984,
          84.98,
          35.49,
          186.048,
          323.136,
          78.8528,
          722.352,
          119.833,
          579.136,
          254.9745,
          61.96,
          239.98,
          203.983,
          359.058,
          290.666,
          307.666,
          359.058,
          411.332,
          293.199,
          257.568,
          176.784,
          145.74,
          183.372,
          141.96,
          425.833,
          241.96,
          359.97,
          199.98,
          141.372,
          46.384,
          301.96,
          451.136,
          173.94,
          102.833,
          136.784,
          424.9575,
          299.97,
          195.466,
          308.499,
          704.9,
          327.7328,
          194.32,
          120.666,
          220.2656,
          242.352,
          220.98,
          435.999,
          290.666,
          141.96,
          361.96,
          193.0656,
          241.96,
          314.352,
          616.998,
          241.332,
          257.499,
          512.94,
          231.92,
          556.665,
          156.3728,
          160.98,
          81.94,
          482.664,
          174.42,
          246.1328,
          913.43,
          183.968,
          302.94,
          321.568,
          917.9235,
          586.398,
          163.88,
          275.952,
          173.94,
          333.999,
          283.92,
          687.4,
          359.499,
          212.94,
          353.568,
          362.94,
          198.272,
          556.665,
          599.165,
          411.332,
          67.9932,
          459.92,
          205.9992,
          239.666,
          87.21,
          240.784,
          205.666,
          354.9,
          113.568,
          241.96,
          61.96,
          241.568,
          289.568,
          302.94,
          239.666,
          212.94,
          344.94,
          115.96,
          681.408,
          523.92,
          148.257,
          141.96,
          290.352,
          273.666,
          424.116,
          449.568,
          509.9575,
          231.92,
          198.744,
          48.58,
          441.96,
          170.98,
          341.96,
          205.666,
          435.999,
          307.666,
          89.0664,
          141.96,
          512.499,
          120.666,
          387.136,
          353.568,
          177.45,
          723.92,
          305.9745,
          359.499,
          131.104,
          287.976,
          77.728,
          341.96,
          493.43,
          155.456,
          344.981,
          405.86,
          120.98,
          119.833,
          163.88,
          115.96,
          314.352,
          801.568,
          204.6664,
          477.666,
          400.784,
          613.9992,
          339.92,
          683.332,
          383.4656
         ],
         "y0": " ",
         "yaxis": "y"
        },
        {
         "alignmentgroup": "True",
         "hovertemplate": "Sub-Category=Furnishings<br>Segment=%{x}<br>Sales=%{y}<extra></extra>",
         "legendgroup": "Furnishings",
         "marker": {
          "color": "#EF553B"
         },
         "name": "Furnishings",
         "notched": false,
         "offsetgroup": "Furnishings",
         "orientation": "v",
         "showlegend": true,
         "type": "box",
         "x": [
          "Consumer",
          "Consumer",
          "Consumer",
          "Consumer",
          "Consumer",
          "Corporate",
          "Consumer",
          "Consumer",
          "Home Office",
          "Consumer",
          "Corporate",
          "Consumer",
          "Home Office",
          "Consumer",
          "Corporate",
          "Home Office",
          "Corporate",
          "Consumer",
          "Home Office",
          "Consumer",
          "Consumer",
          "Corporate",
          "Consumer",
          "Corporate",
          "Corporate",
          "Corporate",
          "Corporate",
          "Corporate",
          "Corporate",
          "Corporate",
          "Corporate",
          "Consumer",
          "Corporate",
          "Corporate",
          "Corporate",
          "Consumer",
          "Consumer",
          "Home Office",
          "Consumer",
          "Consumer",
          "Consumer",
          "Consumer",
          "Home Office",
          "Consumer",
          "Consumer",
          "Consumer",
          "Consumer",
          "Consumer",
          "Consumer",
          "Consumer",
          "Corporate",
          "Corporate",
          "Corporate",
          "Home Office",
          "Corporate",
          "Corporate",
          "Consumer",
          "Home Office",
          "Consumer",
          "Consumer",
          "Corporate",
          "Corporate",
          "Consumer",
          "Consumer",
          "Home Office",
          "Home Office",
          "Consumer",
          "Consumer",
          "Corporate",
          "Corporate",
          "Corporate",
          "Consumer",
          "Consumer",
          "Consumer",
          "Consumer",
          "Consumer",
          "Corporate",
          "Home Office",
          "Home Office",
          "Consumer",
          "Home Office",
          "Corporate",
          "Home Office",
          "Home Office",
          "Consumer",
          "Consumer",
          "Consumer",
          "Corporate",
          "Consumer",
          "Consumer",
          "Consumer",
          "Consumer",
          "Corporate",
          "Corporate",
          "Corporate",
          "Home Office",
          "Consumer",
          "Corporate",
          "Corporate",
          "Home Office",
          "Corporate",
          "Home Office",
          "Consumer",
          "Consumer",
          "Consumer",
          "Corporate",
          "Consumer",
          "Corporate",
          "Corporate",
          "Corporate",
          "Consumer",
          "Consumer",
          "Consumer",
          "Consumer",
          "Consumer",
          "Consumer",
          "Home Office",
          "Home Office",
          "Consumer",
          "Corporate",
          "Corporate",
          "Consumer",
          "Consumer",
          "Corporate",
          "Home Office",
          "Consumer",
          "Consumer",
          "Consumer",
          "Consumer",
          "Home Office",
          "Home Office",
          "Consumer",
          "Corporate",
          "Home Office",
          "Corporate",
          "Consumer",
          "Consumer",
          "Consumer",
          "Home Office",
          "Corporate",
          "Home Office",
          "Consumer",
          "Consumer",
          "Consumer",
          "Consumer",
          "Consumer",
          "Consumer",
          "Consumer",
          "Corporate",
          "Consumer",
          "Consumer",
          "Consumer",
          "Consumer",
          "Corporate",
          "Corporate",
          "Corporate",
          "Consumer",
          "Consumer",
          "Consumer",
          "Consumer",
          "Consumer",
          "Consumer",
          "Home Office",
          "Consumer",
          "Home Office",
          "Corporate",
          "Consumer",
          "Consumer",
          "Consumer",
          "Consumer",
          "Consumer",
          "Corporate",
          "Corporate",
          "Home Office",
          "Corporate",
          "Corporate",
          "Consumer",
          "Corporate",
          "Consumer",
          "Consumer",
          "Home Office",
          "Corporate",
          "Corporate",
          "Consumer",
          "Home Office",
          "Consumer",
          "Consumer",
          "Consumer",
          "Consumer",
          "Consumer",
          "Home Office",
          "Corporate",
          "Consumer",
          "Consumer",
          "Home Office",
          "Consumer",
          "Consumer",
          "Consumer",
          "Consumer",
          "Home Office",
          "Consumer",
          "Consumer",
          "Consumer",
          "Home Office",
          "Corporate",
          "Consumer",
          "Corporate",
          "Corporate",
          "Home Office",
          "Home Office",
          "Corporate",
          "Corporate",
          "Home Office",
          "Consumer",
          "Home Office",
          "Corporate",
          "Corporate",
          "Consumer",
          "Consumer",
          "Consumer",
          "Corporate",
          "Corporate",
          "Corporate",
          "Home Office",
          "Home Office",
          "Home Office",
          "Consumer",
          "Consumer",
          "Consumer",
          "Corporate",
          "Consumer",
          "Corporate",
          "Home Office",
          "Consumer",
          "Corporate",
          "Consumer",
          "Home Office",
          "Home Office",
          "Consumer",
          "Corporate",
          "Consumer",
          "Consumer",
          "Consumer",
          "Corporate",
          "Home Office",
          "Consumer",
          "Corporate",
          "Corporate",
          "Corporate",
          "Consumer",
          "Home Office",
          "Home Office",
          "Corporate",
          "Consumer",
          "Consumer",
          "Consumer",
          "Consumer",
          "Corporate",
          "Corporate",
          "Corporate",
          "Consumer",
          "Consumer",
          "Home Office",
          "Consumer",
          "Consumer",
          "Home Office",
          "Home Office",
          "Corporate",
          "Consumer",
          "Consumer",
          "Consumer",
          "Home Office",
          "Consumer",
          "Consumer",
          "Home Office",
          "Consumer",
          "Home Office",
          "Consumer",
          "Consumer",
          "Home Office",
          "Corporate",
          "Corporate",
          "Home Office",
          "Consumer",
          "Home Office",
          "Corporate",
          "Home Office",
          "Corporate",
          "Home Office",
          "Consumer",
          "Consumer",
          "Corporate",
          "Corporate",
          "Consumer",
          "Consumer",
          "Consumer",
          "Consumer",
          "Corporate",
          "Consumer",
          "Corporate",
          "Consumer",
          "Consumer",
          "Corporate",
          "Home Office",
          "Home Office",
          "Consumer",
          "Home Office",
          "Corporate",
          "Consumer",
          "Consumer",
          "Corporate",
          "Consumer",
          "Home Office",
          "Consumer",
          "Consumer",
          "Consumer",
          "Consumer",
          "Consumer",
          "Consumer",
          "Consumer",
          "Corporate",
          "Consumer",
          "Home Office",
          "Consumer",
          "Home Office",
          "Home Office",
          "Consumer",
          "Home Office",
          "Corporate",
          "Corporate",
          "Corporate",
          "Consumer",
          "Corporate",
          "Home Office",
          "Corporate",
          "Corporate",
          "Corporate",
          "Consumer",
          "Home Office",
          "Consumer",
          "Corporate",
          "Corporate",
          "Consumer",
          "Consumer",
          "Home Office",
          "Home Office",
          "Consumer",
          "Consumer",
          "Home Office",
          "Home Office",
          "Corporate",
          "Consumer",
          "Consumer",
          "Consumer",
          "Consumer",
          "Consumer",
          "Home Office",
          "Consumer",
          "Home Office",
          "Corporate",
          "Consumer",
          "Corporate",
          "Consumer",
          "Home Office",
          "Corporate",
          "Corporate",
          "Consumer",
          "Consumer",
          "Consumer",
          "Consumer",
          "Home Office",
          "Consumer",
          "Consumer",
          "Consumer",
          "Consumer",
          "Consumer",
          "Consumer",
          "Corporate",
          "Home Office",
          "Consumer",
          "Corporate",
          "Corporate",
          "Consumer",
          "Consumer",
          "Consumer",
          "Consumer",
          "Consumer",
          "Consumer",
          "Consumer",
          "Home Office",
          "Consumer",
          "Consumer",
          "Consumer",
          "Consumer",
          "Consumer",
          "Home Office",
          "Home Office",
          "Consumer",
          "Home Office",
          "Corporate",
          "Corporate",
          "Consumer",
          "Home Office",
          "Home Office",
          "Consumer",
          "Corporate",
          "Home Office",
          "Home Office",
          "Home Office",
          "Home Office",
          "Consumer",
          "Consumer",
          "Consumer",
          "Consumer",
          "Corporate",
          "Consumer",
          "Consumer",
          "Consumer",
          "Consumer",
          "Home Office",
          "Consumer",
          "Consumer",
          "Consumer",
          "Corporate",
          "Consumer",
          "Consumer",
          "Consumer",
          "Corporate",
          "Corporate",
          "Consumer",
          "Consumer",
          "Consumer",
          "Home Office",
          "Consumer",
          "Consumer",
          "Consumer",
          "Consumer",
          "Consumer",
          "Corporate",
          "Corporate",
          "Corporate",
          "Consumer",
          "Consumer",
          "Consumer",
          "Consumer",
          "Home Office",
          "Consumer",
          "Consumer",
          "Corporate",
          "Corporate",
          "Consumer",
          "Home Office",
          "Consumer",
          "Home Office",
          "Corporate",
          "Corporate",
          "Consumer",
          "Consumer",
          "Consumer",
          "Corporate",
          "Consumer",
          "Corporate",
          "Corporate",
          "Consumer",
          "Home Office",
          "Corporate",
          "Corporate",
          "Home Office",
          "Home Office",
          "Home Office",
          "Consumer",
          "Consumer",
          "Consumer",
          "Consumer",
          "Corporate",
          "Corporate",
          "Corporate",
          "Consumer",
          "Consumer",
          "Corporate",
          "Corporate",
          "Home Office",
          "Consumer",
          "Consumer",
          "Consumer",
          "Corporate",
          "Consumer",
          "Corporate",
          "Consumer",
          "Corporate",
          "Corporate",
          "Home Office",
          "Consumer",
          "Corporate",
          "Corporate",
          "Corporate",
          "Home Office",
          "Corporate",
          "Home Office",
          "Corporate",
          "Corporate",
          "Home Office",
          "Consumer",
          "Consumer",
          "Consumer",
          "Consumer",
          "Corporate",
          "Consumer",
          "Corporate",
          "Corporate",
          "Consumer",
          "Consumer",
          "Corporate",
          "Corporate",
          "Consumer",
          "Consumer",
          "Corporate",
          "Corporate",
          "Home Office",
          "Consumer",
          "Consumer",
          "Home Office",
          "Corporate",
          "Consumer",
          "Corporate",
          "Consumer",
          "Corporate",
          "Corporate",
          "Corporate",
          "Home Office",
          "Corporate",
          "Corporate",
          "Corporate",
          "Consumer",
          "Consumer",
          "Corporate",
          "Consumer",
          "Corporate",
          "Corporate",
          "Corporate",
          "Corporate",
          "Home Office",
          "Consumer",
          "Consumer",
          "Corporate",
          "Home Office",
          "Home Office",
          "Consumer",
          "Consumer",
          "Consumer",
          "Corporate",
          "Corporate",
          "Corporate",
          "Corporate",
          "Corporate",
          "Home Office",
          "Corporate",
          "Corporate",
          "Consumer",
          "Consumer",
          "Corporate",
          "Home Office",
          "Consumer",
          "Corporate",
          "Consumer",
          "Consumer",
          "Consumer",
          "Home Office",
          "Home Office",
          "Consumer",
          "Consumer",
          "Consumer",
          "Consumer",
          "Corporate",
          "Home Office",
          "Consumer",
          "Consumer",
          "Consumer",
          "Consumer",
          "Corporate",
          "Home Office",
          "Consumer",
          "Home Office",
          "Home Office",
          "Corporate",
          "Home Office",
          "Corporate",
          "Consumer",
          "Consumer",
          "Consumer",
          "Corporate",
          "Consumer",
          "Corporate",
          "Corporate",
          "Home Office",
          "Consumer",
          "Home Office",
          "Home Office",
          "Home Office",
          "Consumer",
          "Consumer",
          "Consumer",
          "Home Office",
          "Corporate",
          "Corporate",
          "Consumer",
          "Consumer",
          "Consumer",
          "Consumer",
          "Home Office",
          "Corporate",
          "Consumer",
          "Consumer",
          "Corporate",
          "Consumer",
          "Consumer",
          "Corporate",
          "Corporate",
          "Corporate",
          "Consumer",
          "Corporate",
          "Corporate",
          "Consumer",
          "Home Office",
          "Consumer",
          "Consumer",
          "Corporate",
          "Consumer",
          "Corporate",
          "Corporate",
          "Corporate",
          "Consumer",
          "Consumer",
          "Corporate",
          "Corporate",
          "Consumer",
          "Home Office",
          "Consumer",
          "Home Office",
          "Consumer",
          "Home Office",
          "Home Office",
          "Corporate",
          "Home Office",
          "Consumer",
          "Consumer",
          "Consumer",
          "Consumer",
          "Consumer",
          "Consumer",
          "Home Office",
          "Consumer",
          "Home Office",
          "Consumer",
          "Corporate",
          "Consumer",
          "Consumer",
          "Consumer",
          "Consumer",
          "Consumer",
          "Home Office",
          "Corporate",
          "Consumer",
          "Consumer",
          "Consumer",
          "Home Office",
          "Consumer",
          "Consumer",
          "Corporate",
          "Corporate",
          "Home Office",
          "Consumer",
          "Consumer",
          "Corporate",
          "Home Office",
          "Consumer",
          "Home Office",
          "Consumer",
          "Corporate",
          "Consumer",
          "Consumer",
          "Corporate",
          "Consumer",
          "Consumer",
          "Corporate",
          "Corporate",
          "Consumer",
          "Consumer",
          "Consumer",
          "Consumer",
          "Consumer",
          "Consumer",
          "Home Office",
          "Consumer",
          "Home Office",
          "Consumer",
          "Corporate",
          "Home Office",
          "Consumer",
          "Consumer",
          "Corporate",
          "Corporate",
          "Consumer",
          "Consumer",
          "Consumer",
          "Consumer",
          "Consumer",
          "Consumer",
          "Consumer",
          "Consumer",
          "Consumer",
          "Corporate",
          "Consumer",
          "Corporate",
          "Corporate",
          "Consumer",
          "Corporate",
          "Consumer",
          "Consumer",
          "Consumer",
          "Home Office",
          "Corporate",
          "Consumer",
          "Consumer",
          "Home Office",
          "Corporate",
          "Consumer",
          "Corporate",
          "Corporate",
          "Home Office",
          "Consumer",
          "Corporate",
          "Consumer",
          "Consumer",
          "Corporate",
          "Home Office",
          "Consumer",
          "Corporate",
          "Corporate",
          "Consumer",
          "Consumer",
          "Corporate",
          "Consumer",
          "Consumer",
          "Home Office",
          "Consumer",
          "Consumer",
          "Consumer",
          "Home Office",
          "Corporate",
          "Consumer",
          "Consumer",
          "Corporate",
          "Corporate",
          "Corporate",
          "Corporate",
          "Consumer",
          "Home Office",
          "Home Office",
          "Consumer",
          "Corporate",
          "Corporate",
          "Consumer",
          "Consumer",
          "Corporate",
          "Corporate",
          "Corporate",
          "Corporate",
          "Home Office",
          "Consumer",
          "Consumer",
          "Corporate",
          "Consumer",
          "Consumer",
          "Home Office",
          "Consumer",
          "Corporate",
          "Corporate",
          "Corporate",
          "Corporate",
          "Home Office",
          "Consumer",
          "Corporate",
          "Consumer",
          "Consumer",
          "Consumer",
          "Consumer",
          "Consumer",
          "Corporate",
          "Consumer",
          "Consumer",
          "Consumer",
          "Consumer",
          "Consumer",
          "Corporate",
          "Home Office",
          "Corporate",
          "Corporate",
          "Consumer",
          "Corporate",
          "Corporate",
          "Corporate",
          "Home Office",
          "Corporate",
          "Home Office",
          "Corporate",
          "Consumer",
          "Consumer",
          "Corporate",
          "Corporate",
          "Corporate",
          "Corporate",
          "Consumer",
          "Consumer",
          "Consumer",
          "Consumer",
          "Corporate",
          "Corporate",
          "Corporate",
          "Consumer",
          "Home Office",
          "Corporate",
          "Consumer",
          "Consumer",
          "Consumer",
          "Consumer",
          "Corporate",
          "Consumer",
          "Consumer",
          "Home Office",
          "Home Office",
          "Corporate",
          "Consumer",
          "Home Office",
          "Consumer",
          "Corporate",
          "Corporate",
          "Consumer",
          "Consumer",
          "Consumer",
          "Home Office",
          "Corporate",
          "Consumer",
          "Corporate",
          "Consumer",
          "Consumer",
          "Home Office",
          "Consumer",
          "Corporate",
          "Home Office",
          "Corporate",
          "Consumer",
          "Consumer",
          "Consumer",
          "Consumer",
          "Consumer",
          "Corporate",
          "Corporate",
          "Consumer",
          "Corporate",
          "Consumer",
          "Consumer",
          "Home Office",
          "Consumer",
          "Corporate",
          "Consumer",
          "Consumer",
          "Consumer",
          "Consumer",
          "Home Office",
          "Home Office",
          "Consumer",
          "Corporate",
          "Consumer",
          "Consumer",
          "Consumer",
          "Consumer",
          "Consumer",
          "Home Office",
          "Consumer",
          "Consumer",
          "Corporate",
          "Consumer",
          "Consumer",
          "Corporate",
          "Consumer",
          "Home Office",
          "Corporate",
          "Consumer",
          "Consumer",
          "Consumer",
          "Corporate",
          "Corporate",
          "Consumer",
          "Home Office",
          "Corporate",
          "Corporate",
          "Consumer",
          "Consumer",
          "Consumer",
          "Consumer",
          "Corporate",
          "Corporate",
          "Corporate",
          "Consumer",
          "Consumer",
          "Corporate",
          "Corporate",
          "Consumer",
          "Consumer"
         ],
         "x0": " ",
         "xaxis": "x",
         "y": [
          48.86,
          124.2,
          6.16,
          79.76,
          97.04,
          9.708,
          19.3,
          53.34,
          96.53,
          102.36,
          41.96,
          47.04,
          238.56,
          43.12,
          82.8,
          93.888,
          35.168,
          72.704,
          258.072,
          11.688,
          4.044,
          12.132,
          5.28,
          300.416,
          218.352,
          77.6,
          26.8,
          15.136,
          15.232,
          87.54,
          15.992,
          47.12,
          2.96,
          56.56,
          28.4,
          12.22,
          2.91,
          23.56,
          40.2,
          255.76,
          69.3,
          126.3,
          45.696,
          47.94,
          34.504,
          42.6,
          13.128,
          8.792,
          327.76,
          45.696,
          40.48,
          9.94,
          88.02,
          35.56,
          18.84,
          14.8,
          30.36,
          23.976,
          82.524,
          104.01,
          15.072,
          209.88,
          9.94,
          103.056,
          73.32,
          129.92,
          157.74,
          79.92,
          310.88,
          34.58,
          22.23,
          18.28,
          28.4,
          18.28,
          48.896,
          44.46,
          51.94,
          322.59,
          31.4,
          17.46,
          22.2,
          46.94,
          516.488,
          1007.232,
          25.472,
          204.6,
          127.104,
          520.05,
          24.1,
          33.11,
          151.72,
          155.25,
          13.96,
          155.82,
          124.11,
          86.62,
          102.36,
          168.464,
          282.888,
          108.4,
          31.984,
          8.73,
          2.328,
          38.6,
          204.6,
          8.352,
          109.48,
          15.712,
          55.968,
          17.024,
          113.79,
          8.73,
          47.952,
          63.968,
          165.048,
          12.35,
          6.696,
          43.872,
          41.85,
          29.328,
          39.88,
          286.38,
          23.99,
          183.84,
          51.072,
          37.05,
          25.11,
          29.78,
          1.988,
          145.9,
          18.84,
          39.98,
          165.28,
          37.74,
          4.928,
          27.46,
          121.376,
          6.688,
          42.6,
          9.64,
          9.94,
          8.36,
          206.112,
          11.648,
          8.32,
          47.04,
          6.16,
          15.992,
          211.96,
          198.46,
          17.92,
          41.37,
          34.79,
          21.936,
          42.368,
          14.82,
          310.88,
          21.88,
          35.92,
          39.76,
          7.168,
          9.46,
          109.8,
          215.65,
          4.18,
          16.156,
          77.6,
          4.656,
          29.32,
          11.84,
          22.784,
          44.128,
          40.784,
          37.68,
          24.96,
          196.45,
          31.56,
          136.92,
          18.96,
          15.4,
          14.73,
          11.54,
          23.88,
          8.752,
          75.36,
          289.8,
          25.344,
          17.31,
          58.2,
          7.712,
          64.944,
          139.86,
          14.76,
          43.31,
          22.608,
          79.384,
          63.68,
          121.3,
          22.2,
          191.82,
          20.104,
          27.42,
          526.45,
          44.4,
          109.48,
          435.26,
          181.95,
          547.136,
          63.2,
          127.88,
          532.704,
          60.288,
          54.712,
          113.92,
          211.84,
          12.544,
          7.4,
          7.904,
          14.272,
          77.92,
          129.93,
          111.888,
          51.712,
          526.45,
          62.82,
          12.42,
          22.23,
          14.136,
          61.12,
          6.096,
          39.96,
          4.928,
          18.624,
          57.69,
          109.9,
          15.384,
          30.768,
          122.352,
          227.36,
          45.888,
          23.976,
          107.53,
          35.34,
          257.64,
          76.92,
          19.104,
          23.68,
          58.36,
          39.96,
          41.37,
          185.58,
          124.36,
          56.28,
          14.98,
          20.32,
          17.088,
          6.96,
          69.08,
          14.368,
          70.448,
          70.71,
          18.84,
          19.76,
          18.7,
          38.29,
          26.25,
          113.568,
          18.96,
          32.952,
          28.272,
          43.296,
          24.96,
          3.984,
          191.82,
          22.608,
          66.69,
          254.352,
          29.16,
          16.72,
          41.96,
          30.56,
          124.41,
          16.74,
          3.984,
          61,
          48.672,
          44.46,
          13.28,
          22.848,
          262.864,
          67,
          20.94,
          58.68,
          149.232,
          39.88,
          53.2,
          114.9,
          7.068,
          60.312,
          15.24,
          3.48,
          60.312,
          86.45,
          128.82,
          2.032,
          129.92,
          35.28,
          9.552,
          28.44,
          24.048,
          22.288,
          65.424,
          22.336,
          128.9,
          24.288,
          16.192,
          22.512,
          133.38,
          16.74,
          8.96,
          29.12,
          5.352,
          15.008,
          17.472,
          25.16,
          91.92,
          142.4,
          148.288,
          30.88,
          6.408,
          44.46,
          181.96,
          15.488,
          141.96,
          37.93,
          15.168,
          6.368,
          162.6,
          18.92,
          71.97,
          198.46,
          24.4,
          76.14,
          134.01,
          85.3,
          4.95,
          364.704,
          40.256,
          547.136,
          7.584,
          9.82,
          35.34,
          14.56,
          5.47,
          22.14,
          44.76,
          44.67,
          39.92,
          22.77,
          79.12,
          52.96,
          63.552,
          373.08,
          63.47,
          24.9,
          70.56,
          204.85,
          276.69,
          220.064,
          339.136,
          15.92,
          91.032,
          79.12,
          322.59,
          24.7,
          14.76,
          17.67,
          94.428,
          20.9,
          10.476,
          207.76,
          9.96,
          129.39,
          2.784,
          63.92,
          82.38,
          14.368,
          60.72,
          77.72,
          303.25,
          69.008,
          190.848,
          24.1,
          12.56,
          25.4,
          32.776,
          21.248,
          8.128,
          23.99,
          37.3,
          20.32,
          89.34,
          39.08,
          15.84,
          7.76,
          36.4,
          76.14,
          33.48,
          25.632,
          25.02,
          47.12,
          14.136,
          17.14,
          123.96,
          79.92,
          272.94,
          15.008,
          51.968,
          212.13,
          7.996,
          173.24,
          56.568,
          19.92,
          35.28,
          6.464,
          52.416,
          54.92,
          43.13,
          30.192,
          91.008,
          48.576,
          77.952,
          27.58,
          12.54,
          9.24,
          77.6,
          464.85,
          18.84,
          37.4,
          35.568,
          20.32,
          35.168,
          10.11,
          39.92,
          123.96,
          53.88,
          10.776,
          17.496,
          101.12,
          30.36,
          86.26,
          8.544,
          212.94,
          14.224,
          37.68,
          397.6,
          104.23,
          30.93,
          164.22,
          33.568,
          32.36,
          27.92,
          6.16,
          14.89,
          8.544,
          68.95,
          64.96,
          11.808,
          9.656,
          19.76,
          25.08,
          63.94,
          10.68,
          70.56,
          273.96,
          306.9,
          63.2,
          111.9,
          31.984,
          19.52,
          213.216,
          40.56,
          68.46,
          9.24,
          13.36,
          3.312,
          145.9,
          54.768,
          25.16,
          10.16,
          6.16,
          19.98,
          6.16,
          17.088,
          19.52,
          68.64,
          6.16,
          60.84,
          7.04,
          74.45,
          192.22,
          21.44,
          355.36,
          38.976,
          129.888,
          79.44,
          25.16,
          19.3,
          26.48,
          21.56,
          46.152,
          54.92,
          14.91,
          12.32,
          51.75,
          117.36,
          132.224,
          91.96,
          47.98,
          80.96,
          36.6,
          29.22,
          14.76,
          127.95,
          28.28,
          71.12,
          31.56,
          14.52,
          8.92,
          25.4,
          6.28,
          23.968,
          21.12,
          43.02,
          185.58,
          87.96,
          19.76,
          127.95,
          91.96,
          33.11,
          21.12,
          15.24,
          42.6,
          14.368,
          238.152,
          28,
          6.98,
          191.82,
          25.16,
          29.22,
          409.216,
          51.968,
          42.408,
          4.992,
          20.016,
          7.712,
          65.94,
          68.16,
          72.704,
          166.5,
          247.44,
          22.14,
          6.24,
          21.36,
          12.42,
          24.75,
          63.824,
          327.76,
          25.83,
          127.95,
          272.94,
          14.73,
          47.04,
          38.08,
          83.92,
          14.76,
          8.01,
          410.352,
          35,
          82.26,
          103.5,
          36.96,
          13.28,
          72.42,
          103.936,
          20.94,
          332.832,
          139.92,
          101.94,
          8.8,
          60.72,
          209.88,
          41.88,
          21.184,
          68.704,
          42.85,
          67.96,
          46.872,
          20.04,
          41.552,
          163.136,
          56.328,
          159.92,
          50.496,
          47.4,
          14.56,
          14.76,
          20.096,
          129.93,
          9.98,
          34.504,
          20.104,
          7.88,
          22.38,
          127.936,
          6.24,
          7.968,
          2.96,
          22.72,
          59.92,
          20.32,
          14.76,
          31.984,
          84.272,
          51.75,
          24.85,
          621.76,
          186.54,
          289.24,
          8.544,
          25.984,
          4.224,
          124.36,
          38.784,
          10.02,
          19.92,
          27.46,
          135.3,
          111.15,
          275.88,
          16.784,
          19.54,
          756.8,
          8.736,
          17.46,
          30.8,
          113.6,
          43.96,
          66.36,
          24.14,
          47.4,
          315.776,
          63.98,
          66.112,
          57.69,
          59.99,
          20.24,
          8.544,
          135.3,
          41.96,
          111,
          22.752,
          67.36,
          54.528,
          25.71,
          169.568,
          101.52,
          43.13,
          122.91,
          167.84,
          13.592,
          36.672,
          32.712,
          46.9,
          22.2,
          88.92,
          34.92,
          14.56,
          106.68,
          276.69,
          18.84,
          9.24,
          266.352,
          13.592,
          508.704,
          21.204,
          31.68,
          17.31,
          58.248,
          25.176,
          5.584,
          14.91,
          75.33,
          80.96,
          187.76,
          76.728,
          129.92,
          38.97,
          77.952,
          60.84,
          17.088,
          154.95,
          22.608,
          40.48,
          10.56,
          16.192,
          23.376,
          16.72,
          16.192,
          31.984,
          30.344,
          50.97,
          63.552,
          72.9,
          254.352,
          254.9,
          12.18,
          45.84,
          9.82,
          18.84,
          60.672,
          210.68,
          23.076,
          75.384,
          26.72,
          21.184,
          4.16,
          16.02,
          27.42,
          61.1,
          23.88,
          148.02,
          41.96,
          64.96,
          72.78,
          56.52,
          96.96,
          22.608,
          1.892,
          187.76,
          335.744,
          11.82,
          44.46,
          31.776,
          82.64,
          43.936,
          85.44,
          4.712,
          51.756,
          4.928,
          62.72,
          32.952,
          31.4,
          9.48,
          24.3,
          32.448,
          186.54,
          82.26,
          27.46,
          111.15,
          83.92,
          39.98,
          40.48,
          303.92,
          9.96,
          35,
          210.68,
          127.88,
          77.952,
          199.8,
          18.69,
          73.784,
          30.336,
          12.99,
          54.992,
          51.264,
          20.24,
          39.92,
          24.64,
          2.328,
          220.704,
          102.3,
          10.332,
          11.664,
          56.96,
          13.96,
          30.56,
          139.58,
          4.712,
          14.19,
          21.968,
          94.2,
          182.352,
          7.692,
          31.168,
          6.984,
          53.352,
          126.3,
          11.032,
          210.58,
          27.42,
          40.48,
          39.96,
          159.84,
          8.92,
          70.68,
          312.03,
          32.064,
          177.68,
          11.568,
          99.95,
          16.74,
          21,
          273.96,
          756.8,
          77.952,
          9.68,
          5.82,
          135.8,
          29.46,
          98.328,
          37.74,
          14.82,
          191.82,
          337.088,
          74.76,
          11.352,
          318.08,
          31.968,
          9.552,
          5.344,
          27.46,
          19.312,
          31.96,
          51.75,
          39.88,
          79.44,
          94.68,
          147.568,
          332.94,
          14.56,
          10.02,
          18.176,
          183.92,
          11.376,
          80.96,
          30.144,
          41.96,
          45.98,
          22.14,
          41.568,
          120.576,
          4.272,
          12.07,
          87.92,
          10.11,
          199.9,
          31.96,
          101.4,
          51.56,
          26.94,
          32.04,
          199.9,
          8.856,
          68.432,
          71.12,
          5.312,
          51.968,
          31.56,
          24.7,
          60.84,
          282.84,
          137.54,
          97.44,
          119.94,
          12.42,
          41.6,
          201.04,
          30.336,
          19.96,
          273.568,
          18.96,
          10.984,
          17.496,
          8.28,
          7.38,
          45.568,
          173.208,
          8.624,
          14,
          61.544,
          12.56,
          214.7,
          50.32,
          18.96,
          68.704,
          95.2,
          466.32,
          82.64,
          22.752,
          25.128,
          131.88,
          207.35,
          44.67,
          14.91,
          24.27,
          60.35,
          13.4,
          25.248,
          91.96
         ],
         "y0": " ",
         "yaxis": "y"
        },
        {
         "alignmentgroup": "True",
         "hovertemplate": "Sub-Category=Chairs<br>Segment=%{x}<br>Sales=%{y}<extra></extra>",
         "legendgroup": "Chairs",
         "marker": {
          "color": "#00cc96"
         },
         "name": "Chairs",
         "notched": false,
         "offsetgroup": "Chairs",
         "orientation": "v",
         "showlegend": true,
         "type": "box",
         "x": [
          "Consumer",
          "Home Office",
          "Consumer",
          "Consumer",
          "Home Office",
          "Consumer",
          "Home Office",
          "Home Office",
          "Consumer",
          "Consumer",
          "Consumer",
          "Consumer",
          "Consumer",
          "Consumer",
          "Corporate",
          "Corporate",
          "Home Office",
          "Consumer",
          "Consumer",
          "Corporate",
          "Consumer",
          "Corporate",
          "Consumer",
          "Consumer",
          "Consumer",
          "Corporate",
          "Home Office",
          "Corporate",
          "Consumer",
          "Corporate",
          "Consumer",
          "Corporate",
          "Corporate",
          "Home Office",
          "Consumer",
          "Home Office",
          "Consumer",
          "Consumer",
          "Consumer",
          "Consumer",
          "Consumer",
          "Corporate",
          "Corporate",
          "Consumer",
          "Consumer",
          "Home Office",
          "Consumer",
          "Consumer",
          "Corporate",
          "Consumer",
          "Home Office",
          "Consumer",
          "Corporate",
          "Corporate",
          "Corporate",
          "Corporate",
          "Consumer",
          "Consumer",
          "Consumer",
          "Consumer",
          "Corporate",
          "Consumer",
          "Consumer",
          "Consumer",
          "Consumer",
          "Consumer",
          "Consumer",
          "Corporate",
          "Corporate",
          "Corporate",
          "Corporate",
          "Corporate",
          "Consumer",
          "Consumer",
          "Corporate",
          "Corporate",
          "Consumer",
          "Corporate",
          "Consumer",
          "Consumer",
          "Consumer",
          "Consumer",
          "Corporate",
          "Consumer",
          "Home Office",
          "Home Office",
          "Consumer",
          "Corporate",
          "Corporate",
          "Consumer",
          "Corporate",
          "Consumer",
          "Consumer",
          "Consumer",
          "Corporate",
          "Consumer",
          "Consumer",
          "Home Office",
          "Corporate",
          "Consumer",
          "Corporate",
          "Consumer",
          "Consumer",
          "Consumer",
          "Consumer",
          "Consumer",
          "Corporate",
          "Consumer",
          "Corporate",
          "Corporate",
          "Corporate",
          "Consumer",
          "Consumer",
          "Corporate",
          "Home Office",
          "Consumer",
          "Consumer",
          "Home Office",
          "Consumer",
          "Consumer",
          "Home Office",
          "Corporate",
          "Consumer",
          "Corporate",
          "Consumer",
          "Consumer",
          "Consumer",
          "Consumer",
          "Consumer",
          "Corporate",
          "Consumer",
          "Corporate",
          "Corporate",
          "Home Office",
          "Home Office",
          "Corporate",
          "Corporate",
          "Corporate",
          "Consumer",
          "Consumer",
          "Consumer",
          "Consumer",
          "Consumer",
          "Home Office",
          "Corporate",
          "Corporate",
          "Consumer",
          "Corporate",
          "Consumer",
          "Home Office",
          "Consumer",
          "Consumer",
          "Consumer",
          "Consumer",
          "Consumer",
          "Consumer",
          "Consumer",
          "Home Office",
          "Home Office",
          "Home Office",
          "Consumer",
          "Consumer",
          "Consumer",
          "Home Office",
          "Home Office",
          "Corporate",
          "Home Office",
          "Consumer",
          "Consumer",
          "Consumer",
          "Corporate",
          "Corporate",
          "Corporate",
          "Consumer",
          "Corporate",
          "Corporate",
          "Corporate",
          "Corporate",
          "Corporate",
          "Consumer",
          "Consumer",
          "Consumer",
          "Consumer",
          "Consumer",
          "Consumer",
          "Home Office",
          "Consumer",
          "Consumer",
          "Consumer",
          "Consumer",
          "Consumer",
          "Consumer",
          "Home Office",
          "Consumer",
          "Home Office",
          "Corporate",
          "Home Office",
          "Consumer",
          "Consumer",
          "Home Office",
          "Corporate",
          "Home Office",
          "Consumer",
          "Consumer",
          "Consumer",
          "Home Office",
          "Consumer",
          "Consumer",
          "Consumer",
          "Home Office",
          "Corporate",
          "Home Office",
          "Consumer",
          "Home Office",
          "Home Office",
          "Consumer",
          "Consumer",
          "Consumer",
          "Consumer",
          "Consumer",
          "Consumer",
          "Consumer",
          "Consumer",
          "Consumer",
          "Corporate",
          "Consumer",
          "Corporate",
          "Consumer",
          "Consumer",
          "Home Office",
          "Corporate",
          "Consumer",
          "Corporate",
          "Consumer",
          "Consumer",
          "Consumer",
          "Corporate",
          "Home Office",
          "Consumer",
          "Consumer",
          "Consumer",
          "Consumer",
          "Corporate",
          "Consumer",
          "Home Office",
          "Consumer",
          "Corporate",
          "Consumer",
          "Corporate",
          "Consumer",
          "Home Office",
          "Consumer",
          "Corporate",
          "Corporate",
          "Corporate",
          "Corporate",
          "Consumer",
          "Consumer",
          "Consumer",
          "Consumer",
          "Consumer",
          "Consumer",
          "Home Office",
          "Home Office",
          "Consumer",
          "Consumer",
          "Consumer",
          "Corporate",
          "Consumer",
          "Corporate",
          "Home Office",
          "Consumer",
          "Corporate",
          "Consumer",
          "Consumer",
          "Corporate",
          "Consumer",
          "Consumer",
          "Consumer",
          "Consumer",
          "Corporate",
          "Home Office",
          "Consumer",
          "Consumer",
          "Consumer",
          "Consumer",
          "Corporate",
          "Home Office",
          "Corporate",
          "Corporate",
          "Corporate",
          "Corporate",
          "Consumer",
          "Corporate",
          "Home Office",
          "Consumer",
          "Corporate",
          "Consumer",
          "Consumer",
          "Corporate",
          "Home Office",
          "Consumer",
          "Consumer",
          "Consumer",
          "Corporate",
          "Consumer",
          "Consumer",
          "Consumer",
          "Corporate",
          "Consumer",
          "Consumer",
          "Consumer",
          "Corporate",
          "Consumer",
          "Consumer",
          "Consumer",
          "Corporate",
          "Consumer",
          "Corporate",
          "Consumer",
          "Corporate",
          "Home Office",
          "Consumer",
          "Consumer",
          "Consumer",
          "Corporate",
          "Corporate",
          "Corporate",
          "Consumer",
          "Consumer",
          "Corporate",
          "Home Office",
          "Consumer",
          "Consumer",
          "Home Office",
          "Corporate",
          "Consumer",
          "Consumer",
          "Corporate",
          "Consumer",
          "Corporate",
          "Consumer",
          "Corporate",
          "Consumer",
          "Corporate",
          "Corporate",
          "Corporate",
          "Consumer",
          "Home Office",
          "Consumer",
          "Consumer",
          "Consumer",
          "Corporate",
          "Consumer",
          "Consumer",
          "Corporate",
          "Consumer",
          "Consumer",
          "Consumer",
          "Home Office",
          "Consumer",
          "Consumer",
          "Corporate",
          "Consumer",
          "Corporate",
          "Home Office",
          "Corporate",
          "Corporate",
          "Corporate",
          "Corporate",
          "Corporate",
          "Consumer",
          "Home Office",
          "Consumer",
          "Corporate",
          "Corporate",
          "Consumer",
          "Corporate",
          "Corporate",
          "Corporate",
          "Consumer",
          "Consumer",
          "Consumer",
          "Consumer",
          "Consumer",
          "Consumer",
          "Consumer",
          "Consumer",
          "Consumer",
          "Home Office",
          "Consumer",
          "Corporate",
          "Corporate",
          "Corporate",
          "Home Office",
          "Consumer",
          "Corporate",
          "Consumer",
          "Corporate",
          "Home Office",
          "Consumer",
          "Corporate",
          "Corporate",
          "Consumer",
          "Consumer",
          "Home Office",
          "Consumer",
          "Corporate",
          "Consumer",
          "Corporate",
          "Consumer",
          "Home Office",
          "Home Office",
          "Corporate",
          "Consumer",
          "Corporate",
          "Home Office",
          "Consumer",
          "Consumer",
          "Consumer",
          "Home Office",
          "Consumer",
          "Consumer",
          "Consumer",
          "Consumer",
          "Consumer",
          "Consumer",
          "Consumer",
          "Home Office",
          "Consumer",
          "Consumer",
          "Consumer",
          "Corporate",
          "Corporate",
          "Corporate",
          "Consumer",
          "Home Office",
          "Corporate",
          "Consumer",
          "Corporate",
          "Consumer",
          "Corporate",
          "Consumer",
          "Consumer",
          "Home Office",
          "Consumer",
          "Consumer",
          "Home Office",
          "Corporate",
          "Corporate",
          "Consumer",
          "Consumer",
          "Consumer",
          "Consumer",
          "Consumer",
          "Consumer",
          "Consumer",
          "Consumer",
          "Consumer",
          "Consumer",
          "Consumer",
          "Consumer",
          "Consumer",
          "Corporate",
          "Corporate",
          "Corporate"
         ],
         "x0": " ",
         "xaxis": "x",
         "y": [
          71.372,
          212.058,
          89.99,
          319.41,
          213.115,
          301.96,
          600.558,
          81.424,
          457.568,
          340.144,
          396.802,
          161.568,
          389.696,
          321.568,
          230.352,
          466.768,
          135.882,
          488.646,
          113.568,
          307.136,
          383.8,
          207.846,
          242.94,
          129.568,
          241.568,
          801.568,
          683.952,
          190.72,
          283.92,
          451.152,
          70.98,
          301.96,
          392.94,
          701.372,
          542.646,
          544.008,
          348.928,
          332.94,
          283.92,
          301.96,
          287.94,
          797.944,
          321.568,
          599.292,
          603.92,
          254.604,
          107.772,
          194.848,
          195.184,
          172.5,
          892.224,
          95.984,
          544.008,
          854.352,
          141.372,
          292.272,
          161.568,
          155.372,
          258.279,
          145.568,
          408.006,
          63.686,
          603.92,
          381.44,
          763.28,
          47.992,
          71.992,
          62.958,
          207,
          140.81,
          362.352,
          801.568,
          393.568,
          383.607,
          478.48,
          462.564,
          662.88,
          545.88,
          304.45,
          350.98,
          269.97,
          341.488,
          146.352,
          283.92,
          479.9,
          259.136,
          323.136,
          215.976,
          422.058,
          233.058,
          305.312,
          442.764,
          108.608,
          70.686,
          122.352,
          97.568,
          614.272,
          280.792,
          182.94,
          120.712,
          253.372,
          754.45,
          366.786,
          492.835,
          217.584,
          647.84,
          47.992,
          181.986,
          700.152,
          41.568,
          230.28,
          42.624,
          220.96,
          883.84,
          40.784,
          585.552,
          225.296,
          601.536,
          47.516,
          561.568,
          60.74,
          845.488,
          225.296,
          314.352,
          153.568,
          1013.488,
          307.92,
          51.96,
          408.422,
          539.658,
          144.784,
          90.99,
          368.97,
          113.888,
          191.646,
          81.568,
          97.184,
          188.552,
          545.94,
          123.136,
          504.9,
          195.136,
          532.704,
          241.568,
          347.802,
          390.272,
          528.43,
          318.43,
          317.058,
          113.888,
          203.92,
          603.92,
          271.764,
          662.88,
          364.41,
          361.764,
          384.174,
          281.372,
          281.372,
          271.764,
          180.98,
          408.422,
          99.372,
          33.94,
          844.116,
          191.96,
          681.408,
          127.372,
          603.92,
          368.97,
          230.28,
          563.43,
          1013.832,
          102.592,
          523.92,
          146.136,
          26.64,
          611.058,
          170.352,
          240.784,
          191.968,
          842.352,
          161.568,
          311.976,
          197.372,
          255.108,
          287.968,
          170.058,
          853.93,
          232.88,
          172.764,
          572.16,
          120.784,
          433.568,
          61.584,
          196.784,
          69.264,
          520.464,
          172.186,
          129.568,
          128.058,
          63.686,
          909.72,
          290.98,
          408.006,
          122.352,
          383.607,
          230.28,
          127.869,
          419.136,
          146.352,
          150.98,
          579.136,
          145.764,
          434.646,
          844.116,
          242.352,
          302.94,
          142.36,
          209.568,
          63.882,
          683.144,
          380.058,
          127.554,
          182.67,
          183.372,
          674.058,
          254.058,
          48.712,
          110.98,
          207.984,
          302.67,
          212.94,
          186.304,
          301.96,
          170.352,
          99.372,
          340.116,
          966.7,
          37.296,
          191.058,
          187.056,
          279.456,
          122.352,
          585.552,
          419.136,
          218.352,
          664.146,
          239.96,
          181.986,
          89.768,
          243.92,
          245.98,
          98.392,
          201.96,
          273.552,
          572.16,
          127.764,
          638.288,
          112.648,
          72.784,
          421.372,
          90.801,
          181.764,
          29.98,
          363.92,
          225.568,
          801.568,
          199.764,
          770.352,
          161.96,
          184.752,
          338.352,
          109.764,
          239.24,
          314.352,
          272.646,
          80.991,
          449.372,
          327.996,
          340.704,
          403.92,
          563.92,
          56.686,
          291.168,
          177.568,
          563.24,
          915.136,
          104.784,
          221.382,
          561.584,
          569.568,
          899.43,
          368.97,
          454.272,
          589.41,
          261.96,
          218.352,
          302.67,
          291.1,
          155.88,
          327.564,
          317.058,
          170.352,
          239.84,
          191.96,
          199.304,
          698.352,
          213.43,
          225.296,
          883.84,
          230.352,
          643.136,
          359.772,
          122.136,
          121.96,
          253.764,
          317.058,
          47.968,
          113.372,
          113.372,
          478.48,
          218.352,
          128.058,
          205.164,
          598.458,
          245.646,
          523.392,
          198.744,
          363.92,
          760.116,
          141.96,
          717.72,
          145.764,
          74.592,
          155.372,
          97.184,
          113.888,
          192.186,
          67.88,
          64.784,
          194.352,
          347.802,
          390.368,
          97.568,
          722.352,
          386.68,
          85.246,
          318.43,
          85.246,
          483.136,
          196.784,
          906.68,
          170.786,
          435.168,
          127.764,
          71.246,
          887.271,
          725.344,
          127.302,
          300.98,
          258.75,
          892.224,
          167.888,
          179.886,
          291.136,
          207.846,
          232.88,
          90.882,
          63.936,
          307.136,
          441.92,
          915.136,
          423.648,
          230.28,
          81.424,
          362.25,
          435.168,
          120.784,
          388.704,
          310.744,
          215.544,
          127.386,
          248.43,
          85.246,
          526.344,
          451.152,
          161.568,
          227.96,
          449.568,
          170.072,
          387.136,
          207,
          362.352,
          512.358,
          354.9,
          436.704,
          218.376,
          241.5,
          155.372,
          164.646,
          106.869,
          184.752,
          182.22,
          302.94,
          241.424,
          389.97,
          422.625,
          194.352,
          97.424,
          600.558,
          172.764,
          83.136,
          528.43,
          698.352,
          266.352,
          121.78,
          191.079,
          239.358,
          853.93,
          470.155,
          271.764,
          117.882,
          215.976,
          887.271,
          207.184,
          256.784,
          60.89,
          215.976,
          389.97,
          102.582,
          398.972,
          392.94,
          56.686,
          163.764,
          594.816,
          899.43,
          184.752,
          520.464,
          272.97,
          64.784,
          582.336,
          128.124,
          427.644,
          191.968,
          105.686,
          104.93,
          589.41,
          436.704,
          481.568,
          579.528,
          242.136,
          326.646,
          797.944,
          149.9,
          600.558,
          211.246,
          107.772,
          194.848,
          195.136,
          242.352,
          483.136,
          573.174,
          403.56,
          717.72,
          362.136
         ],
         "y0": " ",
         "yaxis": "y"
        },
        {
         "alignmentgroup": "True",
         "hovertemplate": "Sub-Category=Tables<br>Segment=%{x}<br>Sales=%{y}<extra></extra>",
         "legendgroup": "Tables",
         "marker": {
          "color": "#ab63fa"
         },
         "name": "Tables",
         "notched": false,
         "offsetgroup": "Tables",
         "orientation": "v",
         "showlegend": true,
         "type": "box",
         "x": [
          "Corporate",
          "Corporate",
          "Corporate",
          "Home Office",
          "Consumer",
          "Corporate",
          "Corporate",
          "Corporate",
          "Consumer",
          "Home Office",
          "Consumer",
          "Corporate",
          "Corporate",
          "Home Office",
          "Home Office",
          "Home Office",
          "Consumer",
          "Consumer",
          "Home Office",
          "Corporate",
          "Home Office",
          "Corporate",
          "Consumer",
          "Consumer",
          "Consumer",
          "Consumer",
          "Corporate",
          "Consumer",
          "Corporate",
          "Consumer",
          "Consumer",
          "Consumer",
          "Consumer",
          "Home Office",
          "Consumer",
          "Consumer",
          "Corporate",
          "Home Office",
          "Corporate",
          "Corporate",
          "Consumer",
          "Corporate",
          "Consumer",
          "Consumer",
          "Corporate",
          "Home Office",
          "Consumer",
          "Home Office",
          "Corporate",
          "Corporate",
          "Corporate",
          "Consumer",
          "Corporate",
          "Corporate",
          "Corporate",
          "Consumer",
          "Consumer",
          "Home Office",
          "Consumer",
          "Consumer",
          "Consumer",
          "Consumer",
          "Consumer",
          "Corporate",
          "Corporate",
          "Corporate",
          "Corporate",
          "Home Office",
          "Consumer",
          "Consumer",
          "Corporate",
          "Consumer",
          "Consumer",
          "Corporate",
          "Home Office",
          "Corporate",
          "Consumer",
          "Corporate",
          "Consumer",
          "Consumer",
          "Corporate",
          "Consumer",
          "Corporate",
          "Consumer",
          "Consumer",
          "Consumer",
          "Consumer",
          "Corporate",
          "Corporate",
          "Consumer",
          "Home Office",
          "Home Office",
          "Home Office",
          "Home Office",
          "Consumer",
          "Home Office",
          "Corporate",
          "Consumer",
          "Consumer",
          "Corporate",
          "Home Office",
          "Home Office",
          "Consumer",
          "Consumer",
          "Consumer",
          "Consumer",
          "Consumer",
          "Home Office",
          "Corporate",
          "Consumer",
          "Consumer",
          "Corporate",
          "Consumer",
          "Consumer",
          "Consumer",
          "Consumer",
          "Consumer",
          "Consumer",
          "Home Office",
          "Corporate",
          "Consumer",
          "Corporate",
          "Consumer",
          "Home Office",
          "Corporate",
          "Consumer",
          "Consumer",
          "Consumer",
          "Corporate",
          "Corporate",
          "Corporate",
          "Consumer",
          "Consumer",
          "Consumer",
          "Corporate",
          "Consumer",
          "Consumer",
          "Consumer",
          "Corporate",
          "Consumer",
          "Consumer",
          "Consumer",
          "Corporate",
          "Corporate",
          "Consumer"
         ],
         "x0": " ",
         "xaxis": "x",
         "y": [
          698.352,
          284.364,
          210.98,
          108.925,
          369.912,
          567.12,
          99.918,
          447.84,
          343.92,
          455.1,
          764.688,
          300.904,
          66.645,
          205.176,
          154.764,
          452.94,
          244.006,
          171.96,
          206.962,
          170.136,
          262.11,
          272.848,
          70.98,
          411.8,
          310.443,
          209.67,
          143.432,
          85.98,
          892.98,
          557.585,
          629.064,
          174.286,
          300.93,
          214.11,
          298.776,
          244.006,
          171.288,
          411.8,
          24.368,
          284.364,
          181.797,
          79.974,
          568.728,
          244.615,
          70.56,
          154.764,
          251.006,
          513.024,
          718.116,
          510.24,
          99.372,
          333,
          53.316,
          409.272,
          67.176,
          27.414,
          385.686,
          896.328,
          573.728,
          253.176,
          248.98,
          418.296,
          171.288,
          493.92,
          351.216,
          902.712,
          241.92,
          521.96,
          35.544,
          91.275,
          199.836,
          697.16,
          210.008,
          136.464,
          200.795,
          399.672,
          51.588,
          347.361,
          71.088,
          136.53,
          285.48,
          301.96,
          161.28,
          194.25,
          102.438,
          356.85,
          138.588,
          35.445,
          358.58,
          146.04,
          79.974,
          99.592,
          257.94,
          154.764,
          170.352,
          674.352,
          142.182,
          236.528,
          512.19,
          189.576,
          446.068,
          526.582,
          447.84,
          550.431,
          241.568,
          124.404,
          268.704,
          298.116,
          206.352,
          557.728,
          239.372,
          863.128,
          191.5155,
          69.375,
          486.368,
          376.509,
          902.712,
          366.009,
          286.85,
          240.744,
          607.52,
          399.672,
          517.405,
          300.904,
          120.96,
          626.352,
          489.23,
          211.372,
          127.785,
          283.56,
          73.915,
          364.776,
          568.728,
          209.148,
          103.481,
          166.5,
          673.344,
          307.314,
          730.2,
          364.08,
          71.088,
          292.1,
          71.088,
          273.568,
          85.98
         ],
         "y0": " ",
         "yaxis": "y"
        }
       ],
       "layout": {
        "boxmode": "group",
        "height": 600,
        "legend": {
         "title": {
          "text": "Sub-Category"
         },
         "tracegroupgap": 0
        },
        "template": {
         "data": {
          "bar": [
           {
            "error_x": {
             "color": "#2a3f5f"
            },
            "error_y": {
             "color": "#2a3f5f"
            },
            "marker": {
             "line": {
              "color": "#E5ECF6",
              "width": 0.5
             },
             "pattern": {
              "fillmode": "overlay",
              "size": 10,
              "solidity": 0.2
             }
            },
            "type": "bar"
           }
          ],
          "barpolar": [
           {
            "marker": {
             "line": {
              "color": "#E5ECF6",
              "width": 0.5
             },
             "pattern": {
              "fillmode": "overlay",
              "size": 10,
              "solidity": 0.2
             }
            },
            "type": "barpolar"
           }
          ],
          "carpet": [
           {
            "aaxis": {
             "endlinecolor": "#2a3f5f",
             "gridcolor": "white",
             "linecolor": "white",
             "minorgridcolor": "white",
             "startlinecolor": "#2a3f5f"
            },
            "baxis": {
             "endlinecolor": "#2a3f5f",
             "gridcolor": "white",
             "linecolor": "white",
             "minorgridcolor": "white",
             "startlinecolor": "#2a3f5f"
            },
            "type": "carpet"
           }
          ],
          "choropleth": [
           {
            "colorbar": {
             "outlinewidth": 0,
             "ticks": ""
            },
            "type": "choropleth"
           }
          ],
          "contour": [
           {
            "colorbar": {
             "outlinewidth": 0,
             "ticks": ""
            },
            "colorscale": [
             [
              0,
              "#0d0887"
             ],
             [
              0.1111111111111111,
              "#46039f"
             ],
             [
              0.2222222222222222,
              "#7201a8"
             ],
             [
              0.3333333333333333,
              "#9c179e"
             ],
             [
              0.4444444444444444,
              "#bd3786"
             ],
             [
              0.5555555555555556,
              "#d8576b"
             ],
             [
              0.6666666666666666,
              "#ed7953"
             ],
             [
              0.7777777777777778,
              "#fb9f3a"
             ],
             [
              0.8888888888888888,
              "#fdca26"
             ],
             [
              1,
              "#f0f921"
             ]
            ],
            "type": "contour"
           }
          ],
          "contourcarpet": [
           {
            "colorbar": {
             "outlinewidth": 0,
             "ticks": ""
            },
            "type": "contourcarpet"
           }
          ],
          "heatmap": [
           {
            "colorbar": {
             "outlinewidth": 0,
             "ticks": ""
            },
            "colorscale": [
             [
              0,
              "#0d0887"
             ],
             [
              0.1111111111111111,
              "#46039f"
             ],
             [
              0.2222222222222222,
              "#7201a8"
             ],
             [
              0.3333333333333333,
              "#9c179e"
             ],
             [
              0.4444444444444444,
              "#bd3786"
             ],
             [
              0.5555555555555556,
              "#d8576b"
             ],
             [
              0.6666666666666666,
              "#ed7953"
             ],
             [
              0.7777777777777778,
              "#fb9f3a"
             ],
             [
              0.8888888888888888,
              "#fdca26"
             ],
             [
              1,
              "#f0f921"
             ]
            ],
            "type": "heatmap"
           }
          ],
          "heatmapgl": [
           {
            "colorbar": {
             "outlinewidth": 0,
             "ticks": ""
            },
            "colorscale": [
             [
              0,
              "#0d0887"
             ],
             [
              0.1111111111111111,
              "#46039f"
             ],
             [
              0.2222222222222222,
              "#7201a8"
             ],
             [
              0.3333333333333333,
              "#9c179e"
             ],
             [
              0.4444444444444444,
              "#bd3786"
             ],
             [
              0.5555555555555556,
              "#d8576b"
             ],
             [
              0.6666666666666666,
              "#ed7953"
             ],
             [
              0.7777777777777778,
              "#fb9f3a"
             ],
             [
              0.8888888888888888,
              "#fdca26"
             ],
             [
              1,
              "#f0f921"
             ]
            ],
            "type": "heatmapgl"
           }
          ],
          "histogram": [
           {
            "marker": {
             "pattern": {
              "fillmode": "overlay",
              "size": 10,
              "solidity": 0.2
             }
            },
            "type": "histogram"
           }
          ],
          "histogram2d": [
           {
            "colorbar": {
             "outlinewidth": 0,
             "ticks": ""
            },
            "colorscale": [
             [
              0,
              "#0d0887"
             ],
             [
              0.1111111111111111,
              "#46039f"
             ],
             [
              0.2222222222222222,
              "#7201a8"
             ],
             [
              0.3333333333333333,
              "#9c179e"
             ],
             [
              0.4444444444444444,
              "#bd3786"
             ],
             [
              0.5555555555555556,
              "#d8576b"
             ],
             [
              0.6666666666666666,
              "#ed7953"
             ],
             [
              0.7777777777777778,
              "#fb9f3a"
             ],
             [
              0.8888888888888888,
              "#fdca26"
             ],
             [
              1,
              "#f0f921"
             ]
            ],
            "type": "histogram2d"
           }
          ],
          "histogram2dcontour": [
           {
            "colorbar": {
             "outlinewidth": 0,
             "ticks": ""
            },
            "colorscale": [
             [
              0,
              "#0d0887"
             ],
             [
              0.1111111111111111,
              "#46039f"
             ],
             [
              0.2222222222222222,
              "#7201a8"
             ],
             [
              0.3333333333333333,
              "#9c179e"
             ],
             [
              0.4444444444444444,
              "#bd3786"
             ],
             [
              0.5555555555555556,
              "#d8576b"
             ],
             [
              0.6666666666666666,
              "#ed7953"
             ],
             [
              0.7777777777777778,
              "#fb9f3a"
             ],
             [
              0.8888888888888888,
              "#fdca26"
             ],
             [
              1,
              "#f0f921"
             ]
            ],
            "type": "histogram2dcontour"
           }
          ],
          "mesh3d": [
           {
            "colorbar": {
             "outlinewidth": 0,
             "ticks": ""
            },
            "type": "mesh3d"
           }
          ],
          "parcoords": [
           {
            "line": {
             "colorbar": {
              "outlinewidth": 0,
              "ticks": ""
             }
            },
            "type": "parcoords"
           }
          ],
          "pie": [
           {
            "automargin": true,
            "type": "pie"
           }
          ],
          "scatter": [
           {
            "fillpattern": {
             "fillmode": "overlay",
             "size": 10,
             "solidity": 0.2
            },
            "type": "scatter"
           }
          ],
          "scatter3d": [
           {
            "line": {
             "colorbar": {
              "outlinewidth": 0,
              "ticks": ""
             }
            },
            "marker": {
             "colorbar": {
              "outlinewidth": 0,
              "ticks": ""
             }
            },
            "type": "scatter3d"
           }
          ],
          "scattercarpet": [
           {
            "marker": {
             "colorbar": {
              "outlinewidth": 0,
              "ticks": ""
             }
            },
            "type": "scattercarpet"
           }
          ],
          "scattergeo": [
           {
            "marker": {
             "colorbar": {
              "outlinewidth": 0,
              "ticks": ""
             }
            },
            "type": "scattergeo"
           }
          ],
          "scattergl": [
           {
            "marker": {
             "colorbar": {
              "outlinewidth": 0,
              "ticks": ""
             }
            },
            "type": "scattergl"
           }
          ],
          "scattermapbox": [
           {
            "marker": {
             "colorbar": {
              "outlinewidth": 0,
              "ticks": ""
             }
            },
            "type": "scattermapbox"
           }
          ],
          "scatterpolar": [
           {
            "marker": {
             "colorbar": {
              "outlinewidth": 0,
              "ticks": ""
             }
            },
            "type": "scatterpolar"
           }
          ],
          "scatterpolargl": [
           {
            "marker": {
             "colorbar": {
              "outlinewidth": 0,
              "ticks": ""
             }
            },
            "type": "scatterpolargl"
           }
          ],
          "scatterternary": [
           {
            "marker": {
             "colorbar": {
              "outlinewidth": 0,
              "ticks": ""
             }
            },
            "type": "scatterternary"
           }
          ],
          "surface": [
           {
            "colorbar": {
             "outlinewidth": 0,
             "ticks": ""
            },
            "colorscale": [
             [
              0,
              "#0d0887"
             ],
             [
              0.1111111111111111,
              "#46039f"
             ],
             [
              0.2222222222222222,
              "#7201a8"
             ],
             [
              0.3333333333333333,
              "#9c179e"
             ],
             [
              0.4444444444444444,
              "#bd3786"
             ],
             [
              0.5555555555555556,
              "#d8576b"
             ],
             [
              0.6666666666666666,
              "#ed7953"
             ],
             [
              0.7777777777777778,
              "#fb9f3a"
             ],
             [
              0.8888888888888888,
              "#fdca26"
             ],
             [
              1,
              "#f0f921"
             ]
            ],
            "type": "surface"
           }
          ],
          "table": [
           {
            "cells": {
             "fill": {
              "color": "#EBF0F8"
             },
             "line": {
              "color": "white"
             }
            },
            "header": {
             "fill": {
              "color": "#C8D4E3"
             },
             "line": {
              "color": "white"
             }
            },
            "type": "table"
           }
          ]
         },
         "layout": {
          "annotationdefaults": {
           "arrowcolor": "#2a3f5f",
           "arrowhead": 0,
           "arrowwidth": 1
          },
          "autotypenumbers": "strict",
          "coloraxis": {
           "colorbar": {
            "outlinewidth": 0,
            "ticks": ""
           }
          },
          "colorscale": {
           "diverging": [
            [
             0,
             "#8e0152"
            ],
            [
             0.1,
             "#c51b7d"
            ],
            [
             0.2,
             "#de77ae"
            ],
            [
             0.3,
             "#f1b6da"
            ],
            [
             0.4,
             "#fde0ef"
            ],
            [
             0.5,
             "#f7f7f7"
            ],
            [
             0.6,
             "#e6f5d0"
            ],
            [
             0.7,
             "#b8e186"
            ],
            [
             0.8,
             "#7fbc41"
            ],
            [
             0.9,
             "#4d9221"
            ],
            [
             1,
             "#276419"
            ]
           ],
           "sequential": [
            [
             0,
             "#0d0887"
            ],
            [
             0.1111111111111111,
             "#46039f"
            ],
            [
             0.2222222222222222,
             "#7201a8"
            ],
            [
             0.3333333333333333,
             "#9c179e"
            ],
            [
             0.4444444444444444,
             "#bd3786"
            ],
            [
             0.5555555555555556,
             "#d8576b"
            ],
            [
             0.6666666666666666,
             "#ed7953"
            ],
            [
             0.7777777777777778,
             "#fb9f3a"
            ],
            [
             0.8888888888888888,
             "#fdca26"
            ],
            [
             1,
             "#f0f921"
            ]
           ],
           "sequentialminus": [
            [
             0,
             "#0d0887"
            ],
            [
             0.1111111111111111,
             "#46039f"
            ],
            [
             0.2222222222222222,
             "#7201a8"
            ],
            [
             0.3333333333333333,
             "#9c179e"
            ],
            [
             0.4444444444444444,
             "#bd3786"
            ],
            [
             0.5555555555555556,
             "#d8576b"
            ],
            [
             0.6666666666666666,
             "#ed7953"
            ],
            [
             0.7777777777777778,
             "#fb9f3a"
            ],
            [
             0.8888888888888888,
             "#fdca26"
            ],
            [
             1,
             "#f0f921"
            ]
           ]
          },
          "colorway": [
           "#636efa",
           "#EF553B",
           "#00cc96",
           "#ab63fa",
           "#FFA15A",
           "#19d3f3",
           "#FF6692",
           "#B6E880",
           "#FF97FF",
           "#FECB52"
          ],
          "font": {
           "color": "#2a3f5f"
          },
          "geo": {
           "bgcolor": "white",
           "lakecolor": "white",
           "landcolor": "#E5ECF6",
           "showlakes": true,
           "showland": true,
           "subunitcolor": "white"
          },
          "hoverlabel": {
           "align": "left"
          },
          "hovermode": "closest",
          "mapbox": {
           "style": "light"
          },
          "paper_bgcolor": "white",
          "plot_bgcolor": "#E5ECF6",
          "polar": {
           "angularaxis": {
            "gridcolor": "white",
            "linecolor": "white",
            "ticks": ""
           },
           "bgcolor": "#E5ECF6",
           "radialaxis": {
            "gridcolor": "white",
            "linecolor": "white",
            "ticks": ""
           }
          },
          "scene": {
           "xaxis": {
            "backgroundcolor": "#E5ECF6",
            "gridcolor": "white",
            "gridwidth": 2,
            "linecolor": "white",
            "showbackground": true,
            "ticks": "",
            "zerolinecolor": "white"
           },
           "yaxis": {
            "backgroundcolor": "#E5ECF6",
            "gridcolor": "white",
            "gridwidth": 2,
            "linecolor": "white",
            "showbackground": true,
            "ticks": "",
            "zerolinecolor": "white"
           },
           "zaxis": {
            "backgroundcolor": "#E5ECF6",
            "gridcolor": "white",
            "gridwidth": 2,
            "linecolor": "white",
            "showbackground": true,
            "ticks": "",
            "zerolinecolor": "white"
           }
          },
          "shapedefaults": {
           "line": {
            "color": "#2a3f5f"
           }
          },
          "ternary": {
           "aaxis": {
            "gridcolor": "white",
            "linecolor": "white",
            "ticks": ""
           },
           "baxis": {
            "gridcolor": "white",
            "linecolor": "white",
            "ticks": ""
           },
           "bgcolor": "#E5ECF6",
           "caxis": {
            "gridcolor": "white",
            "linecolor": "white",
            "ticks": ""
           }
          },
          "title": {
           "x": 0.05
          },
          "xaxis": {
           "automargin": true,
           "gridcolor": "white",
           "linecolor": "white",
           "ticks": "",
           "title": {
            "standoff": 15
           },
           "zerolinecolor": "white",
           "zerolinewidth": 2
          },
          "yaxis": {
           "automargin": true,
           "gridcolor": "white",
           "linecolor": "white",
           "ticks": "",
           "title": {
            "standoff": 15
           },
           "zerolinecolor": "white",
           "zerolinewidth": 2
          }
         }
        },
        "title": {
         "text": "Per Segment Category Purchases"
        },
        "width": 800,
        "xaxis": {
         "anchor": "y",
         "domain": [
          0,
          1
         ],
         "title": {
          "text": "Segment"
         }
        },
        "yaxis": {
         "anchor": "x",
         "domain": [
          0,
          1
         ],
         "title": {
          "text": "Sales"
         }
        }
       }
      }
     },
     "metadata": {},
     "output_type": "display_data"
    }
   ],
   "source": [
    "scatter_plot = px.box(salesdf2, x='Segment', y='Sales', color='Sub-Category', title='Per Segment Category Purchases')\n",
    "scatter_plot.update_layout(\n",
    "    width=800,  \n",
    "    height=600  \n",
    ")\n",
    "scatter_plot.show()"
   ]
  },
  {
   "cell_type": "markdown",
   "id": "5fba18e5",
   "metadata": {},
   "source": [
    "## Export Cleaned Dataset Into CSV"
   ]
  },
  {
   "cell_type": "code",
   "execution_count": 36,
   "id": "b0a7b826",
   "metadata": {},
   "outputs": [],
   "source": [
    "salesdf2.to_csv(r\"D:\\data_lecture\\FIKTIL-datAnal\\exampro\\cleaned_sales.csv\", index=False)\n",
    "# D:\\data_lecture\\FIKTIL-datAnal\\exampro"
   ]
  }
 ],
 "metadata": {
  "kernelspec": {
   "display_name": "Python 3 (ipykernel)",
   "language": "python",
   "name": "python3"
  },
  "language_info": {
   "codemirror_mode": {
    "name": "ipython",
    "version": 3
   },
   "file_extension": ".py",
   "mimetype": "text/x-python",
   "name": "python",
   "nbconvert_exporter": "python",
   "pygments_lexer": "ipython3",
   "version": "3.11.8"
  }
 },
 "nbformat": 4,
 "nbformat_minor": 5
}
